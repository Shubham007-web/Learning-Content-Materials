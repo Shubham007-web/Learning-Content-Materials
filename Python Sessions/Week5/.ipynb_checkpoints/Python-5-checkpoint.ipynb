{
 "cells": [
  {
   "cell_type": "markdown",
   "id": "0fc5dfae",
   "metadata": {},
   "source": [
    "<h1><p style=\"text-align: center; color: green;\">Numpy</p></h1>\n",
    "<a class=\"anchor\" id=\"intro\"></a>\n"
   ]
  },
  {
   "cell_type": "markdown",
   "id": "b6e4f410",
   "metadata": {},
   "source": [
    "\n",
    "<img src=\"https://upload.wikimedia.org/wikipedia/commons/thumb/3/31/NumPy_logo_2020.svg/1920px-NumPy_logo_2020.svg.png\" alt=\"Picture\" width=\"600\"/> "
   ]
  },
  {
   "cell_type": "markdown",
   "id": "b9c98163",
   "metadata": {},
   "source": [
    " \n",
    "## Table of Contents\n",
    "1. [Introduction to NumPy](#intro)\n",
    "    - [What is NumPy?](#num)\n",
    "    - [Installation and setup](#install)\n",
    "    - [Importing NumPy](#import)\n",
    "    - [Why use NumPy?](#use_num)\n",
    "2. [NumPy Arrays](#numArr)\n",
    "    - [Creating NumPy arrays](#create_array)\n",
    "    - [Attributes of a NumPy](#num_attri)\n",
    "    - [Indexing and slicing arrays](#indexing)\n",
    "    - [Modifying array elements](#modify)\n",
    "    - [Iterating Arrays](#iteration)\n",
    "    - [Array mathmatical operations](#operation)\n",
    "3. [Array Manipulation](#arr)\n",
    "    - [Reshaping arrays](#reshape)\n",
    "    - [Transposing arrays](#transpose)\n",
    "    - [Flattening arrays](#flat)\n",
    "    - [Combining an arrays](#combine)\n",
    "    - [Stack](#stack)\n",
    "4. [NumPy Data Types](#numData)\n",
    "    - [NumPy data types](#data_types)\n",
    "    - [Type casting](#type)\n",
    "    - [Understanding precision](#pre)\n",
    "5. [Broadcasting](#broad)\n",
    "\n",
    "6. [Advanced NumPy](#advance)\n",
    "    - [Aggregation](#aggre)\n",
    "    - [Random number generation](#rng)\n",
    "    - [Sorting arrays](#sort)\n",
    "    - [Filtering arrays](#fliter)\n",
    "    - [Linear algebra operations](#lao)\n",
    "        - Matrix multiplication\n",
    "        - Matrix inversion\n",
    "      \n"
   ]
  },
  {
   "cell_type": "markdown",
   "id": "c90956c2",
   "metadata": {},
   "source": [
    "<h2><p style=\"text-align: center;\"> 1. Introduction to NumPy</p></h2> <a class = 'anchor' id = 'intro'></a> \n",
    "\n",
    "### What is NumPy? <a class = 'anchor' id  = 'num'></a>\n",
    "\n",
    "- [NumPy](https://numpy.org/doc/) is a Python library that is used for **scientific computing**. \n",
    "- It provides data structures for efficient computation of multi-dimensional arrays and matrices, as well as a large collection of **high-level mathematical functions** to operate on these arrays."
   ]
  },
  {
   "cell_type": "markdown",
   "id": "91c73dae",
   "metadata": {},
   "source": [
    "-----\n",
    "\n",
    "NumPy lies at the core of a rich ecosystem of data science libraries. A typical exploratory data science workflow might look like:\n",
    "\n",
    "![Numpy_DS](https://numpy.org/images/content_images/ds-landscape.png)\n",
    "\n",
    "- Extract, Transform, Load: Pandas, Intake, PyJanitor\n",
    "- Exploratory analysis: Jupyter, Seaborn, Matplotlib, Altair\n",
    "- Model and evaluate: scikit-learn, statsmodels, PyMC3, spaCy\n",
    "- Report in a dashboard: Dash, Panel, Voila\n",
    "\n",
    "![Numpy_DS_landscape](https://numpy.org/images/content_images/data-science.png)\n",
    "\n",
    "\n",
    "For high data volumes, Dask and Ray are designed to scale. Stable deployments rely on data versioning (DVC), experiment tracking (MLFlow), and workflow automation (Airflow and Prefect).\n"
   ]
  },
  {
   "attachments": {
    "image-3.png": {
     "image/png": "[encoded data removed]"
    }
   },
   "cell_type": "markdown",
   "id": "d1b6cbad",
   "metadata": {},
   "source": [
    "### Installation and Setup <a class = 'anchor' id = 'install'></a>\n",
    "We can install NumPy using pip, a package installer for Python:\n",
    "```\n",
    "pip install numpy\n",
    "```\n",
    "![image-3.png](attachment:image-3.png)\n",
    "### Importing NumPy <a class = 'anchor' id  = 'import'></a>\n",
    "Once we have NumPy installed, we can import it in our Python code:\n",
    "```\n",
    "import numpy as np\n",
    "```"
   ]
  },
  {
   "cell_type": "code",
   "execution_count": 1,
   "id": "b9e9db4f",
   "metadata": {},
   "outputs": [],
   "source": [
    "import numpy as np"
   ]
  },
  {
   "cell_type": "markdown",
   "id": "54266825",
   "metadata": {},
   "source": [
    "### Why use NumPy? <a class  = 'anchor' id = \"use_num\"></a>\n",
    "- NumPy is used extensively in **[scientific computing](https://towardsdatascience.com/numpy-the-king-of-scientific-computing-with-python-d1de680b811d#:~:text=NumPy%20is%20a%20Linear%20Algebra,for%20working%20with%20these%20arrays.), [data science](https://realpython.com/numpy-tutorial/#:~:text=in%20this%20tutorial.-,Choosing%20NumPy%3A%20The%20Benefits,you%20expand%20your%20knowledge%20into%20more%20specific%20areas%20of%20data%20science.,-Remove%20ads), [machine learning](https://medium.com/mlpoint/numpy-for-machine-learning-211a3e58b574), and computational science**.\n",
    "- NumPy enables efficient manipulation of large datasets and faster mathematical computations compared to Python lists.\n",
    "- It provides additional functionalities like linear algebra, Fourier transforms, and random number generation.\n",
    "- With optimized data storage and customizable data types, NumPy arrays consume less memory and offer superior code optimization..  "
   ]
  },
  {
   "cell_type": "markdown",
   "id": "ff249ab2",
   "metadata": {},
   "source": [
    "#### (a) NumPy provides efficient storage"
   ]
  },
  {
   "cell_type": "code",
   "execution_count": 10,
   "id": "b10c57fe",
   "metadata": {},
   "outputs": [
    {
     "data": {
      "text/plain": [
       "[3, 4, 5, 6, 7, 8, 9]"
      ]
     },
     "execution_count": 10,
     "metadata": {},
     "output_type": "execute_result"
    }
   ],
   "source": [
    "import numpy as np\n",
    "import sys\n",
    "lst = list(range(3,10))\n",
    "type(lst)\n",
    "lst"
   ]
  },
  {
   "cell_type": "code",
   "execution_count": 12,
   "id": "fef85e90",
   "metadata": {},
   "outputs": [
    {
     "data": {
      "text/plain": [
       "196"
      ]
     },
     "execution_count": 12,
     "metadata": {},
     "output_type": "execute_result"
    }
   ],
   "source": [
    "sys.getsizeof(3) * len(lst)"
   ]
  },
  {
   "cell_type": "code",
   "execution_count": null,
   "id": "5a196f33",
   "metadata": {},
   "outputs": [],
   "source": []
  },
  {
   "cell_type": "code",
   "execution_count": 9,
   "id": "0fcb5033",
   "metadata": {},
   "outputs": [
    {
     "data": {
      "text/plain": [
       "array([3, 4, 5, 6, 7, 8, 9])"
      ]
     },
     "execution_count": 9,
     "metadata": {},
     "output_type": "execute_result"
    }
   ],
   "source": [
    "a = np.array(lst)\n",
    "type(a)\n",
    "a"
   ]
  },
  {
   "cell_type": "code",
   "execution_count": 13,
   "id": "eac19a38",
   "metadata": {},
   "outputs": [
    {
     "data": {
      "text/plain": [
       "28"
      ]
     },
     "execution_count": 13,
     "metadata": {},
     "output_type": "execute_result"
    }
   ],
   "source": [
    "a.itemsize * len(a)"
   ]
  },
  {
   "cell_type": "code",
   "execution_count": null,
   "id": "87f98b2c",
   "metadata": {},
   "outputs": [],
   "source": []
  },
  {
   "cell_type": "code",
   "execution_count": 14,
   "id": "d37ba306",
   "metadata": {},
   "outputs": [
    {
     "name": "stdout",
     "output_type": "stream",
     "text": [
      "Size of the list :  168 Bytes\n",
      "The size of array : 24 Bytes\n"
     ]
    }
   ],
   "source": [
    "import sys\n",
    "import numpy as np\n",
    "lst = [1, 2, 3, 4, 5, 6]  \n",
    "a = np.array(lst)     # for now, let's assume, we see in next section\n",
    "print(f'Size of the list :  {sys.getsizeof(5) *len(lst)} Bytes')\n",
    "print(f'The size of array : {a.itemsize * len(a)} Bytes')"
   ]
  },
  {
   "cell_type": "markdown",
   "id": "9b110bc9",
   "metadata": {},
   "source": [
    "#### (b) **Mathematical Operation with Numpy and python List**  \n",
    "In comparing mathematical operations between Numpy arrays and Python lists, we aim to determine the ease of use. We will perform basic operations such as **addition, subtraction**, and **multiplication** to evaluate their simplicity and efficiency.\n"
   ]
  },
  {
   "cell_type": "code",
   "execution_count": 16,
   "id": "a3179834",
   "metadata": {},
   "outputs": [],
   "source": [
    "x = [1,2,3,4,5,6,7]\n",
    "y = [5,6,2,7,2,9,1]"
   ]
  },
  {
   "cell_type": "code",
   "execution_count": 17,
   "id": "44ac3ec9",
   "metadata": {},
   "outputs": [
    {
     "data": {
      "text/plain": [
       "[5, 12, 6, 28, 10, 54, 7]"
      ]
     },
     "execution_count": 17,
     "metadata": {},
     "output_type": "execute_result"
    }
   ],
   "source": [
    "[n1 * n2 for n1, n2 in zip(x,y)]"
   ]
  },
  {
   "cell_type": "code",
   "execution_count": 18,
   "id": "0ec8334d",
   "metadata": {},
   "outputs": [
    {
     "data": {
      "text/plain": [
       "array([1, 2, 3, 4, 5, 6, 7])"
      ]
     },
     "execution_count": 18,
     "metadata": {},
     "output_type": "execute_result"
    }
   ],
   "source": [
    "a1 = np.array(x)\n",
    "a1"
   ]
  },
  {
   "cell_type": "code",
   "execution_count": 19,
   "id": "c3f4855c",
   "metadata": {},
   "outputs": [
    {
     "data": {
      "text/plain": [
       "array([5, 6, 2, 7, 2, 9, 1])"
      ]
     },
     "execution_count": 19,
     "metadata": {},
     "output_type": "execute_result"
    }
   ],
   "source": [
    "a2 = np.array(y)\n",
    "a2"
   ]
  },
  {
   "cell_type": "code",
   "execution_count": 20,
   "id": "b2a5b8f3",
   "metadata": {},
   "outputs": [
    {
     "data": {
      "text/plain": [
       "array([ 5, 12,  6, 28, 10, 54,  7])"
      ]
     },
     "execution_count": 20,
     "metadata": {},
     "output_type": "execute_result"
    }
   ],
   "source": [
    "a1 * a2"
   ]
  },
  {
   "cell_type": "code",
   "execution_count": null,
   "id": "0a0c4b32",
   "metadata": {},
   "outputs": [],
   "source": []
  },
  {
   "cell_type": "code",
   "execution_count": 3,
   "id": "a69c241a",
   "metadata": {},
   "outputs": [
    {
     "name": "stdout",
     "output_type": "stream",
     "text": [
      "Numpy array addition: [5 7 9]\n"
     ]
    }
   ],
   "source": [
    "# Numpy array addition\n",
    "numpy_array1 = np.array([1, 2, 3])\n",
    "numpy_array2 = np.array([4, 5, 6])\n",
    "numpy_result = numpy_array1 + numpy_array2\n",
    "print(\"Numpy array addition:\", numpy_result)"
   ]
  },
  {
   "cell_type": "code",
   "execution_count": 4,
   "id": "89ad6564",
   "metadata": {},
   "outputs": [
    {
     "name": "stdout",
     "output_type": "stream",
     "text": [
      "Python list addition: [5, 7, 9]\n"
     ]
    }
   ],
   "source": [
    "# Python list addition\n",
    "python_list1 = [1, 2, 3]\n",
    "python_list2 = [4, 5, 6]\n",
    "python_result = [a + b for a, b in zip(python_list1, python_list2)]\n",
    "print(\"Python list addition:\", python_result)"
   ]
  },
  {
   "cell_type": "code",
   "execution_count": 5,
   "id": "6284eacd",
   "metadata": {},
   "outputs": [
    {
     "name": "stdout",
     "output_type": "stream",
     "text": [
      "Numpy array subtraction: [-3 -3 -3]\n"
     ]
    }
   ],
   "source": [
    "# Numpy array subtraction\n",
    "numpy_array1 = np.array([1, 2, 3])\n",
    "numpy_array2 = np.array([4, 5, 6])\n",
    "numpy_result = numpy_array1 - numpy_array2\n",
    "print(\"Numpy array subtraction:\", numpy_result)"
   ]
  },
  {
   "cell_type": "code",
   "execution_count": 6,
   "id": "309f84ca",
   "metadata": {},
   "outputs": [
    {
     "name": "stdout",
     "output_type": "stream",
     "text": [
      "Python list subtraction: [-3, -3, -3]\n"
     ]
    }
   ],
   "source": [
    "# Python list subtraction\n",
    "python_list1 = [1, 2, 3]\n",
    "python_list2 = [4, 5, 6]\n",
    "python_result = [a - b for a, b in zip(python_list1, python_list2)]\n",
    "print(\"Python list subtraction:\", python_result)"
   ]
  },
  {
   "cell_type": "code",
   "execution_count": 7,
   "id": "5c14d763",
   "metadata": {},
   "outputs": [
    {
     "name": "stdout",
     "output_type": "stream",
     "text": [
      "Numpy array multiplication: [ 4 10 18]\n"
     ]
    }
   ],
   "source": [
    "# Numpy array multiplication\n",
    "numpy_array1 = np.array([1, 2, 3])\n",
    "numpy_array2 = np.array([4, 5, 6])\n",
    "numpy_result = numpy_array1 * numpy_array2\n",
    "print(\"Numpy array multiplication:\", numpy_result)"
   ]
  },
  {
   "cell_type": "code",
   "execution_count": 8,
   "id": "7906c78a",
   "metadata": {},
   "outputs": [
    {
     "name": "stdout",
     "output_type": "stream",
     "text": [
      "Python list multiplication: [4, 10, 18]\n"
     ]
    }
   ],
   "source": [
    "# Python list multiplication\n",
    "python_list1 = [1, 2, 3]\n",
    "python_list2 = [4, 5, 6]\n",
    "python_result = [a * b for a, b in zip(python_list1, python_list2)]\n",
    "print(\"Python list multiplication:\", python_result)\n"
   ]
  },
  {
   "cell_type": "markdown",
   "id": "9a5c0bc5",
   "metadata": {},
   "source": [
    "- By comparing these examples, we can observe that **`Numpy`** provides **more concise and efficient code for performing mathematical operations on arrays compared to traditional Python lists**.\n",
    "- Additionally, Numpy operations are executed element-wise by default, which simplifies the code and increases performance."
   ]
  },
  {
   "cell_type": "markdown",
   "id": "a550ad76",
   "metadata": {},
   "source": [
    "#### (c) NumPy is faster than list\n",
    "NumPy demonstrates **superior performance** compared to Python lists in terms of speed and efficiency due to its optimized implementation and **element-wise operations**."
   ]
  },
  {
   "cell_type": "code",
   "execution_count": 24,
   "id": "0f584fe9",
   "metadata": {},
   "outputs": [
    {
     "data": {
      "text/plain": [
       "0.1642754077911377"
      ]
     },
     "execution_count": 24,
     "metadata": {},
     "output_type": "execute_result"
    }
   ],
   "source": [
    "import time\n",
    "l1 = list(range(1000000))\n",
    "l2 = list(range(1000000))\n",
    "\n",
    "t1 = time.time()\n",
    "\n",
    "[x * y for x, y in zip(l1,l2)]\n",
    "\n",
    "t2 = time.time()\n",
    "\n",
    "t2 - t1"
   ]
  },
  {
   "cell_type": "code",
   "execution_count": 25,
   "id": "a9df74a0",
   "metadata": {},
   "outputs": [
    {
     "data": {
      "text/plain": [
       "0.0030012130737304688"
      ]
     },
     "execution_count": 25,
     "metadata": {},
     "output_type": "execute_result"
    }
   ],
   "source": [
    "a1 = np.array(l1)\n",
    "a2 = np.array(l2)\n",
    "\n",
    "t1 = time.time()\n",
    "\n",
    "a1 * a2\n",
    "\n",
    "t2 = time.time()\n",
    "\n",
    "t2 -t1"
   ]
  },
  {
   "cell_type": "code",
   "execution_count": null,
   "id": "0fdf724c",
   "metadata": {},
   "outputs": [],
   "source": []
  },
  {
   "cell_type": "code",
   "execution_count": null,
   "id": "e509d059",
   "metadata": {},
   "outputs": [],
   "source": []
  },
  {
   "cell_type": "code",
   "execution_count": null,
   "id": "23709eae",
   "metadata": {},
   "outputs": [],
   "source": []
  },
  {
   "cell_type": "code",
   "execution_count": null,
   "id": "15c09d52",
   "metadata": {},
   "outputs": [],
   "source": []
  },
  {
   "cell_type": "code",
   "execution_count": 9,
   "id": "177978bd",
   "metadata": {},
   "outputs": [
    {
     "name": "stdout",
     "output_type": "stream",
     "text": [
      "List operational time :  136.7361545562744 ms\n"
     ]
    }
   ],
   "source": [
    "# Let's some mathematical operation between two arrays and list,and how much time these takes\n",
    "import time\n",
    "n = 1000000\n",
    "L1 = [x for x in range(n)]  # defined list of numbers from 0 to n-1\n",
    "L2 = [x for x in range(n)]\n",
    "\n",
    "t1 = time.time()  # time before excuation\n",
    "# mathematical operation these two list\n",
    "out = [(x*y) for x, y in zip(L1,L2)]    # element wise multipication of two list of numbers\n",
    "\n",
    "t2 = time.time()  # time after excuation\n",
    "\n",
    "print('List operational time : ', (t2 - t1)*1000,'ms')"
   ]
  },
  {
   "cell_type": "code",
   "execution_count": 10,
   "id": "695f8e45",
   "metadata": {},
   "outputs": [
    {
     "name": "stdout",
     "output_type": "stream",
     "text": [
      "NumPy array operational time: 0.514984130859375 ms\n"
     ]
    }
   ],
   "source": [
    "# same mathematical operation with NumPy array\n",
    "a1 = np.arange(n) # create a NumPy array of numbers from 0 to n-1\n",
    "a2 = np.arange(n)\n",
    "\n",
    "t1 = time.time()   # time before excuation\n",
    "\n",
    "out1 = a1*a2       # element wise multipication of two arrays\n",
    "\n",
    "t2 = time.time()  # time after excuation\n",
    "print('NumPy array operational time:', (t2 - t1) * 1000, 'ms')"
   ]
  },
  {
   "cell_type": "markdown",
   "id": "38f5a7c1",
   "metadata": {},
   "source": [
    "Based on the above findings, \n",
    "- We can conclude that NumPy is **easy to use, requires less memory, and performs computations faster**. \n",
    "- These qualities make NumPy a **convenient and efficient tool** for performing mathematical operations."
   ]
  },
  {
   "cell_type": "markdown",
   "id": "c507a97f",
   "metadata": {},
   "source": [
    "<h2><p style=\"text-align: center;\"> 2.NumPy Arrays</p></h2> <a class = 'anchor' id  = 'numArr'></a>   "
   ]
  },
  {
   "attachments": {
    "image-2.png": {
     "image/png": "[encoded data removed]"
    }
   },
   "cell_type": "markdown",
   "id": "825879c4",
   "metadata": {},
   "source": [
    "### Creating NumPy array <a class = 'anchor' id = create_array></a>\n",
    "There are following ways is used to create a numpy array:\n",
    "![image-2.png](attachment:image-2.png)  \n",
    "1.[**np.array()**](https://numpy.org/doc/stable/reference/generated/numpy.array.html) "
   ]
  },
  {
   "cell_type": "code",
   "execution_count": 26,
   "id": "62f9a681",
   "metadata": {},
   "outputs": [
    {
     "data": {
      "text/plain": [
       "array([3, 4, 7, 9])"
      ]
     },
     "execution_count": 26,
     "metadata": {},
     "output_type": "execute_result"
    }
   ],
   "source": [
    "import numpy as np\n",
    "np.array([3,4,7,9])"
   ]
  },
  {
   "cell_type": "code",
   "execution_count": 29,
   "id": "2109ec9a",
   "metadata": {},
   "outputs": [
    {
     "data": {
      "text/plain": [
       "array([ 1,  4,  7, 10, 13])"
      ]
     },
     "execution_count": 29,
     "metadata": {},
     "output_type": "execute_result"
    }
   ],
   "source": [
    "# np.arange()\n",
    "np.arange(1,16,3)"
   ]
  },
  {
   "cell_type": "code",
   "execution_count": 31,
   "id": "44578d0c",
   "metadata": {},
   "outputs": [
    {
     "data": {
      "text/plain": [
       "array([ 1.  ,  3.25,  5.5 ,  7.75, 10.  ])"
      ]
     },
     "execution_count": 31,
     "metadata": {},
     "output_type": "execute_result"
    }
   ],
   "source": [
    "# linspace()\n",
    "np.linspace(1,10,5)"
   ]
  },
  {
   "cell_type": "code",
   "execution_count": 33,
   "id": "918f16db",
   "metadata": {},
   "outputs": [
    {
     "data": {
      "text/plain": [
       "array([ 1.        ,  1.18367347,  1.36734694,  1.55102041,  1.73469388,\n",
       "        1.91836735,  2.10204082,  2.28571429,  2.46938776,  2.65306122,\n",
       "        2.83673469,  3.02040816,  3.20408163,  3.3877551 ,  3.57142857,\n",
       "        3.75510204,  3.93877551,  4.12244898,  4.30612245,  4.48979592,\n",
       "        4.67346939,  4.85714286,  5.04081633,  5.2244898 ,  5.40816327,\n",
       "        5.59183673,  5.7755102 ,  5.95918367,  6.14285714,  6.32653061,\n",
       "        6.51020408,  6.69387755,  6.87755102,  7.06122449,  7.24489796,\n",
       "        7.42857143,  7.6122449 ,  7.79591837,  7.97959184,  8.16326531,\n",
       "        8.34693878,  8.53061224,  8.71428571,  8.89795918,  9.08163265,\n",
       "        9.26530612,  9.44897959,  9.63265306,  9.81632653, 10.        ])"
      ]
     },
     "execution_count": 33,
     "metadata": {},
     "output_type": "execute_result"
    }
   ],
   "source": [
    "np.linspace(1,10,50)"
   ]
  },
  {
   "cell_type": "code",
   "execution_count": 34,
   "id": "e3ba868f",
   "metadata": {},
   "outputs": [
    {
     "data": {
      "text/plain": [
       "array([  10.,  100., 1000.])"
      ]
     },
     "execution_count": 34,
     "metadata": {},
     "output_type": "execute_result"
    }
   ],
   "source": [
    "# logspace()\n",
    "np.logspace(1,3,3)"
   ]
  },
  {
   "cell_type": "code",
   "execution_count": 37,
   "id": "1ecb07a1",
   "metadata": {},
   "outputs": [
    {
     "data": {
      "text/plain": [
       "array([1.00000000e+01, 1.20679264e+01, 1.45634848e+01, 1.75751062e+01,\n",
       "       2.12095089e+01, 2.55954792e+01, 3.08884360e+01, 3.72759372e+01,\n",
       "       4.49843267e+01, 5.42867544e+01, 6.55128557e+01, 7.90604321e+01,\n",
       "       9.54095476e+01, 1.15139540e+02, 1.38949549e+02, 1.67683294e+02,\n",
       "       2.02358965e+02, 2.44205309e+02, 2.94705170e+02, 3.55648031e+02,\n",
       "       4.29193426e+02, 5.17947468e+02, 6.25055193e+02, 7.54312006e+02,\n",
       "       9.10298178e+02, 1.09854114e+03, 1.32571137e+03, 1.59985872e+03,\n",
       "       1.93069773e+03, 2.32995181e+03, 2.81176870e+03, 3.39322177e+03,\n",
       "       4.09491506e+03, 4.94171336e+03, 5.96362332e+03, 7.19685673e+03,\n",
       "       8.68511374e+03, 1.04811313e+04, 1.26485522e+04, 1.52641797e+04,\n",
       "       1.84206997e+04, 2.22299648e+04, 2.68269580e+04, 3.23745754e+04,\n",
       "       3.90693994e+04, 4.71486636e+04, 5.68986603e+04, 6.86648845e+04,\n",
       "       8.28642773e+04, 1.00000000e+05])"
      ]
     },
     "execution_count": 37,
     "metadata": {},
     "output_type": "execute_result"
    }
   ],
   "source": [
    "np.logspace(1,5)"
   ]
  },
  {
   "cell_type": "code",
   "execution_count": 42,
   "id": "7c7d9550",
   "metadata": {},
   "outputs": [
    {
     "data": {
      "text/plain": [
       "array([[0., 0., 0.],\n",
       "       [0., 0., 0.]])"
      ]
     },
     "execution_count": 42,
     "metadata": {},
     "output_type": "execute_result"
    }
   ],
   "source": [
    "np.zeros((2,3))"
   ]
  },
  {
   "cell_type": "code",
   "execution_count": 44,
   "id": "f3d1e77e",
   "metadata": {},
   "outputs": [
    {
     "data": {
      "text/plain": [
       "array([[1., 1., 1.],\n",
       "       [1., 1., 1.],\n",
       "       [1., 1., 1.]])"
      ]
     },
     "execution_count": 44,
     "metadata": {},
     "output_type": "execute_result"
    }
   ],
   "source": [
    "np.ones((3,3))"
   ]
  },
  {
   "cell_type": "code",
   "execution_count": 46,
   "id": "54be07cc",
   "metadata": {},
   "outputs": [
    {
     "data": {
      "text/plain": [
       "array([[1., 0., 0., 0.],\n",
       "       [0., 1., 0., 0.],\n",
       "       [0., 0., 1., 0.],\n",
       "       [0., 0., 0., 1.]])"
      ]
     },
     "execution_count": 46,
     "metadata": {},
     "output_type": "execute_result"
    }
   ],
   "source": [
    "np.identity(4)"
   ]
  },
  {
   "cell_type": "code",
   "execution_count": null,
   "id": "b6ca4b7d",
   "metadata": {},
   "outputs": [],
   "source": []
  },
  {
   "cell_type": "code",
   "execution_count": 11,
   "id": "367f2e6e",
   "metadata": {},
   "outputs": [
    {
     "data": {
      "text/plain": [
       "array([1, 2, 3])"
      ]
     },
     "execution_count": 11,
     "metadata": {},
     "output_type": "execute_result"
    }
   ],
   "source": [
    "import numpy as np\n",
    "a = np.array([1, 2, 3])\n",
    "a"
   ]
  },
  {
   "cell_type": "markdown",
   "id": "36145dbb",
   "metadata": {},
   "source": [
    "To create a NumPy array, you can use the function ```np.array()```.\n",
    "\n",
    "All we need to do to create a simple array is pass a list to it. If we choose to, we can also specify the type of data in our list.\n",
    "\n",
    "We can visualize our array this way:\n",
    "![np_array](https://numpy.org/doc/stable/_images/np_array.png)"
   ]
  },
  {
   "cell_type": "markdown",
   "id": "522ed090",
   "metadata": {},
   "source": [
    "`np.arange()` is an array and it works the same as built-in **range()** but there one difference is it creates an array."
   ]
  },
  {
   "cell_type": "code",
   "execution_count": 12,
   "id": "03b11be4",
   "metadata": {},
   "outputs": [
    {
     "data": {
      "text/plain": [
       "array([0, 1, 2, 3, 4])"
      ]
     },
     "execution_count": 12,
     "metadata": {},
     "output_type": "execute_result"
    }
   ],
   "source": [
    "np.arange(5)"
   ]
  },
  {
   "cell_type": "code",
   "execution_count": 13,
   "id": "4b017d54",
   "metadata": {},
   "outputs": [
    {
     "data": {
      "text/plain": [
       "array([1, 2, 3, 4, 5])"
      ]
     },
     "execution_count": 13,
     "metadata": {},
     "output_type": "execute_result"
    }
   ],
   "source": [
    "np.arange(1,6)"
   ]
  },
  {
   "cell_type": "code",
   "execution_count": 14,
   "id": "a8ce8473",
   "metadata": {},
   "outputs": [
    {
     "data": {
      "text/plain": [
       "array([ 1,  5,  9, 13, 17])"
      ]
     },
     "execution_count": 14,
     "metadata": {},
     "output_type": "execute_result"
    }
   ],
   "source": [
    "np.arange(1,21,4)"
   ]
  },
  {
   "cell_type": "code",
   "execution_count": null,
   "id": "9529093b",
   "metadata": {},
   "outputs": [],
   "source": [
    "np.linspace(1)"
   ]
  },
  {
   "cell_type": "code",
   "execution_count": null,
   "id": "c40e400e",
   "metadata": {},
   "outputs": [],
   "source": []
  },
  {
   "attachments": {
    "image.png": {
     "image/png": "[encoded data removed]"
    }
   },
   "cell_type": "markdown",
   "id": "59b7f8a6",
   "metadata": {},
   "source": [
    "### Note: To know more about the functions (or methods), we can press `shift + Tab`,  will display more information about the function.\n",
    "![image.png](attachment:image.png)"
   ]
  },
  {
   "cell_type": "code",
   "execution_count": 15,
   "id": "f2d848c1",
   "metadata": {},
   "outputs": [
    {
     "data": {
      "text/plain": [
       "array([ 1.,  2.,  3.,  4.,  5.,  6.,  7.,  8.,  9., 10., 11., 12., 13.,\n",
       "       14., 15., 16., 17., 18., 19., 20., 21., 22., 23., 24., 25., 26.,\n",
       "       27., 28., 29., 30., 31., 32., 33., 34., 35., 36., 37., 38., 39.,\n",
       "       40., 41., 42., 43., 44., 45., 46., 47., 48., 49., 50.])"
      ]
     },
     "execution_count": 15,
     "metadata": {},
     "output_type": "execute_result"
    }
   ],
   "source": [
    "# np.linspace(a,b), it will create linear data point (numbers) from a to b with 50 data points (50 by default) \n",
    "np.linspace(1,50)"
   ]
  },
  {
   "cell_type": "code",
   "execution_count": 16,
   "id": "ee135fc7",
   "metadata": {},
   "outputs": [
    {
     "data": {
      "text/plain": [
       "array([ 1.  ,  3.25,  5.5 ,  7.75, 10.  ])"
      ]
     },
     "execution_count": 16,
     "metadata": {},
     "output_type": "execute_result"
    }
   ],
   "source": [
    "np.linspace(1,10,5)"
   ]
  },
  {
   "cell_type": "code",
   "execution_count": 17,
   "id": "7459752a",
   "metadata": {},
   "outputs": [
    {
     "data": {
      "text/plain": [
       "array([  10.,  100., 1000.])"
      ]
     },
     "execution_count": 17,
     "metadata": {},
     "output_type": "execute_result"
    }
   ],
   "source": [
    "# np.logspace(a,b), we will logrithimc data points between a to b\n",
    "np.logspace(1,3,3)  # defualt value of data points 50 but here we put 3"
   ]
  },
  {
   "cell_type": "code",
   "execution_count": 18,
   "id": "99c38ced",
   "metadata": {},
   "outputs": [
    {
     "data": {
      "text/plain": [
       "array([0., 0., 0.])"
      ]
     },
     "execution_count": 18,
     "metadata": {},
     "output_type": "execute_result"
    }
   ],
   "source": [
    "# np.zeros(), it will an array, that has all element zeros\n",
    "np.zeros(3)"
   ]
  },
  {
   "cell_type": "code",
   "execution_count": 19,
   "id": "82c13eee",
   "metadata": {},
   "outputs": [
    {
     "data": {
      "text/plain": [
       "array([[0., 0., 0.],\n",
       "       [0., 0., 0.]])"
      ]
     },
     "execution_count": 19,
     "metadata": {},
     "output_type": "execute_result"
    }
   ],
   "source": [
    "np.zeros((2,3))  # 2 x 3 array"
   ]
  },
  {
   "cell_type": "code",
   "execution_count": 20,
   "id": "2039c72c",
   "metadata": {},
   "outputs": [
    {
     "data": {
      "text/plain": [
       "array([1., 1., 1.])"
      ]
     },
     "execution_count": 20,
     "metadata": {},
     "output_type": "execute_result"
    }
   ],
   "source": [
    "# np.ones(), works same as zeros but all the element 1\n",
    "np.ones(3)"
   ]
  },
  {
   "cell_type": "code",
   "execution_count": 21,
   "id": "8b93fb15",
   "metadata": {},
   "outputs": [
    {
     "data": {
      "text/plain": [
       "array([[1., 1., 1., 1.],\n",
       "       [1., 1., 1., 1.]])"
      ]
     },
     "execution_count": 21,
     "metadata": {},
     "output_type": "execute_result"
    }
   ],
   "source": [
    "np.ones((2,4))"
   ]
  },
  {
   "cell_type": "code",
   "execution_count": 22,
   "id": "b0f2f9cf",
   "metadata": {},
   "outputs": [
    {
     "data": {
      "text/plain": [
       "array([[1., 0., 0.],\n",
       "       [0., 1., 0.],\n",
       "       [0., 0., 1.]])"
      ]
     },
     "execution_count": 22,
     "metadata": {},
     "output_type": "execute_result"
    }
   ],
   "source": [
    "# np.identity(n), will create n x n identity array\n",
    "np.identity(3)"
   ]
  },
  {
   "cell_type": "code",
   "execution_count": 23,
   "id": "72176f3f",
   "metadata": {},
   "outputs": [
    {
     "data": {
      "text/plain": [
       "array([[3, 0, 0],\n",
       "       [0, 4, 0],\n",
       "       [0, 0, 1]])"
      ]
     },
     "execution_count": 23,
     "metadata": {},
     "output_type": "execute_result"
    }
   ],
   "source": [
    "# np.diag([..diagonal elements]), create diagonal array\n",
    "np.diag([3,4,1])"
   ]
  },
  {
   "attachments": {
    "image-2.png": {
     "image/png": "[encoded data removed]"
    }
   },
   "cell_type": "markdown",
   "id": "24e40eef",
   "metadata": {},
   "source": [
    "### Attributes of an Array <a class = 'anchor' id = 'num_attri'></a>\n",
    "Every Python object it's own **properties(attributes)**, a NumPy array is also an object. There are attributes:\n",
    "![image-2.png](attachment:image-2.png)"
   ]
  },
  {
   "cell_type": "code",
   "execution_count": 47,
   "id": "d981dd4f",
   "metadata": {},
   "outputs": [
    {
     "data": {
      "text/plain": [
       "array([[1, 4],\n",
       "       [5, 2]])"
      ]
     },
     "execution_count": 47,
     "metadata": {},
     "output_type": "execute_result"
    }
   ],
   "source": [
    "# create an array\n",
    "a = np.array([[1,4],[5,2]])\n",
    "a"
   ]
  },
  {
   "cell_type": "code",
   "execution_count": 48,
   "id": "8f1f1138",
   "metadata": {},
   "outputs": [
    {
     "data": {
      "text/plain": [
       "array([ 6,  7,  8,  9, 10, 11, 12, 13, 14, 15])"
      ]
     },
     "execution_count": 48,
     "metadata": {},
     "output_type": "execute_result"
    }
   ],
   "source": [
    "b = np.arange(6,16)\n",
    "b"
   ]
  },
  {
   "cell_type": "code",
   "execution_count": 50,
   "id": "08326f6a",
   "metadata": {},
   "outputs": [
    {
     "data": {
      "text/plain": [
       "(2, 1)"
      ]
     },
     "execution_count": 50,
     "metadata": {},
     "output_type": "execute_result"
    }
   ],
   "source": [
    "a.ndim, b.ndim"
   ]
  },
  {
   "cell_type": "code",
   "execution_count": 52,
   "id": "356d1bfb",
   "metadata": {},
   "outputs": [
    {
     "data": {
      "text/plain": [
       "((2, 2), (10,))"
      ]
     },
     "execution_count": 52,
     "metadata": {},
     "output_type": "execute_result"
    }
   ],
   "source": [
    "a.shape, b.shape"
   ]
  },
  {
   "cell_type": "code",
   "execution_count": 54,
   "id": "90a852d0",
   "metadata": {},
   "outputs": [
    {
     "data": {
      "text/plain": [
       "(4, 10)"
      ]
     },
     "execution_count": 54,
     "metadata": {},
     "output_type": "execute_result"
    }
   ],
   "source": [
    "a.size, b.size"
   ]
  },
  {
   "cell_type": "code",
   "execution_count": 56,
   "id": "7387b514",
   "metadata": {},
   "outputs": [
    {
     "data": {
      "text/plain": [
       "4"
      ]
     },
     "execution_count": 56,
     "metadata": {},
     "output_type": "execute_result"
    }
   ],
   "source": [
    "# itmesize\n",
    "a.itemsize"
   ]
  },
  {
   "cell_type": "code",
   "execution_count": 58,
   "id": "dfe047a0",
   "metadata": {},
   "outputs": [
    {
     "data": {
      "text/plain": [
       "(16, 40)"
      ]
     },
     "execution_count": 58,
     "metadata": {},
     "output_type": "execute_result"
    }
   ],
   "source": [
    "a.nbytes, b.nbytes"
   ]
  },
  {
   "cell_type": "code",
   "execution_count": 59,
   "id": "2a74db0c",
   "metadata": {},
   "outputs": [
    {
     "data": {
      "text/plain": [
       "dtype('int32')"
      ]
     },
     "execution_count": 59,
     "metadata": {},
     "output_type": "execute_result"
    }
   ],
   "source": [
    "a.dtype"
   ]
  },
  {
   "cell_type": "code",
   "execution_count": 60,
   "id": "5284379c",
   "metadata": {},
   "outputs": [
    {
     "data": {
      "text/plain": [
       "array([[1.3, 4. ],\n",
       "       [5. , 2. ]])"
      ]
     },
     "execution_count": 60,
     "metadata": {},
     "output_type": "execute_result"
    }
   ],
   "source": [
    "# create an array\n",
    "a = np.array([[1.3,4],[5,2]])\n",
    "a"
   ]
  },
  {
   "cell_type": "code",
   "execution_count": 61,
   "id": "864bab5b",
   "metadata": {},
   "outputs": [
    {
     "data": {
      "text/plain": [
       "dtype('float64')"
      ]
     },
     "execution_count": 61,
     "metadata": {},
     "output_type": "execute_result"
    }
   ],
   "source": [
    "a.dtype"
   ]
  },
  {
   "cell_type": "code",
   "execution_count": 62,
   "id": "164030bd",
   "metadata": {},
   "outputs": [
    {
     "data": {
      "text/plain": [
       "array([['1', '4'],\n",
       "       ['5', '2']], dtype='<U11')"
      ]
     },
     "execution_count": 62,
     "metadata": {},
     "output_type": "execute_result"
    }
   ],
   "source": [
    "# create an array\n",
    "a = np.array([[\"1\",4],[5,2]])\n",
    "a"
   ]
  },
  {
   "cell_type": "code",
   "execution_count": 63,
   "id": "d2b161ea",
   "metadata": {},
   "outputs": [
    {
     "data": {
      "text/plain": [
       "dtype('<U11')"
      ]
     },
     "execution_count": 63,
     "metadata": {},
     "output_type": "execute_result"
    }
   ],
   "source": [
    "a.dtype"
   ]
  },
  {
   "cell_type": "code",
   "execution_count": null,
   "id": "42b0e2f7",
   "metadata": {},
   "outputs": [],
   "source": []
  },
  {
   "cell_type": "code",
   "execution_count": null,
   "id": "ffbecb68",
   "metadata": {},
   "outputs": [],
   "source": []
  },
  {
   "cell_type": "code",
   "execution_count": 25,
   "id": "7d1f7fbc",
   "metadata": {},
   "outputs": [
    {
     "data": {
      "text/plain": [
       "2"
      ]
     },
     "execution_count": 25,
     "metadata": {},
     "output_type": "execute_result"
    }
   ],
   "source": [
    "# dimension of an array 'a'\n",
    "a.ndim"
   ]
  },
  {
   "cell_type": "code",
   "execution_count": 26,
   "id": "1d17ee17",
   "metadata": {},
   "outputs": [
    {
     "data": {
      "text/plain": [
       "(2, 2)"
      ]
     },
     "execution_count": 26,
     "metadata": {},
     "output_type": "execute_result"
    }
   ],
   "source": [
    "# shape of an array 'a'\n",
    "a.shape"
   ]
  },
  {
   "cell_type": "code",
   "execution_count": 27,
   "id": "4ccc5086",
   "metadata": {},
   "outputs": [
    {
     "data": {
      "text/plain": [
       "4"
      ]
     },
     "execution_count": 27,
     "metadata": {},
     "output_type": "execute_result"
    }
   ],
   "source": [
    "# size of an array 'a'\n",
    "a.size"
   ]
  },
  {
   "cell_type": "code",
   "execution_count": 28,
   "id": "3acb536c",
   "metadata": {},
   "outputs": [
    {
     "data": {
      "text/plain": [
       "4"
      ]
     },
     "execution_count": 28,
     "metadata": {},
     "output_type": "execute_result"
    }
   ],
   "source": [
    "# size of each element of an array in bytes\n",
    "a.itemsize"
   ]
  },
  {
   "cell_type": "code",
   "execution_count": 29,
   "id": "058d83e9",
   "metadata": {},
   "outputs": [
    {
     "data": {
      "text/plain": [
       "16"
      ]
     },
     "execution_count": 29,
     "metadata": {},
     "output_type": "execute_result"
    }
   ],
   "source": [
    "# total size of an array in bytes\n",
    "a.nbytes"
   ]
  },
  {
   "cell_type": "code",
   "execution_count": 30,
   "id": "a3341b15",
   "metadata": {},
   "outputs": [
    {
     "data": {
      "text/plain": [
       "dtype('int32')"
      ]
     },
     "execution_count": 30,
     "metadata": {},
     "output_type": "execute_result"
    }
   ],
   "source": [
    "# data type of elements inside an array\n",
    "a.dtype"
   ]
  },
  {
   "cell_type": "markdown",
   "id": "81186d5b",
   "metadata": {},
   "source": [
    "### Indexing and slicing arrays <a class = 'anchor' id = 'indexing'></a>\n",
    "- Indexing and slicing of **1** array same as indexing and slicing **list**."
   ]
  },
  {
   "cell_type": "code",
   "execution_count": 4,
   "id": "49ab799e",
   "metadata": {},
   "outputs": [],
   "source": [
    "import numpy as np"
   ]
  },
  {
   "cell_type": "code",
   "execution_count": 3,
   "id": "b561044b",
   "metadata": {},
   "outputs": [
    {
     "data": {
      "text/plain": [
       "array([2, 3, 4, 5, 6, 7, 8])"
      ]
     },
     "execution_count": 3,
     "metadata": {},
     "output_type": "execute_result"
    }
   ],
   "source": [
    "a = np.arange(2,9)\n",
    "a"
   ]
  },
  {
   "cell_type": "code",
   "execution_count": 5,
   "id": "e360d0ec",
   "metadata": {},
   "outputs": [
    {
     "data": {
      "text/plain": [
       "1"
      ]
     },
     "execution_count": 5,
     "metadata": {},
     "output_type": "execute_result"
    }
   ],
   "source": [
    "a.ndim"
   ]
  },
  {
   "cell_type": "code",
   "execution_count": 6,
   "id": "b3f7728b",
   "metadata": {},
   "outputs": [
    {
     "data": {
      "text/plain": [
       "(7,)"
      ]
     },
     "execution_count": 6,
     "metadata": {},
     "output_type": "execute_result"
    }
   ],
   "source": [
    "a.shape"
   ]
  },
  {
   "cell_type": "code",
   "execution_count": 11,
   "id": "22279861",
   "metadata": {},
   "outputs": [],
   "source": [
    "a[4] = 40"
   ]
  },
  {
   "cell_type": "code",
   "execution_count": 12,
   "id": "db7895f7",
   "metadata": {},
   "outputs": [
    {
     "data": {
      "text/plain": [
       "array([ 2,  3,  4,  5, 40,  7,  8])"
      ]
     },
     "execution_count": 12,
     "metadata": {},
     "output_type": "execute_result"
    }
   ],
   "source": [
    "a"
   ]
  },
  {
   "cell_type": "code",
   "execution_count": 13,
   "id": "5e24537a",
   "metadata": {},
   "outputs": [
    {
     "data": {
      "text/plain": [
       "array([ 2,  3,  4,  5, 40,  7,  8])"
      ]
     },
     "execution_count": 13,
     "metadata": {},
     "output_type": "execute_result"
    }
   ],
   "source": [
    "a[:]"
   ]
  },
  {
   "cell_type": "code",
   "execution_count": 14,
   "id": "454d7ca8",
   "metadata": {},
   "outputs": [
    {
     "data": {
      "text/plain": [
       "array([40,  7,  8])"
      ]
     },
     "execution_count": 14,
     "metadata": {},
     "output_type": "execute_result"
    }
   ],
   "source": [
    "a[4:]"
   ]
  },
  {
   "cell_type": "code",
   "execution_count": 15,
   "id": "9ff57252",
   "metadata": {},
   "outputs": [
    {
     "data": {
      "text/plain": [
       "array([ 4,  5, 40])"
      ]
     },
     "execution_count": 15,
     "metadata": {},
     "output_type": "execute_result"
    }
   ],
   "source": [
    "a[2:5]"
   ]
  },
  {
   "cell_type": "code",
   "execution_count": 16,
   "id": "9d1fe64e",
   "metadata": {},
   "outputs": [
    {
     "data": {
      "text/plain": [
       "array([ 8,  7, 40,  5,  4,  3,  2])"
      ]
     },
     "execution_count": 16,
     "metadata": {},
     "output_type": "execute_result"
    }
   ],
   "source": [
    "a[::-1]"
   ]
  },
  {
   "cell_type": "code",
   "execution_count": 20,
   "id": "d7e3b8f4",
   "metadata": {},
   "outputs": [
    {
     "data": {
      "text/plain": [
       "'el yh'"
      ]
     },
     "execution_count": 20,
     "metadata": {},
     "output_type": "execute_result"
    }
   ],
   "source": [
    "x = \"Hello Python\"\n",
    "x[1:10:2]"
   ]
  },
  {
   "cell_type": "code",
   "execution_count": 25,
   "id": "79bc35b3",
   "metadata": {},
   "outputs": [
    {
     "data": {
      "text/plain": [
       "'nohtyP olleH'"
      ]
     },
     "execution_count": 25,
     "metadata": {},
     "output_type": "execute_result"
    }
   ],
   "source": [
    "x[::-1]"
   ]
  },
  {
   "cell_type": "code",
   "execution_count": 26,
   "id": "4ee02cd8",
   "metadata": {},
   "outputs": [
    {
     "data": {
      "text/plain": [
       "[2, 3, 5, 6, 7, 8, 9]"
      ]
     },
     "execution_count": 26,
     "metadata": {},
     "output_type": "execute_result"
    }
   ],
   "source": [
    "l = [2,3,5,6,7,8,9]\n",
    "l"
   ]
  },
  {
   "cell_type": "code",
   "execution_count": 29,
   "id": "0977dff9",
   "metadata": {},
   "outputs": [
    {
     "data": {
      "text/plain": [
       "[3, 6, 8]"
      ]
     },
     "execution_count": 29,
     "metadata": {},
     "output_type": "execute_result"
    }
   ],
   "source": [
    "l[1:6:2]"
   ]
  },
  {
   "cell_type": "code",
   "execution_count": 30,
   "id": "471fcb18",
   "metadata": {},
   "outputs": [
    {
     "data": {
      "text/plain": [
       "[2, 3, 5, 6, 7, 8, 9]"
      ]
     },
     "execution_count": 30,
     "metadata": {},
     "output_type": "execute_result"
    }
   ],
   "source": [
    "l[::]"
   ]
  },
  {
   "cell_type": "code",
   "execution_count": 31,
   "id": "0d940e25",
   "metadata": {},
   "outputs": [
    {
     "data": {
      "text/plain": [
       "[9, 8, 7, 6, 5, 3, 2]"
      ]
     },
     "execution_count": 31,
     "metadata": {},
     "output_type": "execute_result"
    }
   ],
   "source": [
    "l[::-1]"
   ]
  },
  {
   "cell_type": "code",
   "execution_count": 32,
   "id": "5d979792",
   "metadata": {},
   "outputs": [
    {
     "data": {
      "text/plain": [
       "array([ 2,  3,  4,  5, 40,  7,  8])"
      ]
     },
     "execution_count": 32,
     "metadata": {},
     "output_type": "execute_result"
    }
   ],
   "source": [
    "a"
   ]
  },
  {
   "cell_type": "code",
   "execution_count": 33,
   "id": "3d5c25a4",
   "metadata": {},
   "outputs": [
    {
     "data": {
      "text/plain": [
       "array([ 3,  4,  5, 40,  7])"
      ]
     },
     "execution_count": 33,
     "metadata": {},
     "output_type": "execute_result"
    }
   ],
   "source": [
    "a[1:6]"
   ]
  },
  {
   "cell_type": "code",
   "execution_count": 34,
   "id": "93dd65f2",
   "metadata": {},
   "outputs": [
    {
     "data": {
      "text/plain": [
       "array([3, 5, 7])"
      ]
     },
     "execution_count": 34,
     "metadata": {},
     "output_type": "execute_result"
    }
   ],
   "source": [
    "a[1:6:2]"
   ]
  },
  {
   "cell_type": "code",
   "execution_count": 36,
   "id": "0f7abe14",
   "metadata": {},
   "outputs": [
    {
     "data": {
      "text/plain": [
       "array([ 2,  4, 40,  8])"
      ]
     },
     "execution_count": 36,
     "metadata": {},
     "output_type": "execute_result"
    }
   ],
   "source": [
    "a[::2]"
   ]
  },
  {
   "cell_type": "code",
   "execution_count": 37,
   "id": "452963d9",
   "metadata": {},
   "outputs": [
    {
     "data": {
      "text/plain": [
       "array([ 8,  7, 40,  5,  4,  3,  2])"
      ]
     },
     "execution_count": 37,
     "metadata": {},
     "output_type": "execute_result"
    }
   ],
   "source": [
    "a[::-1]"
   ]
  },
  {
   "cell_type": "code",
   "execution_count": null,
   "id": "800d86f1",
   "metadata": {},
   "outputs": [],
   "source": []
  },
  {
   "cell_type": "code",
   "execution_count": 64,
   "id": "ed7604f4",
   "metadata": {},
   "outputs": [
    {
     "data": {
      "text/plain": [
       "array([1, 2, 3, 6, 7])"
      ]
     },
     "execution_count": 64,
     "metadata": {},
     "output_type": "execute_result"
    }
   ],
   "source": [
    "data = np.array([1, 2, 3,6,7])\n",
    "data"
   ]
  },
  {
   "cell_type": "code",
   "execution_count": 65,
   "id": "ffe96176",
   "metadata": {},
   "outputs": [
    {
     "data": {
      "text/plain": [
       "1"
      ]
     },
     "execution_count": 65,
     "metadata": {},
     "output_type": "execute_result"
    }
   ],
   "source": [
    "data[0]"
   ]
  },
  {
   "cell_type": "code",
   "execution_count": 66,
   "id": "a53e9e5d",
   "metadata": {},
   "outputs": [
    {
     "data": {
      "text/plain": [
       "2"
      ]
     },
     "execution_count": 66,
     "metadata": {},
     "output_type": "execute_result"
    }
   ],
   "source": [
    "data[1]"
   ]
  },
  {
   "cell_type": "code",
   "execution_count": 67,
   "id": "0a1694f9",
   "metadata": {},
   "outputs": [
    {
     "data": {
      "text/plain": [
       "array([1, 2])"
      ]
     },
     "execution_count": 67,
     "metadata": {},
     "output_type": "execute_result"
    }
   ],
   "source": [
    "data[:2]  # all elements before index 2"
   ]
  },
  {
   "cell_type": "code",
   "execution_count": 68,
   "id": "8948f0ef",
   "metadata": {},
   "outputs": [
    {
     "data": {
      "text/plain": [
       "array([3, 6, 7])"
      ]
     },
     "execution_count": 68,
     "metadata": {},
     "output_type": "execute_result"
    }
   ],
   "source": [
    "data[2:]  # all the elements after index 2"
   ]
  },
  {
   "cell_type": "code",
   "execution_count": 69,
   "id": "c90d8421",
   "metadata": {},
   "outputs": [
    {
     "data": {
      "text/plain": [
       "array([1, 2, 3, 6, 7])"
      ]
     },
     "execution_count": 69,
     "metadata": {},
     "output_type": "execute_result"
    }
   ],
   "source": [
    "data[:] # all the element of the array"
   ]
  },
  {
   "cell_type": "markdown",
   "id": "a4bbaff8",
   "metadata": {},
   "source": [
    "We can visualize it this way:\n",
    "\n",
    "![np_array_index](https://numpy.org/doc/stable/_images/np_indexing.png)\n",
    "\n",
    "We may want to take a section of our array or specific array elements to use in further analysis or additional operations. To do that, we’ll need to subset, slice, and/or index our arrays.\n",
    "\n",
    "If we want to select values from your array that fulfill certain conditions, it’s straightforward with NumPy."
   ]
  },
  {
   "cell_type": "markdown",
   "id": "35354791",
   "metadata": {},
   "source": [
    "\n"
   ]
  },
  {
   "attachments": {
    "image-2.png": {
     "image/png": "[encoded data removed]"
    },
    "image.png": {
     "image/png": "[encoded data removed]"
    }
   },
   "cell_type": "markdown",
   "id": "08be262e",
   "metadata": {},
   "source": [
    "**2 Dimensional array can also indexed and sliced following way:**\n",
    "```\n",
    "a[row_index,column_index]\n",
    "```\n",
    "![image.png](attachment:image.png)\n",
    "\n",
    "Let's create 2-D `3 x 3` array:  \n",
    "![image-2.png](attachment:image-2.png)"
   ]
  },
  {
   "cell_type": "code",
   "execution_count": 38,
   "id": "a3df1a81",
   "metadata": {},
   "outputs": [
    {
     "data": {
      "text/plain": [
       "array([[2, 4, 6],\n",
       "       [1, 0, 3],\n",
       "       [2, 9, 5]])"
      ]
     },
     "execution_count": 38,
     "metadata": {},
     "output_type": "execute_result"
    }
   ],
   "source": [
    "a = np.array([[2,4,6],[1,0,3],[2,9,5]])  # two dimensional array\n",
    "a`"
   ]
  },
  {
   "cell_type": "code",
   "execution_count": 39,
   "id": "6dcea476",
   "metadata": {},
   "outputs": [
    {
     "data": {
      "text/plain": [
       "numpy.ndarray"
      ]
     },
     "execution_count": 39,
     "metadata": {},
     "output_type": "execute_result"
    }
   ],
   "source": [
    "type(a)"
   ]
  },
  {
   "cell_type": "code",
   "execution_count": 42,
   "id": "9ac61af9",
   "metadata": {},
   "outputs": [
    {
     "data": {
      "text/plain": [
       "array([2, 4, 6])"
      ]
     },
     "execution_count": 42,
     "metadata": {},
     "output_type": "execute_result"
    }
   ],
   "source": [
    "# indexing\n",
    "a[0,:]"
   ]
  },
  {
   "cell_type": "code",
   "execution_count": 45,
   "id": "158223c5",
   "metadata": {},
   "outputs": [
    {
     "data": {
      "text/plain": [
       "array([[1, 0],\n",
       "       [2, 9]])"
      ]
     },
     "execution_count": 45,
     "metadata": {},
     "output_type": "execute_result"
    }
   ],
   "source": [
    "a[1:,:2]"
   ]
  },
  {
   "cell_type": "code",
   "execution_count": 46,
   "id": "65043351",
   "metadata": {},
   "outputs": [
    {
     "data": {
      "text/plain": [
       "array([[1, 3],\n",
       "       [2, 5]])"
      ]
     },
     "execution_count": 46,
     "metadata": {},
     "output_type": "execute_result"
    }
   ],
   "source": [
    "a[1:,[0,2]]"
   ]
  },
  {
   "cell_type": "code",
   "execution_count": 47,
   "id": "34bfcecd",
   "metadata": {},
   "outputs": [
    {
     "data": {
      "text/plain": [
       "array([[1, 0],\n",
       "       [2, 9]])"
      ]
     },
     "execution_count": 47,
     "metadata": {},
     "output_type": "execute_result"
    }
   ],
   "source": [
    "a[1:3,0:2]"
   ]
  },
  {
   "cell_type": "code",
   "execution_count": null,
   "id": "3d20ef0a",
   "metadata": {},
   "outputs": [],
   "source": []
  },
  {
   "cell_type": "code",
   "execution_count": null,
   "id": "398344b8",
   "metadata": {},
   "outputs": [],
   "source": []
  },
  {
   "cell_type": "code",
   "execution_count": null,
   "id": "06e1193c",
   "metadata": {},
   "outputs": [],
   "source": []
  },
  {
   "cell_type": "code",
   "execution_count": 74,
   "id": "5b9eacaa",
   "metadata": {},
   "outputs": [
    {
     "data": {
      "text/plain": [
       "array([[0, 3],\n",
       "       [9, 5]])"
      ]
     },
     "execution_count": 74,
     "metadata": {},
     "output_type": "execute_result"
    }
   ],
   "source": [
    "a[1:,1:]"
   ]
  },
  {
   "cell_type": "code",
   "execution_count": 71,
   "id": "10334655",
   "metadata": {},
   "outputs": [
    {
     "data": {
      "text/plain": [
       "array([[2, 4, 6],\n",
       "       [1, 0, 3],\n",
       "       [2, 9, 5]])"
      ]
     },
     "execution_count": 71,
     "metadata": {},
     "output_type": "execute_result"
    }
   ],
   "source": [
    "a[:]"
   ]
  },
  {
   "cell_type": "code",
   "execution_count": 72,
   "id": "bd204d9f",
   "metadata": {},
   "outputs": [
    {
     "data": {
      "text/plain": [
       "array([2, 4, 6])"
      ]
     },
     "execution_count": 72,
     "metadata": {},
     "output_type": "execute_result"
    }
   ],
   "source": [
    "a[0,:]"
   ]
  },
  {
   "cell_type": "code",
   "execution_count": 73,
   "id": "06bc73b7",
   "metadata": {},
   "outputs": [
    {
     "data": {
      "text/plain": [
       "array([6, 3, 5])"
      ]
     },
     "execution_count": 73,
     "metadata": {},
     "output_type": "execute_result"
    }
   ],
   "source": [
    "a[:,-1]"
   ]
  },
  {
   "cell_type": "code",
   "execution_count": 38,
   "id": "0466ebb8",
   "metadata": {},
   "outputs": [
    {
     "data": {
      "text/plain": [
       "2"
      ]
     },
     "execution_count": 38,
     "metadata": {},
     "output_type": "execute_result"
    }
   ],
   "source": [
    "# first element\n",
    "a[0,0]"
   ]
  },
  {
   "cell_type": "code",
   "execution_count": 39,
   "id": "6fb5d754",
   "metadata": {},
   "outputs": [
    {
     "data": {
      "text/plain": [
       "0"
      ]
     },
     "execution_count": 39,
     "metadata": {},
     "output_type": "execute_result"
    }
   ],
   "source": [
    "a[1,1]"
   ]
  },
  {
   "attachments": {
    "image-3.png": {
     "image/png": "[encoded data removed]"
    }
   },
   "cell_type": "markdown",
   "id": "307bfee0",
   "metadata": {},
   "source": [
    "After frist row and all columns\n",
    "![image-3.png](attachment:image-3.png)"
   ]
  },
  {
   "cell_type": "code",
   "execution_count": 40,
   "id": "78fab6dc",
   "metadata": {},
   "outputs": [
    {
     "data": {
      "text/plain": [
       "array([[1, 0, 3],\n",
       "       [2, 9, 5]])"
      ]
     },
     "execution_count": 40,
     "metadata": {},
     "output_type": "execute_result"
    }
   ],
   "source": [
    "a[1:,:] "
   ]
  },
  {
   "cell_type": "code",
   "execution_count": null,
   "id": "8ee83ed6",
   "metadata": {},
   "outputs": [],
   "source": []
  },
  {
   "cell_type": "code",
   "execution_count": 41,
   "id": "65f9dc39",
   "metadata": {},
   "outputs": [
    {
     "data": {
      "text/plain": [
       "array([[0, 3],\n",
       "       [9, 5]])"
      ]
     },
     "execution_count": 41,
     "metadata": {},
     "output_type": "execute_result"
    }
   ],
   "source": [
    "# similarly\n",
    "a[1:,1:]"
   ]
  },
  {
   "cell_type": "markdown",
   "id": "519a6116",
   "metadata": {},
   "source": [
    "### Modifying array elements <a class = 'anchor' id = 'modify' ></a>\n",
    "An array is mutable, and it can easily modify."
   ]
  },
  {
   "cell_type": "code",
   "execution_count": 48,
   "id": "501cb578",
   "metadata": {},
   "outputs": [
    {
     "data": {
      "text/plain": [
       "array([[1, 4],\n",
       "       [5, 2]])"
      ]
     },
     "execution_count": 48,
     "metadata": {},
     "output_type": "execute_result"
    }
   ],
   "source": [
    "# Let's creat two dimensional an array\n",
    "a = np.array([[1,4],[5,2]])\n",
    "a"
   ]
  },
  {
   "cell_type": "code",
   "execution_count": 52,
   "id": "7d3a4720",
   "metadata": {},
   "outputs": [],
   "source": [
    "# first element\n",
    "a[0,1] = 400"
   ]
  },
  {
   "cell_type": "code",
   "execution_count": 53,
   "id": "c7b07a9a",
   "metadata": {},
   "outputs": [
    {
     "data": {
      "text/plain": [
       "array([[  1, 400],\n",
       "       [  5,   2]])"
      ]
     },
     "execution_count": 53,
     "metadata": {},
     "output_type": "execute_result"
    }
   ],
   "source": [
    "# now array has modified\n",
    "a"
   ]
  },
  {
   "cell_type": "markdown",
   "id": "4fc0c9b8",
   "metadata": {},
   "source": [
    "### Iterating Arrays <a class = 'anchor' id = 'iteration'></a>"
   ]
  },
  {
   "cell_type": "code",
   "execution_count": 45,
   "id": "da26dd34",
   "metadata": {},
   "outputs": [
    {
     "name": "stdout",
     "output_type": "stream",
     "text": [
      "1\n",
      "2\n",
      "3\n"
     ]
    }
   ],
   "source": [
    "# Iterate on the elements of the 1-D array\n",
    "arr = np.array([1, 2, 3])\n",
    "\n",
    "for x in arr:\n",
    "    print(x)"
   ]
  },
  {
   "cell_type": "code",
   "execution_count": 54,
   "id": "b70090c3",
   "metadata": {},
   "outputs": [
    {
     "data": {
      "text/plain": [
       "array([[1, 2, 3],\n",
       "       [4, 5, 6]])"
      ]
     },
     "execution_count": 54,
     "metadata": {},
     "output_type": "execute_result"
    }
   ],
   "source": [
    "# In a 2-D array it will go through all the rows\n",
    "arr = np.array([[1, 2, 3], [4, 5, 6]])\n",
    "arr"
   ]
  },
  {
   "cell_type": "code",
   "execution_count": 55,
   "id": "7f75e2b3",
   "metadata": {},
   "outputs": [
    {
     "name": "stdout",
     "output_type": "stream",
     "text": [
      "[1 2 3]\n",
      "[4 5 6]\n"
     ]
    }
   ],
   "source": [
    "for row in arr:\n",
    "    print(row)"
   ]
  },
  {
   "cell_type": "code",
   "execution_count": 58,
   "id": "da3590bb",
   "metadata": {},
   "outputs": [
    {
     "name": "stdout",
     "output_type": "stream",
     "text": [
      "1\n",
      "2\n",
      "3\n",
      "4\n",
      "5\n",
      "6\n"
     ]
    }
   ],
   "source": [
    "for row in arr:\n",
    "    for ele in row:\n",
    "        print(ele)"
   ]
  },
  {
   "cell_type": "code",
   "execution_count": null,
   "id": "52d7aca7",
   "metadata": {},
   "outputs": [],
   "source": []
  },
  {
   "cell_type": "code",
   "execution_count": 56,
   "id": "42d3ddd2",
   "metadata": {},
   "outputs": [
    {
     "name": "stdout",
     "output_type": "stream",
     "text": [
      "(0, array([1, 2, 3]))\n",
      "(1, array([4, 5, 6]))\n"
     ]
    }
   ],
   "source": [
    "for row in  enumerate(arr):\n",
    "    print(row)"
   ]
  },
  {
   "cell_type": "code",
   "execution_count": null,
   "id": "c237bd27",
   "metadata": {},
   "outputs": [],
   "source": []
  },
  {
   "cell_type": "code",
   "execution_count": 47,
   "id": "f53cd291",
   "metadata": {},
   "outputs": [
    {
     "name": "stdout",
     "output_type": "stream",
     "text": [
      "1\n",
      "2\n",
      "3\n",
      "4\n",
      "5\n",
      "6\n"
     ]
    }
   ],
   "source": [
    "# Iterate on each scalar element of the 2-D array\n",
    "arr = np.array([[1, 2, 3], [4, 5, 6]])\n",
    "\n",
    "for x in arr:\n",
    "    for y in x:\n",
    "        print(y)"
   ]
  },
  {
   "cell_type": "code",
   "execution_count": 48,
   "id": "f087b6cf",
   "metadata": {},
   "outputs": [
    {
     "name": "stdout",
     "output_type": "stream",
     "text": [
      "[[1 2 3]\n",
      " [4 5 6]]\n",
      "[[ 7  8  9]\n",
      " [10 11 12]]\n"
     ]
    }
   ],
   "source": [
    "# Iterate on the elements of the following 3-D array\n",
    "arr = np.array([[[1, 2, 3], [4, 5, 6]], [[7, 8, 9], [10, 11, 12]]])\n",
    "\n",
    "for x in arr:\n",
    "    print(x)"
   ]
  },
  {
   "cell_type": "markdown",
   "id": "b4748b47",
   "metadata": {},
   "source": [
    "### Array mathmatical operations <a class = 'anchor' id = 'operation'></a>\n",
    "### Basic array operations<a class=\"anchor\" id=\"bao\"></a>\n",
    "Once we’ve created our arrays, we can start to work with them. Let’s say, for example, that we’ve created two arrays, one called “data” and one called “ones”\n",
    "\n",
    "![numpy_maths](https://numpy.org/doc/stable/_images/np_array_dataones.png)\n",
    "\n",
    "We can add the arrays together with the plus sign."
   ]
  },
  {
   "cell_type": "code",
   "execution_count": 59,
   "id": "25577157",
   "metadata": {},
   "outputs": [
    {
     "data": {
      "text/plain": [
       "array([1, 2])"
      ]
     },
     "execution_count": 59,
     "metadata": {},
     "output_type": "execute_result"
    }
   ],
   "source": [
    "data = np.array([1, 2])\n",
    "ones = np.ones(2)\n",
    "data"
   ]
  },
  {
   "cell_type": "code",
   "execution_count": 50,
   "id": "8493b32d",
   "metadata": {},
   "outputs": [
    {
     "data": {
      "text/plain": [
       "array([1., 1.])"
      ]
     },
     "execution_count": 50,
     "metadata": {},
     "output_type": "execute_result"
    }
   ],
   "source": [
    "ones"
   ]
  },
  {
   "cell_type": "code",
   "execution_count": 60,
   "id": "689cb519",
   "metadata": {},
   "outputs": [
    {
     "data": {
      "text/plain": [
       "array([2., 3.])"
      ]
     },
     "execution_count": 60,
     "metadata": {},
     "output_type": "execute_result"
    }
   ],
   "source": [
    "data + ones"
   ]
  },
  {
   "cell_type": "code",
   "execution_count": 61,
   "id": "fc382c48",
   "metadata": {},
   "outputs": [
    {
     "name": "stdout",
     "output_type": "stream",
     "text": [
      "Substraction :  [0. 1.]\n",
      "Multipication :  [1. 2.]\n",
      "Division :  [1. 2.]\n"
     ]
    }
   ],
   "source": [
    "# similarly\n",
    "print(\"Substraction : \",data - ones)\n",
    "print(\"Multipication : \",data * ones )\n",
    "print('Division : ',data/ones)"
   ]
  },
  {
   "cell_type": "markdown",
   "id": "cffa0aaa",
   "metadata": {},
   "source": [
    "![numpy_base_maths](https://numpy.org/doc/stable/_images/np_sub_mult_divide.png)\n",
    "\n",
    "Basic operations are simple with NumPy. If we want to find the sum of the elements in an array, we’d use ```sum()```. This works for 1D arrays, 2D arrays, and arrays in higher dimensions."
   ]
  },
  {
   "cell_type": "markdown",
   "id": "2a4c099f",
   "metadata": {},
   "source": [
    "<h2><p style=\"text-align: center;\"> 3.Array Manipulation</p></h2> <a class = 'anchor' id = 'arr'></a> \n"
   ]
  },
  {
   "cell_type": "markdown",
   "id": "cc27fe57",
   "metadata": {},
   "source": [
    "### Reshaping arrays <a class  = 'anchor' id = 'reshape'></a>\n",
    "Using ```arr.reshape()``` will give a new shape to an array without changing the data. Just remember that when we use the reshape method, the array we want to produce needs to have the same number of elements as the original array. If we start with an array with 12 elements, we’ll need to make sure that our new array also has a total of 12 elements.\n",
    "![np_reshape](https://numpy.org/doc/stable/_images/np_reshape.png)"
   ]
  },
  {
   "cell_type": "code",
   "execution_count": 62,
   "id": "fd139395",
   "metadata": {},
   "outputs": [
    {
     "name": "stdout",
     "output_type": "stream",
     "text": [
      "[1 2 3 4 5 6]\n"
     ]
    }
   ],
   "source": [
    "# If we start with this array:\n",
    "a = np.arange(1,7)\n",
    "print(a)"
   ]
  },
  {
   "cell_type": "code",
   "execution_count": 63,
   "id": "0fdfca08",
   "metadata": {},
   "outputs": [
    {
     "data": {
      "text/plain": [
       "array([[1, 2, 3],\n",
       "       [4, 5, 6]])"
      ]
     },
     "execution_count": 63,
     "metadata": {},
     "output_type": "execute_result"
    }
   ],
   "source": [
    "a.reshape(2,3)"
   ]
  },
  {
   "cell_type": "code",
   "execution_count": 64,
   "id": "8e8e9072",
   "metadata": {},
   "outputs": [
    {
     "data": {
      "text/plain": [
       "array([[1, 2],\n",
       "       [3, 4],\n",
       "       [5, 6]])"
      ]
     },
     "execution_count": 64,
     "metadata": {},
     "output_type": "execute_result"
    }
   ],
   "source": [
    "a.reshape(3,2)"
   ]
  },
  {
   "cell_type": "code",
   "execution_count": 66,
   "id": "d9bf5c9f",
   "metadata": {},
   "outputs": [
    {
     "ename": "ValueError",
     "evalue": "cannot reshape array of size 6 into shape (3,4)",
     "output_type": "error",
     "traceback": [
      "\u001b[1;31m---------------------------------------------------------------------------\u001b[0m",
      "\u001b[1;31mValueError\u001b[0m                                Traceback (most recent call last)",
      "Cell \u001b[1;32mIn[66], line 1\u001b[0m\n\u001b[1;32m----> 1\u001b[0m a\u001b[38;5;241m.\u001b[39mreshape(\u001b[38;5;241m3\u001b[39m,\u001b[38;5;241m4\u001b[39m)\n",
      "\u001b[1;31mValueError\u001b[0m: cannot reshape array of size 6 into shape (3,4)"
     ]
    }
   ],
   "source": [
    "a.reshape(3,4)"
   ]
  },
  {
   "cell_type": "code",
   "execution_count": 69,
   "id": "cb73bd16",
   "metadata": {},
   "outputs": [
    {
     "data": {
      "text/plain": [
       "array([ 0,  1,  2,  3,  4,  5,  6,  7,  8,  9, 10, 11, 12, 13, 14, 15])"
      ]
     },
     "execution_count": 69,
     "metadata": {},
     "output_type": "execute_result"
    }
   ],
   "source": [
    "b = np.arange(16)\n",
    "b"
   ]
  },
  {
   "cell_type": "code",
   "execution_count": 70,
   "id": "d0e2709e",
   "metadata": {},
   "outputs": [
    {
     "data": {
      "text/plain": [
       "array([[ 0,  1,  2,  3,  4,  5,  6,  7],\n",
       "       [ 8,  9, 10, 11, 12, 13, 14, 15]])"
      ]
     },
     "execution_count": 70,
     "metadata": {},
     "output_type": "execute_result"
    }
   ],
   "source": [
    "b.reshape(2,8)"
   ]
  },
  {
   "cell_type": "code",
   "execution_count": 71,
   "id": "5d7e76a0",
   "metadata": {},
   "outputs": [
    {
     "data": {
      "text/plain": [
       "array([[ 0,  1,  2,  3,  4,  5,  6,  7],\n",
       "       [ 8,  9, 10, 11, 12, 13, 14, 15]])"
      ]
     },
     "execution_count": 71,
     "metadata": {},
     "output_type": "execute_result"
    }
   ],
   "source": [
    "b.reshape(2,-1)"
   ]
  },
  {
   "cell_type": "code",
   "execution_count": 72,
   "id": "23a97e0c",
   "metadata": {},
   "outputs": [
    {
     "data": {
      "text/plain": [
       "array([[ 0,  1],\n",
       "       [ 2,  3],\n",
       "       [ 4,  5],\n",
       "       [ 6,  7],\n",
       "       [ 8,  9],\n",
       "       [10, 11],\n",
       "       [12, 13],\n",
       "       [14, 15]])"
      ]
     },
     "execution_count": 72,
     "metadata": {},
     "output_type": "execute_result"
    }
   ],
   "source": [
    "b.reshape(8,-1)"
   ]
  },
  {
   "cell_type": "code",
   "execution_count": 73,
   "id": "4d21f10b",
   "metadata": {},
   "outputs": [
    {
     "data": {
      "text/plain": [
       "array([[ 0,  1,  2,  3],\n",
       "       [ 4,  5,  6,  7],\n",
       "       [ 8,  9, 10, 11],\n",
       "       [12, 13, 14, 15]])"
      ]
     },
     "execution_count": 73,
     "metadata": {},
     "output_type": "execute_result"
    }
   ],
   "source": [
    "b.reshape(-1,4)"
   ]
  },
  {
   "cell_type": "code",
   "execution_count": null,
   "id": "5a6137f4",
   "metadata": {},
   "outputs": [],
   "source": []
  },
  {
   "cell_type": "code",
   "execution_count": 54,
   "id": "2e31eec3",
   "metadata": {},
   "outputs": [
    {
     "name": "stdout",
     "output_type": "stream",
     "text": [
      "[[1 2]\n",
      " [3 4]\n",
      " [5 6]]\n"
     ]
    }
   ],
   "source": [
    "b = a.reshape(3, 2)\n",
    "print(b)"
   ]
  },
  {
   "cell_type": "code",
   "execution_count": 55,
   "id": "34c24231",
   "metadata": {},
   "outputs": [
    {
     "data": {
      "text/plain": [
       "array([[1, 2, 3],\n",
       "       [4, 5, 6]])"
      ]
     },
     "execution_count": 55,
     "metadata": {},
     "output_type": "execute_result"
    }
   ],
   "source": [
    "c = a.reshape(2,3)\n",
    "c"
   ]
  },
  {
   "cell_type": "markdown",
   "id": "a6cba207",
   "metadata": {},
   "source": [
    "### Transposing arrays <a class = 'anchor' id= 'transpose'></a>\n",
    "Transpose of an can be done two ways:\n",
    "- `a.T`\n",
    "- `np.transpose(a)`\n",
    "\n",
    "![np_transposing_reshaping](https://numpy.org/doc/stable/_images/np_transposing_reshaping.png)\n"
   ]
  },
  {
   "cell_type": "code",
   "execution_count": 74,
   "id": "ed90383f",
   "metadata": {},
   "outputs": [
    {
     "data": {
      "text/plain": [
       "array([[1, 3, 5],\n",
       "       [2, 4, 6]])"
      ]
     },
     "execution_count": 74,
     "metadata": {},
     "output_type": "execute_result"
    }
   ],
   "source": [
    "a = np.array([[1,3,5],[2,4,6]])  # two dimensional array\n",
    "a"
   ]
  },
  {
   "cell_type": "code",
   "execution_count": 75,
   "id": "ebd79ab2",
   "metadata": {},
   "outputs": [
    {
     "data": {
      "text/plain": [
       "array([[1, 2],\n",
       "       [3, 4],\n",
       "       [5, 6]])"
      ]
     },
     "execution_count": 75,
     "metadata": {},
     "output_type": "execute_result"
    }
   ],
   "source": [
    "# a.T\n",
    "a.T"
   ]
  },
  {
   "cell_type": "code",
   "execution_count": 76,
   "id": "22b431b9",
   "metadata": {},
   "outputs": [
    {
     "data": {
      "text/plain": [
       "array([[1, 2],\n",
       "       [3, 4],\n",
       "       [5, 6]])"
      ]
     },
     "execution_count": 76,
     "metadata": {},
     "output_type": "execute_result"
    }
   ],
   "source": [
    "# np.transpose(a)\n",
    "np.transpose(a)"
   ]
  },
  {
   "cell_type": "markdown",
   "id": "f57f1b63",
   "metadata": {},
   "source": [
    "### Flattening arrays<a class = 'anchor' id = 'flat'></a>\n",
    "- There are two popular ways to flatten an array: ```.flatten()``` and ```.ravel()```. \n",
    "- The primary difference between the two is that the new array created using ```ravel()``` is actually a reference to the parent array (i.e., a “view”). This means that any changes to the new array will affect the parent array as well. Since ```ravel``` does not create a copy, it’s memory efficient."
   ]
  },
  {
   "cell_type": "code",
   "execution_count": 77,
   "id": "a7c6b223",
   "metadata": {},
   "outputs": [
    {
     "data": {
      "text/plain": [
       "array([[ 1,  2,  3,  4],\n",
       "       [ 5,  6,  7,  8],\n",
       "       [ 9, 10, 11, 12]])"
      ]
     },
     "execution_count": 77,
     "metadata": {},
     "output_type": "execute_result"
    }
   ],
   "source": [
    "# If you start with this array:\n",
    "a = np.array([[1 , 2, 3, 4], [5, 6, 7, 8], [9, 10, 11, 12]])\n",
    "a"
   ]
  },
  {
   "cell_type": "code",
   "execution_count": 78,
   "id": "b3be0731",
   "metadata": {},
   "outputs": [
    {
     "data": {
      "text/plain": [
       "(3, 4)"
      ]
     },
     "execution_count": 78,
     "metadata": {},
     "output_type": "execute_result"
    }
   ],
   "source": [
    "a.shape"
   ]
  },
  {
   "cell_type": "markdown",
   "id": "dd53f766",
   "metadata": {},
   "source": [
    "We can use ```flatten``` to flatten your array into a 1D array."
   ]
  },
  {
   "cell_type": "code",
   "execution_count": 81,
   "id": "a1645017",
   "metadata": {},
   "outputs": [
    {
     "data": {
      "text/plain": [
       "1"
      ]
     },
     "execution_count": 81,
     "metadata": {},
     "output_type": "execute_result"
    }
   ],
   "source": [
    "a.flatten().ndim"
   ]
  },
  {
   "cell_type": "code",
   "execution_count": 61,
   "id": "2682917a",
   "metadata": {},
   "outputs": [
    {
     "data": {
      "text/plain": [
       "array([ 1,  2,  3,  4,  5,  6,  7,  8,  9, 10, 11, 12])"
      ]
     },
     "execution_count": 61,
     "metadata": {},
     "output_type": "execute_result"
    }
   ],
   "source": [
    "b = a.flatten()\n",
    "b"
   ]
  },
  {
   "cell_type": "code",
   "execution_count": 62,
   "id": "e2a6efa9",
   "metadata": {},
   "outputs": [
    {
     "data": {
      "text/plain": [
       "(12,)"
      ]
     },
     "execution_count": 62,
     "metadata": {},
     "output_type": "execute_result"
    }
   ],
   "source": [
    "b.shape"
   ]
  },
  {
   "cell_type": "markdown",
   "id": "e366b9a1",
   "metadata": {},
   "source": [
    "When we use ```flatten```, changes to our new array won’t change the parent array."
   ]
  },
  {
   "cell_type": "code",
   "execution_count": 63,
   "id": "19c6f4e9",
   "metadata": {},
   "outputs": [
    {
     "name": "stdout",
     "output_type": "stream",
     "text": [
      "[[ 1  2  3  4]\n",
      " [ 5  6  7  8]\n",
      " [ 9 10 11 12]]\n"
     ]
    }
   ],
   "source": [
    "a1 = a.flatten()\n",
    "a1[0] = 99\n",
    "print(a)  # Original array"
   ]
  },
  {
   "cell_type": "code",
   "execution_count": 64,
   "id": "2b1ffecb",
   "metadata": {},
   "outputs": [
    {
     "name": "stdout",
     "output_type": "stream",
     "text": [
      "[99  2  3  4  5  6  7  8  9 10 11 12]\n"
     ]
    }
   ],
   "source": [
    "print(a1)  # New array"
   ]
  },
  {
   "cell_type": "markdown",
   "id": "81825ddd",
   "metadata": {},
   "source": [
    "But when we use ```ravel```, the changes you make to the new array will affect the parent array."
   ]
  },
  {
   "cell_type": "code",
   "execution_count": 65,
   "id": "07476a2e",
   "metadata": {},
   "outputs": [
    {
     "name": "stdout",
     "output_type": "stream",
     "text": [
      "[[98  2  3  4]\n",
      " [ 5  6  7  8]\n",
      " [ 9 10 11 12]]\n"
     ]
    }
   ],
   "source": [
    "a2 = a.ravel()\n",
    "a2[0] = 98\n",
    "print(a)  # Original array"
   ]
  },
  {
   "cell_type": "code",
   "execution_count": 66,
   "id": "8a675103",
   "metadata": {},
   "outputs": [
    {
     "name": "stdout",
     "output_type": "stream",
     "text": [
      "[98  2  3  4  5  6  7  8  9 10 11 12]\n"
     ]
    }
   ],
   "source": [
    "print(a2)  # New array"
   ]
  },
  {
   "cell_type": "markdown",
   "id": "a77ec3b5",
   "metadata": {},
   "source": [
    "### Combining an arrays <a class = 'anchor' id = 'combine'></a>"
   ]
  },
  {
   "cell_type": "code",
   "execution_count": 82,
   "id": "c9a920e3",
   "metadata": {},
   "outputs": [
    {
     "data": {
      "text/plain": [
       "array([[ 1,  2,  3,  4],\n",
       "       [ 5,  6,  7,  8],\n",
       "       [ 9, 10, 11, 12]])"
      ]
     },
     "execution_count": 82,
     "metadata": {},
     "output_type": "execute_result"
    }
   ],
   "source": [
    "mul_b = np.array([[1, 2, 3, 4], [5, 6, 7, 8], [9, 10, 11, 12]])\n",
    "mul_b"
   ]
  },
  {
   "cell_type": "code",
   "execution_count": 83,
   "id": "6129c53d",
   "metadata": {},
   "outputs": [
    {
     "data": {
      "text/plain": [
       "array([[20, 21, 22, 23]])"
      ]
     },
     "execution_count": 83,
     "metadata": {},
     "output_type": "execute_result"
    }
   ],
   "source": [
    "c = np.array([[20,21,22,23]])\n",
    "c"
   ]
  },
  {
   "cell_type": "code",
   "execution_count": 88,
   "id": "6469c164",
   "metadata": {},
   "outputs": [
    {
     "data": {
      "text/plain": [
       "array([[20, 21, 22, 23],\n",
       "       [ 1,  2,  3,  4],\n",
       "       [ 5,  6,  7,  8],\n",
       "       [ 9, 10, 11, 12]])"
      ]
     },
     "execution_count": 88,
     "metadata": {},
     "output_type": "execute_result"
    }
   ],
   "source": [
    "np.concatenate([c,mul_b], axis = 0)"
   ]
  },
  {
   "cell_type": "code",
   "execution_count": 69,
   "id": "820d70f2",
   "metadata": {},
   "outputs": [
    {
     "data": {
      "text/plain": [
       "array([[ 1,  2,  3,  4],\n",
       "       [ 5,  6,  7,  8],\n",
       "       [ 9, 10, 11, 12],\n",
       "       [20, 21, 22, 23]])"
      ]
     },
     "execution_count": 69,
     "metadata": {},
     "output_type": "execute_result"
    }
   ],
   "source": [
    "np.concatenate((mul_b, c), axis=0)"
   ]
  },
  {
   "cell_type": "markdown",
   "id": "a900aa72",
   "metadata": {},
   "source": [
    "### Stack <a class = 'anchor' id = 'stack'></a>\n",
    "The numpy arrays can be combine following ways:\n",
    "- `np.stack((arr1,arr2),axis = 0/1)`\n",
    "- `np.vstack(arr1,arr2)`\n",
    "- `np.hstack(arr1,arr2)`\n",
    "![stack](https://i.stack.imgur.com/hSM5G.png)"
   ]
  },
  {
   "cell_type": "code",
   "execution_count": 89,
   "id": "0f85b4ff",
   "metadata": {},
   "outputs": [
    {
     "data": {
      "text/plain": [
       "array([[ 1,  2,  3,  4],\n",
       "       [ 5,  6,  7,  8],\n",
       "       [ 9, 10, 11, 12]])"
      ]
     },
     "execution_count": 89,
     "metadata": {},
     "output_type": "execute_result"
    }
   ],
   "source": [
    "# let's create array and perform stacking operation\n",
    "a = np.arange(1,13).reshape(3,4)\n",
    "a"
   ]
  },
  {
   "cell_type": "code",
   "execution_count": 90,
   "id": "86f886d7",
   "metadata": {},
   "outputs": [
    {
     "data": {
      "text/plain": [
       "array([[1, 2, 3, 4],\n",
       "       [5, 6, 7, 8]])"
      ]
     },
     "execution_count": 90,
     "metadata": {},
     "output_type": "execute_result"
    }
   ],
   "source": [
    "b = np.arange(1,9).reshape(2,4)\n",
    "b"
   ]
  },
  {
   "cell_type": "code",
   "execution_count": 91,
   "id": "223b3c81",
   "metadata": {},
   "outputs": [
    {
     "data": {
      "text/plain": [
       "array([[1, 2],\n",
       "       [3, 4],\n",
       "       [5, 6]])"
      ]
     },
     "execution_count": 91,
     "metadata": {},
     "output_type": "execute_result"
    }
   ],
   "source": [
    "c = np.arange(1,7).reshape(3,2)\n",
    "c"
   ]
  },
  {
   "cell_type": "code",
   "execution_count": 93,
   "id": "714ab288",
   "metadata": {},
   "outputs": [
    {
     "data": {
      "text/plain": [
       "array([[[ 1,  2,  3,  4],\n",
       "        [ 5,  6,  7,  8],\n",
       "        [ 9, 10, 11, 12]],\n",
       "\n",
       "       [[ 1,  2,  3,  4],\n",
       "        [ 5,  6,  7,  8],\n",
       "        [ 9, 10, 11, 12]]])"
      ]
     },
     "execution_count": 93,
     "metadata": {},
     "output_type": "execute_result"
    }
   ],
   "source": [
    "A = np.stack((a,a))\n",
    "A"
   ]
  },
  {
   "cell_type": "code",
   "execution_count": 94,
   "id": "69c5f4ef",
   "metadata": {},
   "outputs": [
    {
     "data": {
      "text/plain": [
       "(2, 3, 4)"
      ]
     },
     "execution_count": 94,
     "metadata": {},
     "output_type": "execute_result"
    }
   ],
   "source": [
    "A.shape"
   ]
  },
  {
   "cell_type": "code",
   "execution_count": 95,
   "id": "89622db6",
   "metadata": {},
   "outputs": [
    {
     "data": {
      "text/plain": [
       "3"
      ]
     },
     "execution_count": 95,
     "metadata": {},
     "output_type": "execute_result"
    }
   ],
   "source": [
    "A.ndim"
   ]
  },
  {
   "cell_type": "code",
   "execution_count": 73,
   "id": "39236aab",
   "metadata": {},
   "outputs": [
    {
     "name": "stdout",
     "output_type": "stream",
     "text": [
      "Shape :  (2, 3, 4)\n"
     ]
    },
    {
     "data": {
      "text/plain": [
       "array([[[ 1,  2,  3,  4],\n",
       "        [ 5,  6,  7,  8],\n",
       "        [ 9, 10, 11, 12]],\n",
       "\n",
       "       [[ 1,  2,  3,  4],\n",
       "        [ 5,  6,  7,  8],\n",
       "        [ 9, 10, 11, 12]]])"
      ]
     },
     "execution_count": 73,
     "metadata": {},
     "output_type": "execute_result"
    }
   ],
   "source": [
    "# np.stack()\n",
    "d1 = np.stack((a,a),axis = 0)\n",
    "print(\"Shape : \",d1.shape)\n",
    "d1"
   ]
  },
  {
   "cell_type": "code",
   "execution_count": 74,
   "id": "305d4d46",
   "metadata": {},
   "outputs": [
    {
     "name": "stdout",
     "output_type": "stream",
     "text": [
      "Shape :  (3, 2, 4)\n"
     ]
    },
    {
     "data": {
      "text/plain": [
       "array([[[ 1,  2,  3,  4],\n",
       "        [ 1,  2,  3,  4]],\n",
       "\n",
       "       [[ 5,  6,  7,  8],\n",
       "        [ 5,  6,  7,  8]],\n",
       "\n",
       "       [[ 9, 10, 11, 12],\n",
       "        [ 9, 10, 11, 12]]])"
      ]
     },
     "execution_count": 74,
     "metadata": {},
     "output_type": "execute_result"
    }
   ],
   "source": [
    "d2 = np.stack((a,a),axis = 1)\n",
    "print(\"Shape : \",d2.shape)\n",
    "d2"
   ]
  },
  {
   "cell_type": "code",
   "execution_count": 96,
   "id": "22f76a73",
   "metadata": {},
   "outputs": [
    {
     "data": {
      "text/plain": [
       "array([[ 1,  2,  3,  4],\n",
       "       [ 5,  6,  7,  8],\n",
       "       [ 9, 10, 11, 12]])"
      ]
     },
     "execution_count": 96,
     "metadata": {},
     "output_type": "execute_result"
    }
   ],
   "source": [
    "a"
   ]
  },
  {
   "cell_type": "code",
   "execution_count": 97,
   "id": "441c0db1",
   "metadata": {},
   "outputs": [
    {
     "data": {
      "text/plain": [
       "array([[1, 2],\n",
       "       [3, 4],\n",
       "       [5, 6]])"
      ]
     },
     "execution_count": 97,
     "metadata": {},
     "output_type": "execute_result"
    }
   ],
   "source": [
    "c"
   ]
  },
  {
   "cell_type": "code",
   "execution_count": 98,
   "id": "3755b29a",
   "metadata": {},
   "outputs": [
    {
     "data": {
      "text/plain": [
       "array([[ 1,  2,  3,  4,  1,  2],\n",
       "       [ 5,  6,  7,  8,  3,  4],\n",
       "       [ 9, 10, 11, 12,  5,  6]])"
      ]
     },
     "execution_count": 98,
     "metadata": {},
     "output_type": "execute_result"
    }
   ],
   "source": [
    "np.hstack((a,c))"
   ]
  },
  {
   "cell_type": "code",
   "execution_count": 99,
   "id": "6bb3f833",
   "metadata": {},
   "outputs": [
    {
     "data": {
      "text/plain": [
       "array([[ 1,  2,  1,  2,  3,  4],\n",
       "       [ 3,  4,  5,  6,  7,  8],\n",
       "       [ 5,  6,  9, 10, 11, 12]])"
      ]
     },
     "execution_count": 99,
     "metadata": {},
     "output_type": "execute_result"
    }
   ],
   "source": [
    "np.hstack((c,a))"
   ]
  },
  {
   "cell_type": "code",
   "execution_count": 75,
   "id": "bd609e80",
   "metadata": {},
   "outputs": [
    {
     "data": {
      "text/plain": [
       "array([[ 1,  2,  3,  4,  1,  2],\n",
       "       [ 5,  6,  7,  8,  3,  4],\n",
       "       [ 9, 10, 11, 12,  5,  6]])"
      ]
     },
     "execution_count": 75,
     "metadata": {},
     "output_type": "execute_result"
    }
   ],
   "source": [
    "# np.hstack() \n",
    "np.hstack((a,c))"
   ]
  },
  {
   "cell_type": "code",
   "execution_count": 76,
   "id": "332b8a17",
   "metadata": {},
   "outputs": [
    {
     "data": {
      "text/plain": [
       "array([[ 1,  2,  3,  4],\n",
       "       [ 5,  6,  7,  8],\n",
       "       [ 9, 10, 11, 12],\n",
       "       [ 1,  2,  3,  4],\n",
       "       [ 5,  6,  7,  8]])"
      ]
     },
     "execution_count": 76,
     "metadata": {},
     "output_type": "execute_result"
    }
   ],
   "source": [
    "# np.vstack()\n",
    "np.vstack((a,b))"
   ]
  },
  {
   "cell_type": "code",
   "execution_count": null,
   "id": "90e0a3bb",
   "metadata": {},
   "outputs": [],
   "source": []
  },
  {
   "cell_type": "markdown",
   "id": "4fb13778",
   "metadata": {},
   "source": [
    "<h2><p style=\"text-align: center;\">4.NumPy Data Types</p></h2> <a class = 'anchor' id = 'numData'></a> \n"
   ]
  },
  {
   "cell_type": "markdown",
   "id": "2fa935e8",
   "metadata": {},
   "source": [
    "### NumPy data types <a class = 'anchor' id = 'data_types'></a>\n",
    "- NumPy provides a range of data types that can be used to represent various types of numerical data. \n",
    "- These data types include integers, floating-point numbers, complex numbers, and Booleans.\n",
    "- Each data type is represented by a specific string code, such as **'int8'** for **8-bit integers** or **'float64'** for **64-bit** floating-point numbers."
   ]
  },
  {
   "cell_type": "code",
   "execution_count": 101,
   "id": "5f65bf9e",
   "metadata": {},
   "outputs": [
    {
     "data": {
      "text/plain": [
       "array([1, 2, 3, 4, 5])"
      ]
     },
     "execution_count": 101,
     "metadata": {},
     "output_type": "execute_result"
    }
   ],
   "source": [
    "a = np.array([1,2,3,4,5])\n",
    "a"
   ]
  },
  {
   "cell_type": "code",
   "execution_count": 102,
   "id": "df16094a",
   "metadata": {},
   "outputs": [
    {
     "data": {
      "text/plain": [
       "dtype('int32')"
      ]
     },
     "execution_count": 102,
     "metadata": {},
     "output_type": "execute_result"
    }
   ],
   "source": [
    "a.dtype"
   ]
  },
  {
   "cell_type": "code",
   "execution_count": 104,
   "id": "eb377f34",
   "metadata": {},
   "outputs": [
    {
     "data": {
      "text/plain": [
       "array([1., 2., 3., 4., 5.])"
      ]
     },
     "execution_count": 104,
     "metadata": {},
     "output_type": "execute_result"
    }
   ],
   "source": [
    "a = np.array([1,2,3,4,5], dtype = \"float64\")\n",
    "a"
   ]
  },
  {
   "cell_type": "code",
   "execution_count": 105,
   "id": "25077c84",
   "metadata": {},
   "outputs": [
    {
     "data": {
      "text/plain": [
       "array(['1', '2', '3', '4', '5'], dtype='<U1')"
      ]
     },
     "execution_count": 105,
     "metadata": {},
     "output_type": "execute_result"
    }
   ],
   "source": [
    "a = np.array([1,2,3,4,5], dtype = \"str\")\n",
    "a"
   ]
  },
  {
   "cell_type": "code",
   "execution_count": 106,
   "id": "3f6b2820",
   "metadata": {},
   "outputs": [
    {
     "data": {
      "text/plain": [
       "dtype('<U1')"
      ]
     },
     "execution_count": 106,
     "metadata": {},
     "output_type": "execute_result"
    }
   ],
   "source": [
    "a.dtype"
   ]
  },
  {
   "cell_type": "code",
   "execution_count": 107,
   "id": "2dd7fbb9",
   "metadata": {},
   "outputs": [
    {
     "data": {
      "text/plain": [
       "array([1, 2, 3, 4, 5], dtype=object)"
      ]
     },
     "execution_count": 107,
     "metadata": {},
     "output_type": "execute_result"
    }
   ],
   "source": [
    "a = np.array([1,2,3,4,5], dtype = \"object\")\n",
    "a"
   ]
  },
  {
   "cell_type": "code",
   "execution_count": null,
   "id": "c2c17727",
   "metadata": {},
   "outputs": [],
   "source": []
  },
  {
   "cell_type": "code",
   "execution_count": 77,
   "id": "9631d81a",
   "metadata": {},
   "outputs": [
    {
     "data": {
      "text/plain": [
       "array([1, 2, 3])"
      ]
     },
     "execution_count": 77,
     "metadata": {},
     "output_type": "execute_result"
    }
   ],
   "source": [
    "# Create an array of integers with 32-bit precision\n",
    "arr_int32 = np.array([1, 2, 3], dtype='int32')\n",
    "arr_int32"
   ]
  },
  {
   "cell_type": "code",
   "execution_count": 78,
   "id": "b649c3f4",
   "metadata": {},
   "outputs": [
    {
     "data": {
      "text/plain": [
       "array([1., 2., 3.])"
      ]
     },
     "execution_count": 78,
     "metadata": {},
     "output_type": "execute_result"
    }
   ],
   "source": [
    "# Create an array of floating-point numbers with 64-bit precision\n",
    "arr_float64 = np.array([1.0, 2.0, 3.0], dtype='float64')\n",
    "arr_float64"
   ]
  },
  {
   "cell_type": "markdown",
   "id": "796dc8a5",
   "metadata": {},
   "source": [
    "### Type Casting <a class = 'anchor' id = 'type'></a>\n",
    "- Type casting refers to the process of converting a variable from one data type to another. \n",
    "- In NumPy, this can be done using the astype() method. \n",
    "- For example, if you have an array of integers and you want to convert it to an array of floating-point numbers, we can use the following code:  \n",
    "`arr_float = arr_int.astype('float64')`"
   ]
  },
  {
   "cell_type": "code",
   "execution_count": 110,
   "id": "dde03c62",
   "metadata": {},
   "outputs": [
    {
     "data": {
      "text/plain": [
       "array([1, 2, 3], dtype=int64)"
      ]
     },
     "execution_count": 110,
     "metadata": {},
     "output_type": "execute_result"
    }
   ],
   "source": [
    "# Create an array of floating-point numbers with 32-bit precision\n",
    "arr_float32 = np.array([1.0, 2.0, 3.5], dtype='int64')\n",
    "\n",
    "arr_float32"
   ]
  },
  {
   "cell_type": "code",
   "execution_count": 111,
   "id": "16b2ae02",
   "metadata": {},
   "outputs": [
    {
     "data": {
      "text/plain": [
       "array(['1', '2', '3', '4', '5'], dtype='<U1')"
      ]
     },
     "execution_count": 111,
     "metadata": {},
     "output_type": "execute_result"
    }
   ],
   "source": [
    "a = np.array([1,2,3,4,5], dtype = \"str\")\n",
    "a"
   ]
  },
  {
   "cell_type": "code",
   "execution_count": 112,
   "id": "0421f1a0",
   "metadata": {},
   "outputs": [
    {
     "data": {
      "text/plain": [
       "dtype('<U1')"
      ]
     },
     "execution_count": 112,
     "metadata": {},
     "output_type": "execute_result"
    }
   ],
   "source": [
    "a.dtype"
   ]
  },
  {
   "cell_type": "code",
   "execution_count": 113,
   "id": "d1cc8f38",
   "metadata": {},
   "outputs": [
    {
     "data": {
      "text/plain": [
       "array([1, 2, 3, 4, 5], dtype=int64)"
      ]
     },
     "execution_count": 113,
     "metadata": {},
     "output_type": "execute_result"
    }
   ],
   "source": [
    "a.astype(\"int64\")"
   ]
  },
  {
   "cell_type": "code",
   "execution_count": 80,
   "id": "ea07e293",
   "metadata": {},
   "outputs": [
    {
     "data": {
      "text/plain": [
       "array([1, 2, 3])"
      ]
     },
     "execution_count": 80,
     "metadata": {},
     "output_type": "execute_result"
    }
   ],
   "source": [
    "# Cast the array to an integer type with 32-bit precision\n",
    "arr_int32 = arr_float32.astype('int32')\n",
    "arr_int32"
   ]
  },
  {
   "cell_type": "markdown",
   "id": "34c126ed",
   "metadata": {},
   "source": [
    "### Understanding Precision <a class = 'anchor' id = 'pre'>\n",
    "- In computing, precision refers to the number of digits that can be represented by a numerical data type.\n",
    "- In NumPy, precision is often determined by the number of bits used to represent a value. \n",
    "- For example, a **32-bit floating-point number** can represent values with a precision of roughly **7 digits**, while a **64-bit floating-point number** can represent values with a precision of roughly **16 digits**."
   ]
  },
  {
   "cell_type": "code",
   "execution_count": 81,
   "id": "7afdabd4",
   "metadata": {},
   "outputs": [
    {
     "name": "stdout",
     "output_type": "stream",
     "text": [
      "[1.1234568 2.1234567 3.1234567]\n",
      "[1.12345679 2.12345679 3.12345679]\n"
     ]
    }
   ],
   "source": [
    "# Create an array of floating-point numbers with 32-bit precision\n",
    "arr_float32 = np.array([1.123456789, 2.123456789, 3.123456789], dtype='float32')\n",
    "\n",
    "# Print the array\n",
    "print(arr_float32)\n",
    "\n",
    "# Create an array of floating-point numbers with 64-bit precision\n",
    "arr_float64 = np.array([1.123456789, 2.123456789, 3.123456789], dtype='float64')\n",
    "\n",
    "# Print the array\n",
    "print(arr_float64)"
   ]
  },
  {
   "cell_type": "markdown",
   "id": "4aa1d806",
   "metadata": {},
   "source": [
    "<h2><p style=\"text-align: center;\"> 5. Broadcasting</p></h2> <a class = 'anchor' id = 'broad'></a> "
   ]
  },
  {
   "cell_type": "markdown",
   "id": "f901a08b",
   "metadata": {},
   "source": [
    "- There are times when we might want to carry out an operation between an array and a single number or between arrays of two different sizes.\n",
    "- For example, our array (we’ll call it “data”) might contain information about distance in miles but we want to convert the information to kilometers."
   ]
  },
  {
   "cell_type": "code",
   "execution_count": 114,
   "id": "09be9578",
   "metadata": {},
   "outputs": [
    {
     "data": {
      "text/plain": [
       "array([1.6, 3.2])"
      ]
     },
     "execution_count": 114,
     "metadata": {},
     "output_type": "execute_result"
    }
   ],
   "source": [
    "# We can perform this operation with:\n",
    "import numpy as np\n",
    "data = np.array([1.0, 2.0])\n",
    "data * 1.6"
   ]
  },
  {
   "cell_type": "code",
   "execution_count": 122,
   "id": "6001eaf8",
   "metadata": {},
   "outputs": [
    {
     "data": {
      "text/plain": [
       "[1.0, 2.0]"
      ]
     },
     "execution_count": 122,
     "metadata": {},
     "output_type": "execute_result"
    }
   ],
   "source": [
    "l = list(data)\n",
    "l"
   ]
  },
  {
   "cell_type": "code",
   "execution_count": 123,
   "id": "5b912252",
   "metadata": {},
   "outputs": [
    {
     "data": {
      "text/plain": [
       "[1.0, 2.0, 1.0, 2.0, 1.0, 2.0, 1.0, 2.0, 1.0, 2.0]"
      ]
     },
     "execution_count": 123,
     "metadata": {},
     "output_type": "execute_result"
    }
   ],
   "source": [
    "l*5"
   ]
  },
  {
   "cell_type": "code",
   "execution_count": 124,
   "id": "04d0df15",
   "metadata": {},
   "outputs": [
    {
     "data": {
      "text/plain": [
       "[5.0, 10.0]"
      ]
     },
     "execution_count": 124,
     "metadata": {},
     "output_type": "execute_result"
    }
   ],
   "source": [
    "[x*5 for x in l]"
   ]
  },
  {
   "cell_type": "code",
   "execution_count": 126,
   "id": "24d39f7b",
   "metadata": {},
   "outputs": [
    {
     "data": {
      "text/plain": [
       "array([ 5., 10.])"
      ]
     },
     "execution_count": 126,
     "metadata": {},
     "output_type": "execute_result"
    }
   ],
   "source": [
    "data*5"
   ]
  },
  {
   "cell_type": "code",
   "execution_count": null,
   "id": "7d84e940",
   "metadata": {},
   "outputs": [],
   "source": []
  },
  {
   "cell_type": "code",
   "execution_count": 118,
   "id": "aa7649ce",
   "metadata": {},
   "outputs": [
    {
     "data": {
      "text/plain": [
       "array([[ 5, 10, 15, 20],\n",
       "       [25, 30, 35, 40]])"
      ]
     },
     "execution_count": 118,
     "metadata": {},
     "output_type": "execute_result"
    }
   ],
   "source": [
    "np.arange(1,9).reshape(2,4) * 5"
   ]
  },
  {
   "cell_type": "code",
   "execution_count": 119,
   "id": "7923f32b",
   "metadata": {},
   "outputs": [
    {
     "data": {
      "text/plain": [
       "array([[ 6,  7,  8,  9],\n",
       "       [10, 11, 12, 13]])"
      ]
     },
     "execution_count": 119,
     "metadata": {},
     "output_type": "execute_result"
    }
   ],
   "source": [
    "np.arange(1,9).reshape(2,4) + 5"
   ]
  },
  {
   "cell_type": "code",
   "execution_count": 120,
   "id": "a7f71ec7",
   "metadata": {},
   "outputs": [
    {
     "data": {
      "text/plain": [
       "array([[    1,    32,   243,  1024],\n",
       "       [ 3125,  7776, 16807, 32768]], dtype=int32)"
      ]
     },
     "execution_count": 120,
     "metadata": {},
     "output_type": "execute_result"
    }
   ],
   "source": [
    "np.arange(1,9).reshape(2,4) ** 5"
   ]
  },
  {
   "cell_type": "code",
   "execution_count": null,
   "id": "f2d15fbb",
   "metadata": {},
   "outputs": [],
   "source": []
  },
  {
   "cell_type": "markdown",
   "id": "1ce22cfe",
   "metadata": {},
   "source": [
    "![numpy_broadcast](https://numpy.org/doc/stable/_images/np_multiply_broadcasting.png)\n",
    "\n",
    "- NumPy understands that multiplication should happen with each cell. That concept is called broadcasting.\n",
    "- Broadcasting is a mechanism that allows NumPy to perform operations on arrays of different shapes. \n",
    "- The dimensions of our array must be compatible, for example, when the dimensions of both arrays are equal or when one of them is 1. If the dimensions are not compatible, we will get a ```ValueError```."
   ]
  },
  {
   "cell_type": "markdown",
   "id": "1fb5c0a0",
   "metadata": {},
   "source": [
    "<h2><p style=\"text-align: center;\"> 6. Advanced NumPy</p></h2> <a class = 'anchor' id = 'advance'></a> \n"
   ]
  },
  {
   "cell_type": "markdown",
   "id": "c99a2186",
   "metadata": {},
   "source": [
    "### Aggregation<a class=\"anchor\" id=\"aggre\"></a>\n",
    "We can aggregate matrices the same way you aggregated vectors:"
   ]
  },
  {
   "cell_type": "code",
   "execution_count": 127,
   "id": "c8eeb301",
   "metadata": {},
   "outputs": [
    {
     "data": {
      "text/plain": [
       "array([[1, 2],\n",
       "       [3, 4],\n",
       "       [5, 6]])"
      ]
     },
     "execution_count": 127,
     "metadata": {},
     "output_type": "execute_result"
    }
   ],
   "source": [
    "data = np.array([[1, 2], [3, 4], [5, 6]])\n",
    "data\n"
   ]
  },
  {
   "cell_type": "code",
   "execution_count": 128,
   "id": "a6b604fc",
   "metadata": {},
   "outputs": [
    {
     "data": {
      "text/plain": [
       "6"
      ]
     },
     "execution_count": 128,
     "metadata": {},
     "output_type": "execute_result"
    }
   ],
   "source": [
    "data.max()"
   ]
  },
  {
   "cell_type": "code",
   "execution_count": 129,
   "id": "b6189d7d",
   "metadata": {},
   "outputs": [
    {
     "data": {
      "text/plain": [
       "1"
      ]
     },
     "execution_count": 129,
     "metadata": {},
     "output_type": "execute_result"
    }
   ],
   "source": [
    "data.min()"
   ]
  },
  {
   "cell_type": "code",
   "execution_count": 130,
   "id": "874f4eaa",
   "metadata": {},
   "outputs": [
    {
     "data": {
      "text/plain": [
       "21"
      ]
     },
     "execution_count": 130,
     "metadata": {},
     "output_type": "execute_result"
    }
   ],
   "source": [
    "data.sum()"
   ]
  },
  {
   "cell_type": "code",
   "execution_count": 132,
   "id": "000144c5",
   "metadata": {},
   "outputs": [
    {
     "data": {
      "text/plain": [
       "array([ 9, 12])"
      ]
     },
     "execution_count": 132,
     "metadata": {},
     "output_type": "execute_result"
    }
   ],
   "source": [
    "data.sum(axis = 0)"
   ]
  },
  {
   "cell_type": "code",
   "execution_count": 133,
   "id": "e67999cf",
   "metadata": {},
   "outputs": [
    {
     "data": {
      "text/plain": [
       "array([ 3,  7, 11])"
      ]
     },
     "execution_count": 133,
     "metadata": {},
     "output_type": "execute_result"
    }
   ],
   "source": [
    "data.sum(axis = 1)"
   ]
  },
  {
   "cell_type": "code",
   "execution_count": 134,
   "id": "181d22a7",
   "metadata": {},
   "outputs": [
    {
     "data": {
      "text/plain": [
       "3.5"
      ]
     },
     "execution_count": 134,
     "metadata": {},
     "output_type": "execute_result"
    }
   ],
   "source": [
    "data.mean()"
   ]
  },
  {
   "cell_type": "code",
   "execution_count": 135,
   "id": "bf7a083d",
   "metadata": {},
   "outputs": [
    {
     "data": {
      "text/plain": [
       "array([3., 4.])"
      ]
     },
     "execution_count": 135,
     "metadata": {},
     "output_type": "execute_result"
    }
   ],
   "source": [
    "data.mean(axis = 0)"
   ]
  },
  {
   "cell_type": "markdown",
   "id": "4a6593f3",
   "metadata": {},
   "source": [
    "![numpy_aggregate](https://numpy.org/doc/stable/_images/np_matrix_aggregation.png)\n",
    "\n",
    "We can aggregate all the values in a matrix and you can aggregate them across columns or rows using the axis parameter. To illustrate this point, let’s look at a slightly modified dataset:"
   ]
  },
  {
   "cell_type": "code",
   "execution_count": 87,
   "id": "8c234069",
   "metadata": {},
   "outputs": [
    {
     "data": {
      "text/plain": [
       "array([[1, 2],\n",
       "       [5, 3],\n",
       "       [4, 6]])"
      ]
     },
     "execution_count": 87,
     "metadata": {},
     "output_type": "execute_result"
    }
   ],
   "source": [
    "data = np.array([[1, 2], [5, 3], [4, 6]])\n",
    "data"
   ]
  },
  {
   "cell_type": "code",
   "execution_count": 88,
   "id": "b3b388c8",
   "metadata": {},
   "outputs": [
    {
     "data": {
      "text/plain": [
       "array([5, 6])"
      ]
     },
     "execution_count": 88,
     "metadata": {},
     "output_type": "execute_result"
    }
   ],
   "source": [
    "# axis = 0 ,row wise maximum value\n",
    "data.max(axis=0)"
   ]
  },
  {
   "cell_type": "code",
   "execution_count": 89,
   "id": "df8e2f5c",
   "metadata": {},
   "outputs": [
    {
     "data": {
      "text/plain": [
       "array([2, 5, 6])"
      ]
     },
     "execution_count": 89,
     "metadata": {},
     "output_type": "execute_result"
    }
   ],
   "source": [
    "# axis = 1, column wise maximum value\n",
    "data.max(axis = 1)"
   ]
  },
  {
   "cell_type": "markdown",
   "id": "dfed70ba",
   "metadata": {},
   "source": [
    "![numpy_nax_min](https://numpy.org/doc/stable/_images/np_matrix_aggregation_row.png)\n",
    "\n",
    "Once you’ve created your matrices, you can add and multiply them using arithmetic operators if you have two matrices that are the same size."
   ]
  },
  {
   "cell_type": "code",
   "execution_count": 90,
   "id": "cda2330e",
   "metadata": {},
   "outputs": [
    {
     "data": {
      "text/plain": [
       "array([[2, 3],\n",
       "       [4, 5]])"
      ]
     },
     "execution_count": 90,
     "metadata": {},
     "output_type": "execute_result"
    }
   ],
   "source": [
    "data = np.array([[1, 2], [3, 4]])\n",
    "ones = np.array([[1, 1], [1, 1]])\n",
    "data + ones"
   ]
  },
  {
   "cell_type": "markdown",
   "id": "730ffc2b",
   "metadata": {},
   "source": [
    "![np_matrix_arithmetic](https://numpy.org/doc/stable/_images/np_matrix_arithmetic.png)\n",
    "\n",
    "We can do these arithmetic operations on matrices of different sizes, but only if one matrix has only one column or one row. In this case, NumPy will use its broadcast rules for the operation."
   ]
  },
  {
   "cell_type": "markdown",
   "id": "87b3c58d",
   "metadata": {},
   "source": [
    "### Random Number Generation<a class=\"anchor\" id=\"rng\"></a>\n",
    "- The use of random number generation is an important part of the configuration and evaluation of many numerical and machine learning algorithms. \n",
    "- Whether we need to randomly initialize weights in an artificial neural network, split data into random sets, or randomly shuffle your dataset, being able to generate random numbers (actually, repeatable pseudo-random numbers) is essential.\n",
    "\n",
    "\n",
    "### `randint()` will give us a random number from 0 upto our number\n"
   ]
  },
  {
   "cell_type": "code",
   "execution_count": 138,
   "id": "53200b19",
   "metadata": {},
   "outputs": [],
   "source": [
    "import random as rd\n"
   ]
  },
  {
   "cell_type": "code",
   "execution_count": 141,
   "id": "d2577a3e",
   "metadata": {},
   "outputs": [
    {
     "data": {
      "text/plain": [
       "9"
      ]
     },
     "execution_count": 141,
     "metadata": {},
     "output_type": "execute_result"
    }
   ],
   "source": [
    "rd.randrange(1,10)"
   ]
  },
  {
   "cell_type": "code",
   "execution_count": 148,
   "id": "d05247b8",
   "metadata": {},
   "outputs": [
    {
     "data": {
      "text/plain": [
       "42"
      ]
     },
     "execution_count": 148,
     "metadata": {},
     "output_type": "execute_result"
    }
   ],
   "source": [
    "rd.randint(1,100)"
   ]
  },
  {
   "cell_type": "code",
   "execution_count": 151,
   "id": "eaad4e4e",
   "metadata": {},
   "outputs": [
    {
     "data": {
      "text/plain": [
       "array([[79, 12, 36, 35],\n",
       "       [35,  7, 88, 41],\n",
       "       [76, 64,  4, 41],\n",
       "       [71, 35, 21, 27]])"
      ]
     },
     "execution_count": 151,
     "metadata": {},
     "output_type": "execute_result"
    }
   ],
   "source": [
    "# numpy random \n",
    "np.random.randint(1,100,size = (4,4))"
   ]
  },
  {
   "cell_type": "code",
   "execution_count": null,
   "id": "690801dc",
   "metadata": {},
   "outputs": [],
   "source": []
  },
  {
   "cell_type": "code",
   "execution_count": null,
   "id": "655c8cc4",
   "metadata": {},
   "outputs": [],
   "source": []
  },
  {
   "cell_type": "code",
   "execution_count": null,
   "id": "ef98dffd",
   "metadata": {},
   "outputs": [],
   "source": []
  },
  {
   "cell_type": "code",
   "execution_count": 91,
   "id": "bfdcce8e",
   "metadata": {},
   "outputs": [
    {
     "data": {
      "text/plain": [
       "25"
      ]
     },
     "execution_count": 91,
     "metadata": {},
     "output_type": "execute_result"
    }
   ],
   "source": [
    "# returns random integer number between 0 to 100\n",
    "np.random.randint(100)"
   ]
  },
  {
   "cell_type": "code",
   "execution_count": 92,
   "id": "aabe274a",
   "metadata": {},
   "outputs": [
    {
     "data": {
      "text/plain": [
       "array([[7, 2, 9, 5],\n",
       "       [6, 8, 4, 5],\n",
       "       [1, 3, 0, 5]])"
      ]
     },
     "execution_count": 92,
     "metadata": {},
     "output_type": "execute_result"
    }
   ],
   "source": [
    "# we can also specify the size of the array\n",
    "np.random.randint(10,  size = (3,4))"
   ]
  },
  {
   "cell_type": "code",
   "execution_count": 93,
   "id": "ef111394",
   "metadata": {},
   "outputs": [
    {
     "data": {
      "text/plain": [
       "0.3391192688203736"
      ]
     },
     "execution_count": 93,
     "metadata": {},
     "output_type": "execute_result"
    }
   ],
   "source": [
    "# value o to 1\n",
    "np.random.random()"
   ]
  },
  {
   "cell_type": "code",
   "execution_count": 94,
   "id": "10796ad2",
   "metadata": {},
   "outputs": [
    {
     "data": {
      "text/plain": [
       "array([[4, 2, 3, 3],\n",
       "       [1, 9, 2, 2],\n",
       "       [2, 4, 2, 0]])"
      ]
     },
     "execution_count": 94,
     "metadata": {},
     "output_type": "execute_result"
    }
   ],
   "source": [
    "# we can also specify the size of the array\n",
    "np.random.randint(10,  size = (3,4))"
   ]
  },
  {
   "cell_type": "code",
   "execution_count": 95,
   "id": "3bd92c8c",
   "metadata": {},
   "outputs": [
    {
     "data": {
      "text/plain": [
       "0.01696228018017709"
      ]
     },
     "execution_count": 95,
     "metadata": {},
     "output_type": "execute_result"
    }
   ],
   "source": [
    "# value o to 1\n",
    "np.random.random()"
   ]
  },
  {
   "cell_type": "code",
   "execution_count": 96,
   "id": "68d188e9",
   "metadata": {},
   "outputs": [
    {
     "data": {
      "text/plain": [
       "array([[0.409546  , 0.2038428 , 0.32277311],\n",
       "       [0.46165588, 0.49520288, 0.91358409]])"
      ]
     },
     "execution_count": 96,
     "metadata": {},
     "output_type": "execute_result"
    }
   ],
   "source": [
    "#returns random number between 0 to 1 with size 2 X 3\n",
    "np.random.random(size = (2,3))"
   ]
  },
  {
   "cell_type": "markdown",
   "id": "b3d1dc92",
   "metadata": {},
   "source": [
    "![np_ones_zeros_random](https://numpy.org/doc/stable/_images/np_ones_zeros_random.png)\n"
   ]
  },
  {
   "cell_type": "markdown",
   "id": "089d9d22",
   "metadata": {},
   "source": [
    "### How to get unique items and counts?\n",
    "We can find the unique elements in an array easily with ```np.unique```."
   ]
  },
  {
   "cell_type": "code",
   "execution_count": 153,
   "id": "7b702e79",
   "metadata": {},
   "outputs": [
    {
     "data": {
      "text/plain": [
       "array([ 1,  2,  3,  4,  5,  6,  6,  5,  4,  3,  1,  2,  3,  1,  2,  5,  3,\n",
       "        4,  2,  9,  9, -9,  1,  1,  1,  1,  1,  1,  1,  1])"
      ]
     },
     "execution_count": 153,
     "metadata": {},
     "output_type": "execute_result"
    }
   ],
   "source": [
    "a = np.array([1,2,3,4,5,6,6,5,4,3,1,2,3,1,2,5,3,4,2,9,9,-9,1,1,1,1,1,1,1,1])\n",
    "a"
   ]
  },
  {
   "cell_type": "code",
   "execution_count": 155,
   "id": "629fc202",
   "metadata": {},
   "outputs": [
    {
     "data": {
      "text/plain": [
       "array([-9,  1,  2,  3,  4,  5,  6,  9])"
      ]
     },
     "execution_count": 155,
     "metadata": {},
     "output_type": "execute_result"
    }
   ],
   "source": [
    "np.unique(a)"
   ]
  },
  {
   "cell_type": "code",
   "execution_count": null,
   "id": "2e806205",
   "metadata": {},
   "outputs": [],
   "source": []
  },
  {
   "cell_type": "code",
   "execution_count": null,
   "id": "f414364a",
   "metadata": {},
   "outputs": [],
   "source": []
  },
  {
   "cell_type": "code",
   "execution_count": 98,
   "id": "3708c5ef",
   "metadata": {},
   "outputs": [
    {
     "name": "stdout",
     "output_type": "stream",
     "text": [
      "[1 2 3 4 5 6]\n"
     ]
    }
   ],
   "source": [
    "# you can use np.unique to print the unique values in your array:\n",
    "unique_values = np.unique(a)\n",
    "print(unique_values)"
   ]
  },
  {
   "cell_type": "markdown",
   "id": "18b1973a",
   "metadata": {},
   "source": [
    "### Sorting <a class = 'anchor' id = 'sort'></a>\n",
    "For sorting an array we can pass one of following:\n",
    "- `a.sort(axis = 0/1)`  --> 0 means sorting according to row, and 1 means sorting according to column\n",
    "- `np.sort(a,axis = 0/1)`"
   ]
  },
  {
   "cell_type": "code",
   "execution_count": 160,
   "id": "155e91fd",
   "metadata": {},
   "outputs": [
    {
     "data": {
      "text/plain": [
       "array([[7, 8, 1, 3],\n",
       "       [4, 6, 1, 9],\n",
       "       [5, 1, 1, 2]])"
      ]
     },
     "execution_count": 160,
     "metadata": {},
     "output_type": "execute_result"
    }
   ],
   "source": [
    "a = np.random.randint(1,10,size = (3,4))\n",
    "a"
   ]
  },
  {
   "cell_type": "code",
   "execution_count": 161,
   "id": "30de5630",
   "metadata": {},
   "outputs": [],
   "source": [
    "a.sort(axis = 0)"
   ]
  },
  {
   "cell_type": "code",
   "execution_count": 162,
   "id": "12eacdd8",
   "metadata": {},
   "outputs": [
    {
     "data": {
      "text/plain": [
       "array([[4, 1, 1, 2],\n",
       "       [5, 6, 1, 3],\n",
       "       [7, 8, 1, 9]])"
      ]
     },
     "execution_count": 162,
     "metadata": {},
     "output_type": "execute_result"
    }
   ],
   "source": [
    "a"
   ]
  },
  {
   "cell_type": "code",
   "execution_count": 163,
   "id": "de561636",
   "metadata": {},
   "outputs": [
    {
     "data": {
      "text/plain": [
       "array([[7, 6, 2, 1],\n",
       "       [5, 8, 1, 5],\n",
       "       [3, 1, 8, 6]])"
      ]
     },
     "execution_count": 163,
     "metadata": {},
     "output_type": "execute_result"
    }
   ],
   "source": [
    "b = np.random.randint(1,10,size = (3,4))\n",
    "b"
   ]
  },
  {
   "cell_type": "code",
   "execution_count": 166,
   "id": "31d16bbf",
   "metadata": {},
   "outputs": [
    {
     "ename": "TypeError",
     "evalue": "'tuple' object cannot be interpreted as an integer",
     "output_type": "error",
     "traceback": [
      "\u001b[1;31m---------------------------------------------------------------------------\u001b[0m",
      "\u001b[1;31mTypeError\u001b[0m                                 Traceback (most recent call last)",
      "Cell \u001b[1;32mIn[166], line 1\u001b[0m\n\u001b[1;32m----> 1\u001b[0m b\u001b[38;5;241m.\u001b[39msort(axis \u001b[38;5;241m=\u001b[39m (\u001b[38;5;241m0\u001b[39m,\u001b[38;5;241m1\u001b[39m))\n",
      "\u001b[1;31mTypeError\u001b[0m: 'tuple' object cannot be interpreted as an integer"
     ]
    }
   ],
   "source": [
    "b.sort(axis = 0)"
   ]
  },
  {
   "cell_type": "code",
   "execution_count": 170,
   "id": "7fbbadd2",
   "metadata": {},
   "outputs": [
    {
     "data": {
      "text/plain": [
       "array([1, 2, 6, 7, 1, 5, 5, 8, 1, 3, 6, 8])"
      ]
     },
     "execution_count": 170,
     "metadata": {},
     "output_type": "execute_result"
    }
   ],
   "source": [
    "b1 = b.flatten()\n",
    "b1"
   ]
  },
  {
   "cell_type": "code",
   "execution_count": 173,
   "id": "7d3bb2b9",
   "metadata": {},
   "outputs": [
    {
     "data": {
      "text/plain": [
       "array([1, 1, 1, 2, 3, 5, 5, 6, 6, 7, 8, 8])"
      ]
     },
     "execution_count": 173,
     "metadata": {},
     "output_type": "execute_result"
    }
   ],
   "source": [
    "b1.sort()\n",
    "b1"
   ]
  },
  {
   "cell_type": "code",
   "execution_count": 99,
   "id": "b19b38cc",
   "metadata": {},
   "outputs": [
    {
     "data": {
      "text/plain": [
       "array([[1, 2],\n",
       "       [5, 3],\n",
       "       [4, 6]])"
      ]
     },
     "execution_count": 99,
     "metadata": {},
     "output_type": "execute_result"
    }
   ],
   "source": [
    "data = np.array([[1, 2], [5, 3], [4, 6]])\n",
    "data"
   ]
  },
  {
   "cell_type": "code",
   "execution_count": 100,
   "id": "ddbbe6b5",
   "metadata": {},
   "outputs": [
    {
     "data": {
      "text/plain": [
       "array([[1, 2],\n",
       "       [4, 3],\n",
       "       [5, 6]])"
      ]
     },
     "execution_count": 100,
     "metadata": {},
     "output_type": "execute_result"
    }
   ],
   "source": [
    "data.sort(axis = 0)  # row sorting\n",
    "data"
   ]
  },
  {
   "cell_type": "code",
   "execution_count": 101,
   "id": "6bebbe29",
   "metadata": {},
   "outputs": [
    {
     "data": {
      "text/plain": [
       "array([[1, 2],\n",
       "       [4, 3],\n",
       "       [5, 6]])"
      ]
     },
     "execution_count": 101,
     "metadata": {},
     "output_type": "execute_result"
    }
   ],
   "source": [
    "data = np.array([[1, 2], [5, 3], [4, 6]])\n",
    "# we can perform sorting operation this way also\n",
    "np.sort(data, axis = 0)"
   ]
  },
  {
   "cell_type": "markdown",
   "id": "554b4957",
   "metadata": {},
   "source": [
    "### Filtering arrays <a class = 'anchor' id = 'fliter'></a>\n",
    "-  We create an array of integers and then create a boolean mask to filter even numbers. We do this by checking if the remainder of each element in the array divided by 2 is equal to 0. "
   ]
  },
  {
   "cell_type": "code",
   "execution_count": 177,
   "id": "95a3f49b",
   "metadata": {},
   "outputs": [
    {
     "data": {
      "text/plain": [
       "array([[463, 200, 260, 216, 201, 322, 208, 330, 214, 418, 322, 357]])"
      ]
     },
     "execution_count": 177,
     "metadata": {},
     "output_type": "execute_result"
    }
   ],
   "source": [
    "# sales of a product of a company for the year\n",
    "data = np.random.randint(200,500,size = (1,12))\n",
    "data"
   ]
  },
  {
   "cell_type": "code",
   "execution_count": 180,
   "id": "51dc5e92",
   "metadata": {},
   "outputs": [
    {
     "data": {
      "text/plain": [
       "array([463, 322, 330, 418, 322, 357])"
      ]
     },
     "execution_count": 180,
     "metadata": {},
     "output_type": "execute_result"
    }
   ],
   "source": [
    "data[data > 300]"
   ]
  },
  {
   "cell_type": "code",
   "execution_count": 179,
   "id": "88cf3ef6",
   "metadata": {},
   "outputs": [
    {
     "data": {
      "text/plain": [
       "array([[ True, False, False, False, False,  True, False,  True, False,\n",
       "         True,  True,  True]])"
      ]
     },
     "execution_count": 179,
     "metadata": {},
     "output_type": "execute_result"
    }
   ],
   "source": [
    "data>300"
   ]
  },
  {
   "cell_type": "code",
   "execution_count": 181,
   "id": "999c18c6",
   "metadata": {},
   "outputs": [
    {
     "data": {
      "text/plain": [
       "array([200, 260, 216, 201, 208, 214])"
      ]
     },
     "execution_count": 181,
     "metadata": {},
     "output_type": "execute_result"
    }
   ],
   "source": [
    "data[data<= 300]"
   ]
  },
  {
   "cell_type": "code",
   "execution_count": 182,
   "id": "cb8870d1",
   "metadata": {},
   "outputs": [
    {
     "data": {
      "text/plain": [
       "array([[False,  True,  True,  True, False,  True,  True,  True,  True,\n",
       "         True,  True, False]])"
      ]
     },
     "execution_count": 182,
     "metadata": {},
     "output_type": "execute_result"
    }
   ],
   "source": [
    "# xyz company want only even value\n",
    "\n",
    "data % 2 == 0"
   ]
  },
  {
   "cell_type": "code",
   "execution_count": 183,
   "id": "01187eb0",
   "metadata": {},
   "outputs": [
    {
     "data": {
      "text/plain": [
       "array([200, 260, 216, 322, 208, 330, 214, 418, 322])"
      ]
     },
     "execution_count": 183,
     "metadata": {},
     "output_type": "execute_result"
    }
   ],
   "source": [
    "data[data % 2 == 0]"
   ]
  },
  {
   "cell_type": "code",
   "execution_count": 184,
   "id": "6dd8bd79",
   "metadata": {},
   "outputs": [
    {
     "data": {
      "text/plain": [
       "array([463, 201, 357])"
      ]
     },
     "execution_count": 184,
     "metadata": {},
     "output_type": "execute_result"
    }
   ],
   "source": [
    "data[data % 2 == 1]"
   ]
  },
  {
   "cell_type": "code",
   "execution_count": 102,
   "id": "bf181fb0",
   "metadata": {},
   "outputs": [
    {
     "name": "stdout",
     "output_type": "stream",
     "text": [
      "[2 4]\n"
     ]
    }
   ],
   "source": [
    "# Create an array of integers\n",
    "arr = np.array([1, 2, 3, 4, 5])\n",
    "\n",
    "# Create a boolean mask to filter even numbers\n",
    "mask = (arr % 2 == 0)\n",
    "\n",
    "# Filter the array using the boolean mask\n",
    "filtered_arr = arr[mask]\n",
    "\n",
    "# Print the filtered array\n",
    "print(filtered_arr)"
   ]
  },
  {
   "cell_type": "markdown",
   "id": "ba3bab4c",
   "metadata": {},
   "source": [
    "We also use the condition `arr > 3` to create a boolean mask that is True for elements in the array that are greater than 3. We then use this boolean mask to filter the array and create a new array that contains only elements greater than 3."
   ]
  },
  {
   "cell_type": "code",
   "execution_count": 103,
   "id": "f2011643",
   "metadata": {},
   "outputs": [
    {
     "name": "stdout",
     "output_type": "stream",
     "text": [
      "[4 5]\n"
     ]
    }
   ],
   "source": [
    "# Create an array of integers\n",
    "arr = np.array([1, 2, 3, 4, 5])\n",
    "\n",
    "# Filter the array using a conditional statement\n",
    "filtered_arr = arr[arr > 3]\n",
    "\n",
    "# Print the filtered array\n",
    "print(filtered_arr)"
   ]
  },
  {
   "cell_type": "markdown",
   "id": "8afe4b36",
   "metadata": {},
   "source": [
    "- We can also create a 2D array of integers and then create a boolean mask to filter even numbers. \n",
    "- We do this by checking if the remainder of each element in the array divided by 2 is equal to 0. We then use the boolean mask to filter the 2D array and create a new 1D array that contains only the even numbers.\n"
   ]
  },
  {
   "cell_type": "code",
   "execution_count": 104,
   "id": "d42be588",
   "metadata": {},
   "outputs": [
    {
     "name": "stdout",
     "output_type": "stream",
     "text": [
      "[2 4 6 8]\n"
     ]
    }
   ],
   "source": [
    "# Create a 2D array of integers\n",
    "arr_2d = np.array([[1, 2, 3], [4, 5, 6], [7, 8, 9]])\n",
    "\n",
    "# Create a boolean mask to filter even numbers\n",
    "mask = arr_2d % 2 == 0\n",
    "\n",
    "# Filter the array using the boolean mask\n",
    "filtered_arr = arr_2d[mask]\n",
    "\n",
    "# Print the filtered array\n",
    "print(filtered_arr)"
   ]
  },
  {
   "cell_type": "markdown",
   "id": "5dd5fd18",
   "metadata": {},
   "source": [
    "### Linear algebra operations <a class =  'anchor' id = 'lao'></a>\n",
    "We can also perform linear algebra operations. There are some given below:\n",
    "- Matrix multiplication\n",
    "- Matrix inversion\n"
   ]
  },
  {
   "cell_type": "code",
   "execution_count": 105,
   "id": "337c60ea",
   "metadata": {},
   "outputs": [
    {
     "name": "stdout",
     "output_type": "stream",
     "text": [
      "[[19 22]\n",
      " [43 50]]\n"
     ]
    }
   ],
   "source": [
    "# Matrix multiplication\n",
    "# Create two matrices\n",
    "A = np.array([[1, 2], [3, 4]])\n",
    "B = np.array([[5, 6], [7, 8]])\n",
    "\n",
    "# Multiply the matrices\n",
    "C = np.dot(A, B)\n",
    "\n",
    "# Print the result\n",
    "print(C)"
   ]
  },
  {
   "cell_type": "code",
   "execution_count": 106,
   "id": "bef775f5",
   "metadata": {},
   "outputs": [
    {
     "name": "stdout",
     "output_type": "stream",
     "text": [
      "[[-2.   1. ]\n",
      " [ 1.5 -0.5]]\n"
     ]
    }
   ],
   "source": [
    "# Matrix inversion\n",
    "# Create a matrix\n",
    "A = np.array([[1, 2], [3, 4]])\n",
    "\n",
    "# Find the inverse of the matrix\n",
    "A_inv = np.linalg.inv(A)\n",
    "\n",
    "# Print the result\n",
    "print(A_inv)"
   ]
  },
  {
   "cell_type": "code",
   "execution_count": null,
   "id": "c8ce2cca",
   "metadata": {},
   "outputs": [],
   "source": []
  },
  {
   "cell_type": "code",
   "execution_count": null,
   "id": "1ef35146",
   "metadata": {},
   "outputs": [],
   "source": []
  }
 ],
 "metadata": {
  "kernelspec": {
   "display_name": "Python 3 (ipykernel)",
   "language": "python",
   "name": "python3"
  },
  "language_info": {
   "codemirror_mode": {
    "name": "ipython",
    "version": 3
   },
   "file_extension": ".py",
   "mimetype": "text/x-python",
   "name": "python",
   "nbconvert_exporter": "python",
   "pygments_lexer": "ipython3",
   "version": "3.9.7"
  }
 },
 "nbformat": 4,
 "nbformat_minor": 5
}
