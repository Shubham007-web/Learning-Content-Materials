{
 "cells": [
  {
   "cell_type": "markdown",
   "id": "39636874",
   "metadata": {},
   "source": [
    "# Pratice Exercise"
   ]
  },
  {
   "cell_type": "code",
   "execution_count": null,
   "id": "103cfef5",
   "metadata": {},
   "outputs": [],
   "source": []
  },
  {
   "cell_type": "markdown",
   "id": "b4f030fc",
   "metadata": {},
   "source": [
    " Calculating Statistical Measures (*args)\n",
    "### Q1. Write a function named `stats(*numbers)` that computes the average and variance of an arbitrary number of input numbers.\n",
    "\n",
    "```python\n",
    "\n",
    "input_data = [1, 2, 3, 4, 5]\n",
    "\n",
    "### output: (3.0, 2.0)  # (mean, variance)\n",
    "\n",
    "```"
   ]
  },
  {
   "cell_type": "code",
   "execution_count": null,
   "id": "ad1ea435",
   "metadata": {},
   "outputs": [],
   "source": []
  },
  {
   "cell_type": "code",
   "execution_count": null,
   "id": "4cf2501e",
   "metadata": {},
   "outputs": [],
   "source": []
  },
  {
   "cell_type": "markdown",
   "id": "a09b974d",
   "metadata": {},
   "source": [
    "Aggregating Data from Different Sources\n",
    "### Q2. You're given data as multiple lists representing information from different sources. Write a function named `Merged_data(*data_sources)` that can accept any number of lists and returns a single list containing all the data combined.\n",
    "\n",
    "```python\n",
    "# inputs\n",
    "data1 = [1, 2, 3]\n",
    "data2 = [4, 5]\n",
    "data3 = [6, 7, 8, 9]\n",
    "\n",
    "# output : [1, 2, 3, 4, 5, 6, 7, 8, 9]\n",
    "\n",
    "```"
   ]
  },
  {
   "cell_type": "code",
   "execution_count": null,
   "id": "a59493a2",
   "metadata": {},
   "outputs": [],
   "source": []
  },
  {
   "cell_type": "code",
   "execution_count": null,
   "id": "fcea608a",
   "metadata": {},
   "outputs": [],
   "source": []
  },
  {
   "cell_type": "code",
   "execution_count": null,
   "id": "7c6fb3af",
   "metadata": {},
   "outputs": [],
   "source": []
  },
  {
   "cell_type": "code",
   "execution_count": null,
   "id": "8f4c11fa",
   "metadata": {},
   "outputs": [],
   "source": []
  },
  {
   "cell_type": "code",
   "execution_count": null,
   "id": "2897910f",
   "metadata": {},
   "outputs": [],
   "source": []
  },
  {
   "cell_type": "markdown",
   "id": "3e9062db",
   "metadata": {},
   "source": [
    "### Q3. Create a function named \"S_count(text,char)\" that can count total number of a spefic character in the given text.\n"
   ]
  },
  {
   "cell_type": "code",
   "execution_count": null,
   "id": "be5f2ac5",
   "metadata": {},
   "outputs": [],
   "source": []
  },
  {
   "cell_type": "code",
   "execution_count": null,
   "id": "114189e8",
   "metadata": {},
   "outputs": [],
   "source": []
  },
  {
   "cell_type": "markdown",
   "id": "d6e7d02d",
   "metadata": {},
   "source": [
    "\n",
    "### Q4. Create a function named \"WordCount(text,word)\" that can count total number word occurs in the given text."
   ]
  },
  {
   "cell_type": "code",
   "execution_count": null,
   "id": "220e5702",
   "metadata": {},
   "outputs": [],
   "source": []
  },
  {
   "cell_type": "code",
   "execution_count": null,
   "id": "45e32cdd",
   "metadata": {},
   "outputs": [],
   "source": []
  },
  {
   "cell_type": "markdown",
   "id": "9eca25da",
   "metadata": {},
   "source": [
    "### Q5. Create a function named \"VowelCount(text) that can returns total number of vowel used in the text\"\n"
   ]
  },
  {
   "cell_type": "code",
   "execution_count": null,
   "id": "6a5d5c9a",
   "metadata": {},
   "outputs": [],
   "source": []
  },
  {
   "cell_type": "code",
   "execution_count": null,
   "id": "f634b324",
   "metadata": {},
   "outputs": [],
   "source": []
  },
  {
   "cell_type": "markdown",
   "id": "0406f8a6",
   "metadata": {},
   "source": [
    "\n",
    "### Q6. Create a function named \"ConsCount(text) that can return total number of consonant used in the given text.\""
   ]
  },
  {
   "cell_type": "code",
   "execution_count": null,
   "id": "c0cbfb30",
   "metadata": {},
   "outputs": [],
   "source": []
  },
  {
   "cell_type": "code",
   "execution_count": null,
   "id": "324603ed",
   "metadata": {},
   "outputs": [],
   "source": []
  },
  {
   "cell_type": "markdown",
   "id": "0e27d875",
   "metadata": {},
   "source": [
    "### Q7. Make a user defined function named \"WordCounter(text)\" that can count total number of words used in the given text.\n"
   ]
  },
  {
   "cell_type": "code",
   "execution_count": null,
   "id": "53a1bdd3",
   "metadata": {},
   "outputs": [],
   "source": []
  },
  {
   "cell_type": "code",
   "execution_count": null,
   "id": "e3b43f6e",
   "metadata": {},
   "outputs": [],
   "source": []
  },
  {
   "cell_type": "markdown",
   "id": "7acd0bb6",
   "metadata": {},
   "source": [
    "### Q8. Make a udf that can find list of numbers used in the given text data and name of function should \"Numeric(text_data).\""
   ]
  },
  {
   "cell_type": "code",
   "execution_count": null,
   "id": "1a07ab40",
   "metadata": {},
   "outputs": [],
   "source": []
  },
  {
   "cell_type": "code",
   "execution_count": null,
   "id": "18de7801",
   "metadata": {},
   "outputs": [],
   "source": []
  },
  {
   "cell_type": "markdown",
   "id": "2559633a",
   "metadata": {},
   "source": [
    "\n",
    "### Q9. Write a udf named \"SumOfDigit(number)\" that can count total number of digits of given number."
   ]
  },
  {
   "cell_type": "code",
   "execution_count": null,
   "id": "28ae6070",
   "metadata": {},
   "outputs": [],
   "source": []
  },
  {
   "cell_type": "code",
   "execution_count": null,
   "id": "bd445626",
   "metadata": {},
   "outputs": [],
   "source": []
  },
  {
   "cell_type": "markdown",
   "id": "48114ed7",
   "metadata": {},
   "source": [
    "### Q10. Create a udf named \"SumOfFactors(number)\" that can calculate sum of factors of given number."
   ]
  },
  {
   "cell_type": "code",
   "execution_count": null,
   "id": "37afb5bb",
   "metadata": {},
   "outputs": [],
   "source": []
  },
  {
   "cell_type": "code",
   "execution_count": null,
   "id": "4a8e501c",
   "metadata": {},
   "outputs": [],
   "source": []
  },
  {
   "cell_type": "markdown",
   "id": "2670c717",
   "metadata": {},
   "source": [
    "### Q11. Define a udf name \"Qroot(a,b,c)\" that can return the values of roots of a given quadratic equation.\n"
   ]
  },
  {
   "cell_type": "code",
   "execution_count": null,
   "id": "6aec7e62",
   "metadata": {},
   "outputs": [],
   "source": []
  },
  {
   "cell_type": "code",
   "execution_count": null,
   "id": "dde7a2e2",
   "metadata": {},
   "outputs": [],
   "source": []
  },
  {
   "cell_type": "markdown",
   "id": "269f3e6b",
   "metadata": {},
   "source": [
    "### Q12. Write a udf function named \"Median(*data)\" that can find medain of given data.\n"
   ]
  },
  {
   "cell_type": "code",
   "execution_count": null,
   "id": "f78ec0f1",
   "metadata": {},
   "outputs": [],
   "source": []
  },
  {
   "cell_type": "code",
   "execution_count": null,
   "id": "6e56ce64",
   "metadata": {},
   "outputs": [],
   "source": []
  },
  {
   "cell_type": "code",
   "execution_count": null,
   "id": "95a97f7a",
   "metadata": {},
   "outputs": [],
   "source": []
  },
  {
   "cell_type": "markdown",
   "id": "b0801438",
   "metadata": {},
   "source": [
    "### Q13. Define a function that can calculate returns list of follwoing:\n",
    "- maxium value\n",
    "- minium value\n",
    "- range of data (max - min)"
   ]
  },
  {
   "cell_type": "code",
   "execution_count": null,
   "id": "3e59d7c4",
   "metadata": {},
   "outputs": [],
   "source": []
  },
  {
   "cell_type": "code",
   "execution_count": null,
   "id": "59c2f391",
   "metadata": {},
   "outputs": [],
   "source": []
  },
  {
   "cell_type": "code",
   "execution_count": null,
   "id": "0befd173",
   "metadata": {},
   "outputs": [],
   "source": []
  },
  {
   "cell_type": "markdown",
   "id": "b841bc21",
   "metadata": {},
   "source": [
    "# Business Case Study Base\n",
    "\n",
    "### **E-Shop Analytics**\n",
    "E-Shop is a small online store selling electronic products. They maintain a dataset of products and their sales. Each product record includes a product name, a list of daily sales for the past week, and the product price. E-Shop wants to analyze this data to optimize their sales strategies.\n",
    "\n",
    "**DataSet:**"
   ]
  },
  {
   "attachments": {
    "image.png": {
     "image/png": "[encoded data removed]"
    }
   },
   "cell_type": "markdown",
   "id": "d5d9ba4a",
   "metadata": {},
   "source": [
    "![image.png](attachment:image.png)"
   ]
  },
  {
   "cell_type": "markdown",
   "id": "acf5156e",
   "metadata": {},
   "source": [
    "```python \n",
    "# The dataset as a list of dictionaries\n",
    "products = [\n",
    "    {\"Product Name\": \"Smartphone\", \"Daily Sales (Past Week)\": [120, 130, 110, 125, 115, 140, 135], \"Price ($)\": 500},\n",
    "    {\"Product Name\": \"Laptop\", \"Daily Sales (Past Week)\": [50, 55, 52, 53, 60, 58, 57], \"Price ($)\": 1000},\n",
    "    {\"Product Name\": \"Headphones\", \"Daily Sales (Past Week)\": [200, 210, 205, 215, 220, 230, 225], \"Price ($)\": 100}\n",
    "]\n",
    "\n",
    "```"
   ]
  },
  {
   "cell_type": "markdown",
   "id": "8796ea79",
   "metadata": {},
   "source": [
    "Name: FindMaxSales\n",
    "### Q1. Write a function named FindMaxSales(dataset, product_name) that returns the day (0-6, where 0 is the first day of the past week) with the maximum sales for a given product name.\n",
    "\n",
    "- **Sample Input:** FindMaxSales(dataset, \"Smartphone\")  \n",
    "- **Sample Output**: 5\n",
    "\n",
    "- **Hints:** You can use the max() function to find the maximum value and index() to find its position in the list."
   ]
  },
  {
   "cell_type": "code",
   "execution_count": null,
   "id": "ecf6c247",
   "metadata": {},
   "outputs": [],
   "source": []
  },
  {
   "cell_type": "code",
   "execution_count": null,
   "id": "72258776",
   "metadata": {},
   "outputs": [],
   "source": []
  },
  {
   "cell_type": "code",
   "execution_count": null,
   "id": "d73b455b",
   "metadata": {},
   "outputs": [],
   "source": []
  },
  {
   "cell_type": "code",
   "execution_count": null,
   "id": "cb4a9618",
   "metadata": {},
   "outputs": [],
   "source": []
  },
  {
   "cell_type": "markdown",
   "id": "d0c9fd26",
   "metadata": {},
   "source": [
    "Name: CalculateAverageSales\n",
    "\n",
    "### Q2.  Write a function named CalculateAverageSales(dataset, product_name) that returns the average sales over the past week for a given product name.\n",
    "- **Sample Input:** CalculateAverageSales(dataset, \"Laptop\")\n",
    "- **Sample Output**: 55\n",
    "- **Hints:** You can sum up the sales for the product and then divide by 7.\n"
   ]
  },
  {
   "cell_type": "code",
   "execution_count": null,
   "id": "12f47165",
   "metadata": {},
   "outputs": [],
   "source": []
  },
  {
   "cell_type": "code",
   "execution_count": null,
   "id": "5bb213bb",
   "metadata": {},
   "outputs": [],
   "source": []
  },
  {
   "cell_type": "code",
   "execution_count": null,
   "id": "ac595f56",
   "metadata": {},
   "outputs": [],
   "source": []
  },
  {
   "cell_type": "code",
   "execution_count": null,
   "id": "24ebb080",
   "metadata": {},
   "outputs": [],
   "source": []
  },
  {
   "cell_type": "markdown",
   "id": "e8de8d32",
   "metadata": {},
   "source": [
    "TotalRevenueForWeek\n",
    "### Q3. Write a function named `TotalRevenueForWeek(dataset, product_name)` that calculates the total revenue generated by a product over the past week.\n",
    "- **Sample Input:** `TotalRevenueForWeek(dataset, \"Headphones\")`\n",
    "- **Sample Output:** `15050`\n",
    "- **Hints:** Multiply the total sales by the product price to get the revenue."
   ]
  },
  {
   "cell_type": "code",
   "execution_count": null,
   "id": "b9cf0797",
   "metadata": {},
   "outputs": [],
   "source": []
  },
  {
   "cell_type": "code",
   "execution_count": null,
   "id": "764a15d6",
   "metadata": {},
   "outputs": [],
   "source": []
  },
  {
   "cell_type": "code",
   "execution_count": null,
   "id": "54c1d5fe",
   "metadata": {},
   "outputs": [],
   "source": []
  },
  {
   "cell_type": "code",
   "execution_count": null,
   "id": "33a3370e",
   "metadata": {},
   "outputs": [],
   "source": []
  },
  {
   "cell_type": "markdown",
   "id": "aa1594ae",
   "metadata": {},
   "source": [
    "---\n",
    "  FindMinSales\n",
    "### Q4. Write a function named `FindMinSales(dataset, product_name)` that returns the day (0-6, where 0 is the first day of the past week) with the minimum sales for a given product name.\n",
    "- **Sample Input:** `FindMinSales(dataset, \"Smartphone\")`\n",
    "- **Sample Output:** `2`\n",
    "- **Hints:** You can use the `min()` function to find the minimum value and `index()` to find its position in the list.\n",
    "\n",
    "---"
   ]
  },
  {
   "cell_type": "code",
   "execution_count": null,
   "id": "49ced2e0",
   "metadata": {},
   "outputs": [],
   "source": []
  },
  {
   "cell_type": "code",
   "execution_count": null,
   "id": "d4861460",
   "metadata": {},
   "outputs": [],
   "source": []
  },
  {
   "cell_type": "markdown",
   "id": "ea4eedbe",
   "metadata": {},
   "source": []
  },
  {
   "cell_type": "markdown",
   "id": "0a195cf8",
   "metadata": {},
   "source": [
    "---\n",
    "CalculateSalesRange\n",
    "\n",
    "### Q5.  Write a function named `CalculateSalesRange(dataset, product_name)` that returns the range of sales (difference between maximum and minimum) over the past week for a given product name.\n",
    "- **Sample Input:** `CalculateSalesRange(dataset, \"Laptop\")`\n",
    "- **Sample Output:** `10`\n",
    "- **Hints:** Subtract the minimum sales from the maximum sales for the product over the week.\n",
    "\n",
    "---"
   ]
  },
  {
   "cell_type": "code",
   "execution_count": null,
   "id": "9495090e",
   "metadata": {},
   "outputs": [],
   "source": []
  },
  {
   "cell_type": "code",
   "execution_count": null,
   "id": "ad2a814a",
   "metadata": {},
   "outputs": [],
   "source": []
  },
  {
   "cell_type": "code",
   "execution_count": null,
   "id": "e87fafb4",
   "metadata": {},
   "outputs": [],
   "source": []
  },
  {
   "cell_type": "markdown",
   "id": "565cd172",
   "metadata": {},
   "source": [
    "---\n",
    "TotalUnitsSold\n",
    "### Q6. Write a function named `TotalUnitsSold(dataset)` that calculates the total number of units sold for all products over the past week.\n",
    "- **Sample Input:** `TotalUnitsSold(dataset)`\n",
    "- **Sample Output:** `1375`\n",
    "- **Hints:** Sum up the daily sales for each product and then sum these totals.\n",
    "\n",
    "---"
   ]
  },
  {
   "cell_type": "code",
   "execution_count": null,
   "id": "c904f70d",
   "metadata": {},
   "outputs": [],
   "source": []
  },
  {
   "cell_type": "code",
   "execution_count": null,
   "id": "117974cd",
   "metadata": {},
   "outputs": [],
   "source": []
  },
  {
   "cell_type": "code",
   "execution_count": null,
   "id": "1efc91b4",
   "metadata": {},
   "outputs": [],
   "source": []
  },
  {
   "cell_type": "markdown",
   "id": "6b5583e5",
   "metadata": {},
   "source": [
    "---\n",
    "MostPopularProduct\n",
    "### Q7.  Write a function named `MostPopularProduct(dataset)` that identifies the product with the highest total sales over the past week.\n",
    "- **Sample Input:** `MostPopularProduct(dataset)`\n",
    "- **Sample Output:** `Smartphone`\n",
    "- **Hints:** Sum the sales for each product over the week and find the product with the highest total.\n",
    "\n",
    "---"
   ]
  },
  {
   "cell_type": "code",
   "execution_count": null,
   "id": "9060f7d0",
   "metadata": {},
   "outputs": [],
   "source": []
  },
  {
   "cell_type": "code",
   "execution_count": null,
   "id": "bcb45f80",
   "metadata": {},
   "outputs": [],
   "source": []
  },
  {
   "cell_type": "code",
   "execution_count": null,
   "id": "690f1216",
   "metadata": {},
   "outputs": [],
   "source": []
  },
  {
   "cell_type": "code",
   "execution_count": null,
   "id": "bc749cff",
   "metadata": {},
   "outputs": [],
   "source": []
  },
  {
   "cell_type": "markdown",
   "id": "61d35afb",
   "metadata": {},
   "source": [
    "\n",
    "---\n",
    "### Q8. RevenueAboveThreshold\n",
    "\n",
    "Write a function named `RevenueAboveThreshold(dataset, threshold)` that returns the names of products that have generated a revenue above a given threshold over the past week.\n",
    "- **Sample Input:** `RevenueAboveThreshold(dataset, 10000)`\n",
    "- **Sample Output:** `['Smartphone', 'Laptop']`\n",
    "- **Hints:** Calculate the revenue for each product and compare it to the threshold.\n",
    "---\n",
    "```python\n",
    "\n",
    "dataset = [\n",
    "    [\"Smartphone\", [120, 130, 110, 125, 115, 140, 135], 500],\n",
    "    [\"Laptop\", [50, 55, 52, 53, 60, 58, 57], 1000],\n",
    "    [\"Headphones\", [200, 210, 205, 215, 220, 230, 225], 50]\n",
    "]\n",
    "```"
   ]
  },
  {
   "cell_type": "code",
   "execution_count": null,
   "id": "6f4e54e0",
   "metadata": {},
   "outputs": [],
   "source": []
  },
  {
   "cell_type": "code",
   "execution_count": null,
   "id": "fdcaae7b",
   "metadata": {},
   "outputs": [],
   "source": []
  },
  {
   "cell_type": "code",
   "execution_count": null,
   "id": "74e3e4d8",
   "metadata": {},
   "outputs": [],
   "source": []
  },
  {
   "cell_type": "markdown",
   "id": "4646e4ad",
   "metadata": {},
   "source": [
    "**Character Frequency in Product Reviews**\n",
    "### Q9. For an e-commerce platform, understanding product reviews is crucial. Create a function named S_count(review, char) that can count the total number of a specific character in the given review text.\n",
    "\n",
    "- Sample Input: S_count(\"This product is amazing!\", \"i\")\n",
    "- Sample Output: 3"
   ]
  },
  {
   "cell_type": "code",
   "execution_count": null,
   "id": "77ef5c63",
   "metadata": {},
   "outputs": [],
   "source": []
  },
  {
   "cell_type": "code",
   "execution_count": null,
   "id": "be36cb54",
   "metadata": {},
   "outputs": [],
   "source": []
  },
  {
   "cell_type": "markdown",
   "id": "226226af",
   "metadata": {},
   "source": [
    "Keyword Frequency in User Feedback\n",
    "### Q10. To enhance user experience, the feedback system's data is analyzed. Create a function named WordCount(feedback, word) that can count the total times a specific word occurs in the given feedback.\n",
    "\n",
    "- Sample Input: **WordCount(\"I loved the interface. The interface was intuitive.\", \"interface\")**\n",
    "- Sample Output: **2**\n"
   ]
  },
  {
   "cell_type": "code",
   "execution_count": null,
   "id": "be2486d0",
   "metadata": {},
   "outputs": [],
   "source": []
  },
  {
   "cell_type": "code",
   "execution_count": null,
   "id": "4bc88c8c",
   "metadata": {},
   "outputs": [],
   "source": []
  },
  {
   "cell_type": "code",
   "execution_count": null,
   "id": "6f6185ac",
   "metadata": {},
   "outputs": [],
   "source": []
  },
  {
   "cell_type": "markdown",
   "id": "a856af7b",
   "metadata": {},
   "source": [
    "Vowel Analysis in Product Names\n",
    "### Q11.To design catchy product names, the vowel count might be interesting. Create a function named VowelCount(product_name) that returns the total number of vowels used in the product name.\n",
    "\n",
    "- Sample Input: **VowelCount(\"Smartphone\")**\n",
    "- Sample Output: **3**"
   ]
  },
  {
   "cell_type": "code",
   "execution_count": null,
   "id": "2bde8dcd",
   "metadata": {},
   "outputs": [],
   "source": []
  },
  {
   "cell_type": "code",
   "execution_count": null,
   "id": "5beee064",
   "metadata": {},
   "outputs": [],
   "source": []
  },
  {
   "cell_type": "markdown",
   "id": "e76c93e3",
   "metadata": {},
   "source": [
    "Consonant Analysis in Product Descriptions\n",
    "### Q12. Consonants might have an impact on readability. Create a function named ConsCount(description) that returns the total number of consonants used in the given product description.\n",
    "\n",
    "- Sample Input: **ConsCount(\"Powerful Laptop\")**\n",
    "- Sample Output: **9**"
   ]
  },
  {
   "cell_type": "code",
   "execution_count": null,
   "id": "db54640a",
   "metadata": {},
   "outputs": [],
   "source": []
  },
  {
   "cell_type": "code",
   "execution_count": null,
   "id": "8d73ee96",
   "metadata": {},
   "outputs": [],
   "source": []
  },
  {
   "cell_type": "code",
   "execution_count": null,
   "id": "5916f682",
   "metadata": {},
   "outputs": [],
   "source": []
  },
  {
   "cell_type": "markdown",
   "id": "29fccffb",
   "metadata": {},
   "source": [
    "Word Counter for Product Descriptions\n",
    "### Q13. For SEO optimization, word count might be essential. Create a UDF named WordCounter(description) that counts the total number of words used in the given product description.\n",
    "\n",
    "- Sample Input: **WordCounter(\"This is an amazing gadget.\")**\n",
    "- Sample Output: **5**"
   ]
  },
  {
   "cell_type": "code",
   "execution_count": null,
   "id": "1b2158b6",
   "metadata": {},
   "outputs": [],
   "source": []
  },
  {
   "cell_type": "code",
   "execution_count": null,
   "id": "eb50315a",
   "metadata": {},
   "outputs": [],
   "source": []
  },
  {
   "cell_type": "code",
   "execution_count": null,
   "id": "a9bff451",
   "metadata": {},
   "outputs": [],
   "source": []
  },
  {
   "cell_type": "code",
   "execution_count": null,
   "id": "9a5327df",
   "metadata": {},
   "outputs": [],
   "source": []
  },
  {
   "cell_type": "markdown",
   "id": "4c8f276e",
   "metadata": {},
   "source": [
    "Number Extraction from Reviews\n",
    "### Q14. Some users mention specifics like battery life in hours, weight in grams, etc. Create a UDF named Numeric(review) that returns a list of numbers used in the given review.\n",
    "\n",
    "- Sample Input: **Numeric(\"I used this for 3 hours and it weighs only 150 grams.\")**\n",
    "- Sample Output: **['3', '150']**"
   ]
  },
  {
   "cell_type": "code",
   "execution_count": null,
   "id": "04171b66",
   "metadata": {},
   "outputs": [],
   "source": []
  },
  {
   "cell_type": "code",
   "execution_count": null,
   "id": "155ae1bd",
   "metadata": {},
   "outputs": [],
   "source": []
  },
  {
   "cell_type": "code",
   "execution_count": null,
   "id": "02b8f8a0",
   "metadata": {},
   "outputs": [],
   "source": []
  },
  {
   "cell_type": "code",
   "execution_count": null,
   "id": "14bedcfc",
   "metadata": {},
   "outputs": [],
   "source": []
  },
  {
   "cell_type": "markdown",
   "id": "84e33354",
   "metadata": {},
   "source": [
    "Digit Analysis for Product Codes\n",
    "### Q15. Product codes might have varying lengths. Write a UDF named SumOfDigit(product_code) that counts the total number of digits in a given product code.\n",
    "\n",
    "- Sample Input: **SumOfDigit(\"A12345B\")**\n",
    "- Sample Output: **5**"
   ]
  },
  {
   "cell_type": "code",
   "execution_count": null,
   "id": "cf9cbe3a",
   "metadata": {},
   "outputs": [],
   "source": []
  },
  {
   "cell_type": "code",
   "execution_count": null,
   "id": "04163428",
   "metadata": {},
   "outputs": [],
   "source": []
  },
  {
   "cell_type": "code",
   "execution_count": null,
   "id": "cc394b7e",
   "metadata": {},
   "outputs": [],
   "source": []
  },
  {
   "cell_type": "code",
   "execution_count": null,
   "id": "91aa10c0",
   "metadata": {},
   "outputs": [],
   "source": []
  },
  {
   "cell_type": "markdown",
   "id": "2d5804f3",
   "metadata": {},
   "source": [
    "Factor Analysis for Product Ratings\n",
    "### Q16. Ratings are given in numbers. Sometimes, understanding the factors might be useful. Create a UDF named SumOfFactors(rating) that calculates the sum of factors of a given rating number.\n",
    "\n",
    "- Sample Input: SumOfFactors(6)\n",
    "- Sample Output: 12"
   ]
  },
  {
   "cell_type": "code",
   "execution_count": null,
   "id": "d8b3a90d",
   "metadata": {},
   "outputs": [],
   "source": []
  },
  {
   "cell_type": "code",
   "execution_count": null,
   "id": "32fc03b5",
   "metadata": {},
   "outputs": [],
   "source": []
  },
  {
   "cell_type": "code",
   "execution_count": null,
   "id": "dcbb1d70",
   "metadata": {},
   "outputs": [],
   "source": []
  },
  {
   "cell_type": "code",
   "execution_count": null,
   "id": "967843bc",
   "metadata": {},
   "outputs": [],
   "source": []
  },
  {
   "cell_type": "markdown",
   "id": "2731c4a9",
   "metadata": {},
   "source": [
    "Sales Prediction Model\n",
    "### Q17.For forecasting, quadratic equations might be used. Define a UDF named Qroot(a, b, c) that returns the values of roots of a given quadratic equation.\n",
    "\n",
    "- Sample Input: Qroot(1, -3, 2)\n",
    "- Sample Output: (2.0, 1.0)"
   ]
  },
  {
   "cell_type": "code",
   "execution_count": null,
   "id": "4eafff89",
   "metadata": {},
   "outputs": [],
   "source": []
  },
  {
   "cell_type": "code",
   "execution_count": null,
   "id": "3ffdecd7",
   "metadata": {},
   "outputs": [],
   "source": []
  },
  {
   "cell_type": "code",
   "execution_count": null,
   "id": "762df534",
   "metadata": {},
   "outputs": [],
   "source": []
  },
  {
   "cell_type": "markdown",
   "id": "8d0b692b",
   "metadata": {},
   "source": [
    "Median Sales Value\n",
    "### Q18. Understanding the central tendency might help in strategy planning. Write a UDF named Median(data) that finds the median of given sales data.\n",
    "\n",
    "- Sample Input: Median([5, 7, 2, 9, 10])\n",
    "- Sample Output: 7"
   ]
  },
  {
   "cell_type": "code",
   "execution_count": null,
   "id": "8be81c97",
   "metadata": {},
   "outputs": [],
   "source": []
  },
  {
   "cell_type": "code",
   "execution_count": null,
   "id": "02c169c0",
   "metadata": {},
   "outputs": [],
   "source": []
  },
  {
   "cell_type": "markdown",
   "id": "ce8a8f44",
   "metadata": {},
   "source": [
    "Descriptive Statistics of Sales\n",
    "### Q19. For a quick overview, basic statistics might be essential. Define a function named DataSummary(data) that returns a list of the following:\n",
    "\n",
    "1. maximum value\n",
    "\n",
    "2. minimum value\n",
    "\n",
    "3. range of data (max - min)\n",
    "\n",
    "- Sample Input: DataSummary([5, 7, 2, 9, 10])\n",
    "\n",
    "- Sample Output: [10, 2, 8]"
   ]
  },
  {
   "cell_type": "code",
   "execution_count": null,
   "id": "6644cb65",
   "metadata": {},
   "outputs": [],
   "source": []
  },
  {
   "cell_type": "code",
   "execution_count": null,
   "id": "fad5a107",
   "metadata": {},
   "outputs": [],
   "source": []
  },
  {
   "cell_type": "code",
   "execution_count": null,
   "id": "6a4154b9",
   "metadata": {},
   "outputs": [],
   "source": []
  },
  {
   "cell_type": "markdown",
   "id": "145df020",
   "metadata": {},
   "source": []
  },
  {
   "cell_type": "code",
   "execution_count": null,
   "id": "19d86f92",
   "metadata": {},
   "outputs": [],
   "source": []
  }
 ],
 "metadata": {
  "kernelspec": {
   "display_name": "Python 3 (ipykernel)",
   "language": "python",
   "name": "python3"
  },
  "language_info": {
   "codemirror_mode": {
    "name": "ipython",
    "version": 3
   },
   "file_extension": ".py",
   "mimetype": "text/x-python",
   "name": "python",
   "nbconvert_exporter": "python",
   "pygments_lexer": "ipython3",
   "version": "3.9.7"
  }
 },
 "nbformat": 4,
 "nbformat_minor": 5
}
