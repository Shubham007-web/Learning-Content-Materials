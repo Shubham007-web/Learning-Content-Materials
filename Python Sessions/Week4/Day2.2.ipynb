{
 "cells": [
  {
   "cell_type": "markdown",
   "id": "04b6a815",
   "metadata": {},
   "source": [
    "# <span style=\"color: #2E86C1;\">Data Science Workshop</span>\n",
    "\n",
    "#### <span style=\"color: #1ABC9C;\">Date: 27 May 2024 - 31 May 2024</span>\n",
    "#### <span style=\"color: #117A65;\">Day 2, 28 May 2024</span>\n",
    "#### <span style=\"color: #D35400;\">Instructor: Shubham Soni</span>"
   ]
  },
  {
   "cell_type": "markdown",
   "id": "771b6b38",
   "metadata": {},
   "source": [
    "## Table of Contents\n",
    "\n",
    "[Functional Executions](#FE) \n",
    "- [User-Defined Functions (UDF)](#udf)\n",
    "- [Void & Non-Void Function](#void)\n",
    "- [Parameter vs Argument](#para)\n",
    "- [Default Parameters](#default)\n",
    "- [Anonymous (Lambda) Function](#lambda)\n"
   ]
  },
  {
   "cell_type": "markdown",
   "id": "3c342fd4",
   "metadata": {},
   "source": [
    "---\n",
    "# Functional Executions (Functions) <a class=\"anchor\" id=\"FE\"></a>\n",
    "---\n",
    "\n",
    "A function in Python is a set of instructions that runs sequentially from top to bottom by a python interpreter, only when it is called.\n",
    "\n",
    "A Functions can be categorized into three main groups:\n",
    "\n",
    "- User-Defined Functions\n",
    "- Built-in Functions\n",
    "- Modules/Libraries\n",
    "\n"
   ]
  },
  {
   "cell_type": "markdown",
   "id": "5429d646",
   "metadata": {},
   "source": [
    "---\n",
    "\n",
    "## User-Defined Functions (UDF) <a class=\"anchor\" id=\"udf\"></a>\n",
    "\n",
    "---\n",
    "\n",
    "- In the realm of programming, functions have a significant role in **structuring and organizing code**.\n",
    "- Python provides a wide range of **built-in functions**, but sometimes, **customized solutions are needed for specific tasks**. This is where User-Defined Functions (UDFs) come into play.\n",
    "\n",
    "----\n",
    "### What is a UDF?\n",
    "- A User-Defined Function (UDF) in Python is a **block of organized, reusable code** that is used to perform a **single, related action**. \n",
    "- UDFs provide the coder with the **flexibility to define their own functions**, allowing for customized operations that aren't available in **built-in functions**.\n",
    "\n",
    "----"
   ]
  },
  {
   "cell_type": "code",
   "execution_count": 1,
   "id": "ba72351c",
   "metadata": {},
   "outputs": [],
   "source": [
    "# defining a function\n",
    "def greet(name):\n",
    "    return f\"Hello {name}, how are you?\""
   ]
  },
  {
   "cell_type": "code",
   "execution_count": 3,
   "id": "583c063d",
   "metadata": {},
   "outputs": [
    {
     "data": {
      "text/plain": [
       "'Hello Aasha, how are you?'"
      ]
     },
     "execution_count": 3,
     "metadata": {},
     "output_type": "execute_result"
    }
   ],
   "source": [
    "# calling a function\n",
    "greet(\"Aasha\")"
   ]
  },
  {
   "cell_type": "code",
   "execution_count": null,
   "id": "29b4419c",
   "metadata": {},
   "outputs": [],
   "source": []
  },
  {
   "cell_type": "code",
   "execution_count": null,
   "id": "d977e63a",
   "metadata": {},
   "outputs": [],
   "source": []
  },
  {
   "cell_type": "markdown",
   "id": "c94a2e92",
   "metadata": {},
   "source": [
    "### Void & Non-Void Function"
   ]
  },
  {
   "cell_type": "code",
   "execution_count": 4,
   "id": "cc3dddb4",
   "metadata": {},
   "outputs": [],
   "source": [
    "# addin two  numbers\n",
    "# non void function\n",
    "def add(a,b):\n",
    "    return a + b "
   ]
  },
  {
   "cell_type": "code",
   "execution_count": 9,
   "id": "0e54b48f",
   "metadata": {},
   "outputs": [],
   "source": [
    "# calling a function\n",
    "x = add(5,6)"
   ]
  },
  {
   "cell_type": "code",
   "execution_count": 10,
   "id": "755b2810",
   "metadata": {},
   "outputs": [
    {
     "data": {
      "text/plain": [
       "11"
      ]
     },
     "execution_count": 10,
     "metadata": {},
     "output_type": "execute_result"
    }
   ],
   "source": [
    "x"
   ]
  },
  {
   "cell_type": "code",
   "execution_count": 11,
   "id": "9e776722",
   "metadata": {},
   "outputs": [
    {
     "data": {
      "text/plain": [
       "int"
      ]
     },
     "execution_count": 11,
     "metadata": {},
     "output_type": "execute_result"
    }
   ],
   "source": [
    "type(x)"
   ]
  },
  {
   "cell_type": "code",
   "execution_count": 8,
   "id": "404922e5",
   "metadata": {},
   "outputs": [],
   "source": [
    "# void functuon\n",
    "def add1(a,b):\n",
    "    print(a + b)"
   ]
  },
  {
   "cell_type": "code",
   "execution_count": 12,
   "id": "a612abde",
   "metadata": {},
   "outputs": [
    {
     "name": "stdout",
     "output_type": "stream",
     "text": [
      "11\n"
     ]
    }
   ],
   "source": [
    "# call\n",
    "x1  = add1(5,6)"
   ]
  },
  {
   "cell_type": "code",
   "execution_count": 13,
   "id": "ef772030",
   "metadata": {},
   "outputs": [],
   "source": [
    "x1"
   ]
  },
  {
   "cell_type": "code",
   "execution_count": 14,
   "id": "2804aaac",
   "metadata": {},
   "outputs": [
    {
     "data": {
      "text/plain": [
       "NoneType"
      ]
     },
     "execution_count": 14,
     "metadata": {},
     "output_type": "execute_result"
    }
   ],
   "source": [
    "type(x1)"
   ]
  },
  {
   "cell_type": "markdown",
   "id": "ae77bf89",
   "metadata": {},
   "source": [
    "### Default Parameters"
   ]
  },
  {
   "cell_type": "code",
   "execution_count": 15,
   "id": "b4ea8502",
   "metadata": {},
   "outputs": [],
   "source": [
    "\n",
    "\n",
    "def add2(a,b,c = 5):\n",
    "    return a + b + c"
   ]
  },
  {
   "cell_type": "code",
   "execution_count": 16,
   "id": "57a02f66",
   "metadata": {
    "scrolled": true
   },
   "outputs": [
    {
     "data": {
      "text/plain": [
       "10"
      ]
     },
     "execution_count": 16,
     "metadata": {},
     "output_type": "execute_result"
    }
   ],
   "source": [
    "# call\n",
    "add2(2,3)"
   ]
  },
  {
   "cell_type": "code",
   "execution_count": 18,
   "id": "e7a9758e",
   "metadata": {},
   "outputs": [
    {
     "data": {
      "text/plain": [
       "15"
      ]
     },
     "execution_count": 18,
     "metadata": {},
     "output_type": "execute_result"
    }
   ],
   "source": [
    "add2(2,3,10)"
   ]
  },
  {
   "cell_type": "code",
   "execution_count": 19,
   "id": "d4e7a8d4",
   "metadata": {},
   "outputs": [
    {
     "ename": "SyntaxError",
     "evalue": "non-default argument follows default argument (Temp/ipykernel_6312/59420235.py, line 4)",
     "output_type": "error",
     "traceback": [
      "\u001b[1;36m  File \u001b[1;32m\"C:\\Users\\dell\\AppData\\Local\\Temp/ipykernel_6312/59420235.py\"\u001b[1;36m, line \u001b[1;32m4\u001b[0m\n\u001b[1;33m    def add2(a,b= 5,c ):\u001b[0m\n\u001b[1;37m                      ^\u001b[0m\n\u001b[1;31mSyntaxError\u001b[0m\u001b[1;31m:\u001b[0m non-default argument follows default argument\n"
     ]
    }
   ],
   "source": [
    "## defult paramenrt\n",
    "\n",
    "\n",
    "def add2(a,b= 5,c ):\n",
    "    return a + b + c"
   ]
  },
  {
   "cell_type": "markdown",
   "id": "8b7199e7",
   "metadata": {},
   "source": [
    "---\n",
    "## Anonymous (Lambda) Function <a class=\"anchor\" id=\"lambda\"></a>\n",
    "- Python has support for so-called anonymous or lambda functions, which is used to write function/s in single line of code.\n",
    "\n",
    "---\n",
    "Sytanx: \n",
    "```python\n",
    " fun_name = lambda x1,x2.. : expression\n",
    "\n",
    "```\n",
    "---"
   ]
  },
  {
   "cell_type": "code",
   "execution_count": 20,
   "id": "da0521c0",
   "metadata": {},
   "outputs": [],
   "source": [
    "add = lambda n1,n2,n3 : n1 + n2 + n3\n"
   ]
  },
  {
   "cell_type": "code",
   "execution_count": 21,
   "id": "0dbd778e",
   "metadata": {},
   "outputs": [
    {
     "data": {
      "text/plain": [
       "9"
      ]
     },
     "execution_count": 21,
     "metadata": {},
     "output_type": "execute_result"
    }
   ],
   "source": [
    "add(2,3,4)"
   ]
  },
  {
   "cell_type": "code",
   "execution_count": 22,
   "id": "022626aa",
   "metadata": {},
   "outputs": [
    {
     "data": {
      "text/plain": [
       "300.0"
      ]
     },
     "execution_count": 22,
     "metadata": {},
     "output_type": "execute_result"
    }
   ],
   "source": [
    "# simple intersets\n",
    "\n",
    "SI2 = lambda p,r,t : p * r * t/100\n",
    "\n",
    "# calling the function\n",
    "SI2(1000,7.5,4)"
   ]
  },
  {
   "cell_type": "code",
   "execution_count": null,
   "id": "bd8207f6",
   "metadata": {},
   "outputs": [],
   "source": []
  }
 ],
 "metadata": {
  "kernelspec": {
   "display_name": "Python 3 (ipykernel)",
   "language": "python",
   "name": "python3"
  },
  "language_info": {
   "codemirror_mode": {
    "name": "ipython",
    "version": 3
   },
   "file_extension": ".py",
   "mimetype": "text/x-python",
   "name": "python",
   "nbconvert_exporter": "python",
   "pygments_lexer": "ipython3",
   "version": "3.9.7"
  }
 },
 "nbformat": 4,
 "nbformat_minor": 5
}
