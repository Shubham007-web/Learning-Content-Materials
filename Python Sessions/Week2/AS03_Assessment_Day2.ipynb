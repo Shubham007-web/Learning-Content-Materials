{
 "cells": [
  {
   "cell_type": "markdown",
   "id": "387f96ea",
   "metadata": {},
   "source": [
    "## AS03 Assessment Day2"
   ]
  },
  {
   "cell_type": "markdown",
   "id": "85876647",
   "metadata": {},
   "source": [
    "### Q1. Write a program to accept any city from the user and display a monument of that city according to the following criteria:\n",
    "\n",
    "| City   | Monument                                   |\n",
    "|--------|---------------------------------------------|\n",
    "| Delhi  | Red Fort, India Gate, Akshardham           |\n",
    "| Agra   | Taj Mahal                                  |\n",
    "| Jaipur | Jal Mahal, Hawa Mahal                      |\n",
    "\n",
    "### Instructions:\n",
    "1. **Input**: Accept a city name from the user.\n",
    "2. **Process**: Match the input city with the available city-monument pairs.\n",
    "3. **Output**: Display the corresponding monuments.\n"
   ]
  },
  {
   "cell_type": "code",
   "execution_count": null,
   "id": "89b27440",
   "metadata": {},
   "outputs": [],
   "source": []
  },
  {
   "cell_type": "code",
   "execution_count": null,
   "id": "d47a55ee",
   "metadata": {},
   "outputs": [],
   "source": []
  },
  {
   "cell_type": "code",
   "execution_count": null,
   "id": "3cc7cf50",
   "metadata": {},
   "outputs": [],
   "source": []
  },
  {
   "cell_type": "markdown",
   "id": "05c643c3",
   "metadata": {},
   "source": [
    "### Q2. Write a program to perform arithmetic calculations on two numbers according to the user's input.\n",
    "\n",
    "| Operator | Operation      |\n",
    "|----------|----------------|\n",
    "| +        | Addition       |\n",
    "| -        | Subtraction    |\n",
    "| *        | Multiplication |\n",
    "| /        | Division       |\n",
    "| **       | Exponent       |\n",
    "\n",
    "### Instructions:\n",
    "1. **Input**: Accept two numbers and an operator from the user.\n",
    "2. **Process**: Perform the arithmetic operation based on the user's input.\n",
    "3. **Output**: Display the result of the calculation.\n"
   ]
  },
  {
   "cell_type": "code",
   "execution_count": null,
   "id": "80f76392",
   "metadata": {},
   "outputs": [],
   "source": []
  },
  {
   "cell_type": "code",
   "execution_count": null,
   "id": "ad66d696",
   "metadata": {},
   "outputs": [],
   "source": []
  },
  {
   "cell_type": "code",
   "execution_count": null,
   "id": "568b4c22",
   "metadata": {},
   "outputs": [],
   "source": []
  },
  {
   "cell_type": "markdown",
   "id": "b98c24a1",
   "metadata": {},
   "source": [
    "### Q3. Write a program to calculate the electricity bill by accepting the number of units from the user according to the following criteria:\n",
    "\n",
    "| Unit        | Price        |\n",
    "|-------------|--------------|\n",
    "| First 100 units | No charge  |\n",
    "| Next 100 units  | Rs 5 per unit |\n",
    "| After 200 units | Rs 10 per unit |\n",
    "\n",
    "### Instructions:\n",
    "1. **Input**: Accept the number of units from the user.\n",
    "2. **Process**: Calculate the bill amount based on the given price criteria.\n",
    "3. **Output**: Display the total bill amount."
   ]
  },
  {
   "cell_type": "code",
   "execution_count": null,
   "id": "94b9933e",
   "metadata": {},
   "outputs": [],
   "source": []
  },
  {
   "cell_type": "code",
   "execution_count": null,
   "id": "287cdf22",
   "metadata": {},
   "outputs": [],
   "source": []
  },
  {
   "cell_type": "code",
   "execution_count": null,
   "id": "e87c7ab0",
   "metadata": {},
   "outputs": [],
   "source": []
  },
  {
   "cell_type": "markdown",
   "id": "377870e6",
   "metadata": {},
   "source": [
    "### Q4. Write a program that displays numbers from 1 to 10 by using `for` loop."
   ]
  },
  {
   "cell_type": "code",
   "execution_count": null,
   "id": "7e6f6ddd",
   "metadata": {},
   "outputs": [],
   "source": []
  },
  {
   "cell_type": "code",
   "execution_count": null,
   "id": "e7c04c7e",
   "metadata": {},
   "outputs": [],
   "source": []
  },
  {
   "cell_type": "code",
   "execution_count": null,
   "id": "b5166f4f",
   "metadata": {},
   "outputs": [],
   "source": []
  },
  {
   "cell_type": "code",
   "execution_count": null,
   "id": "2947cfbd",
   "metadata": {},
   "outputs": [],
   "source": []
  },
  {
   "cell_type": "markdown",
   "id": "222a887b",
   "metadata": {},
   "source": [
    "### Q 5.  Write a program that print the table of given range numbers.\n",
    "\n",
    "```python\n",
    "n1 = 4\n",
    "n2 = 7\n",
    "```"
   ]
  },
  {
   "cell_type": "code",
   "execution_count": null,
   "id": "da4f0cad",
   "metadata": {},
   "outputs": [],
   "source": []
  },
  {
   "cell_type": "code",
   "execution_count": null,
   "id": "34a1c13f",
   "metadata": {},
   "outputs": [],
   "source": []
  },
  {
   "cell_type": "code",
   "execution_count": null,
   "id": "89612bc2",
   "metadata": {},
   "outputs": [],
   "source": []
  },
  {
   "cell_type": "code",
   "execution_count": null,
   "id": "7e01c0ff",
   "metadata": {},
   "outputs": [],
   "source": []
  },
  {
   "cell_type": "markdown",
   "id": "02c7923e",
   "metadata": {},
   "source": [
    "### Q6. WAP, that can find the following with help of while loop:\n",
    "1. Factorial of a given number\n",
    "2. Sum of square of numbers from 1 to 20."
   ]
  },
  {
   "cell_type": "code",
   "execution_count": null,
   "id": "3d5dbc0b",
   "metadata": {},
   "outputs": [],
   "source": []
  },
  {
   "cell_type": "code",
   "execution_count": null,
   "id": "e194bf2a",
   "metadata": {},
   "outputs": [],
   "source": []
  },
  {
   "cell_type": "code",
   "execution_count": null,
   "id": "5a471c31",
   "metadata": {},
   "outputs": [],
   "source": []
  },
  {
   "cell_type": "markdown",
   "id": "bf9bd827",
   "metadata": {},
   "source": [
    "### Q7.You are auditing a list of transaction amounts from your store. You want to stop your audit as soon as you find the first suspicious transaction (any transaction over ` $10,000`). Using the data provided, can you identify the day on which the suspicious transaction occurred?\n",
    "\n",
    "data\n",
    "\n",
    "```python\n",
    "days = [\"Monday\", \"Tuesday\", \"Wednesday\", \"Thursday\", \"Friday\"]\n",
    "transactions = [5500, 3200, 15000, 8000, 6800]\n",
    "```"
   ]
  },
  {
   "cell_type": "markdown",
   "id": "9872f398",
   "metadata": {},
   "source": [
    "|    Days    | Transactions |\n",
    "|------------|--------------|\n",
    "|  Monday    |     5500     |\n",
    "|  Tuesday   |     3200     |\n",
    "| Wednesday  |    15000     |\n",
    "| Thursday   |     8000     |\n",
    "|  Friday    |     6800     |\n"
   ]
  },
  {
   "cell_type": "code",
   "execution_count": null,
   "id": "8b886963",
   "metadata": {},
   "outputs": [],
   "source": []
  },
  {
   "cell_type": "code",
   "execution_count": null,
   "id": "da297b55",
   "metadata": {},
   "outputs": [],
   "source": []
  },
  {
   "cell_type": "code",
   "execution_count": null,
   "id": "cabab241",
   "metadata": {},
   "outputs": [],
   "source": []
  },
  {
   "cell_type": "markdown",
   "id": "fc28244b",
   "metadata": {},
   "source": [
    "Aggregating Data from Different Sources\n",
    "### Q8. You're given data as multiple lists representing information from different sources. Write a function named `Merged_data(*data_sources)` that can accept any number of lists and returns a single list containing all the data combined.\n",
    "\n",
    "```python\n",
    "# inputs\n",
    "data1 = [1, 2, 3]\n",
    "data2 = [4, 5]\n",
    "data3 = [6, 7, 8, 9]\n",
    "\n",
    "# output : [1, 2, 3, 4, 5, 6, 7, 8, 9]\n",
    "\n",
    "```"
   ]
  },
  {
   "cell_type": "code",
   "execution_count": null,
   "id": "94adc556",
   "metadata": {},
   "outputs": [],
   "source": []
  },
  {
   "cell_type": "code",
   "execution_count": null,
   "id": "d2ecf3cd",
   "metadata": {},
   "outputs": [],
   "source": []
  },
  {
   "cell_type": "code",
   "execution_count": null,
   "id": "fd439c8d",
   "metadata": {},
   "outputs": [],
   "source": []
  },
  {
   "cell_type": "markdown",
   "id": "2e27349a",
   "metadata": {},
   "source": [
    "### Q9. Create a function named \"S_count(text,char)\" that can count total number of a spefic character in the given text.\n"
   ]
  },
  {
   "cell_type": "code",
   "execution_count": null,
   "id": "f7c5352b",
   "metadata": {},
   "outputs": [],
   "source": []
  }
 ],
 "metadata": {
  "kernelspec": {
   "display_name": "Python 3 (ipykernel)",
   "language": "python",
   "name": "python3"
  },
  "language_info": {
   "codemirror_mode": {
    "name": "ipython",
    "version": 3
   },
   "file_extension": ".py",
   "mimetype": "text/x-python",
   "name": "python",
   "nbconvert_exporter": "python",
   "pygments_lexer": "ipython3",
   "version": "3.9.7"
  }
 },
 "nbformat": 4,
 "nbformat_minor": 5
}
