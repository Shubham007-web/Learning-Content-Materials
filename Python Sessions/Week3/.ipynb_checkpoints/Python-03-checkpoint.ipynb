{
 "cells": [
  {
   "cell_type": "markdown",
   "id": "53278c03",
   "metadata": {},
   "source": [
    "## Table of contents\n",
    "\n",
    "1. [Zip](#zip)\n",
    "2. [Enumarate](#en)\n",
    "3. [Practice Excersies 1](#pq1)\n",
    "2. [List Comprehension](#lstcomp) \n",
    "4. [Dicitionary Comprehension](#dictcomp)\n",
    "5. [Pratice Excersies 2](#pq2)"
   ]
  },
  {
   "cell_type": "markdown",
   "id": "e61c2e0a",
   "metadata": {},
   "source": [
    "---\n",
    "# ZIP <a class=\"anchor\" id=\"zip\"></a>\n",
    "---\n",
    "## What is zip() in python?\n",
    "\n",
    "- The zip function returns an iterator of tuples, where the first item in each passed iterator is paired together, then the second item in each passed iterator is paired together, and so on. \n",
    "- If the passed iterators are of uneven length, zip will stop creating tuples when the shortest input iterable is exhausted.\n",
    "---\n",
    "\n",
    "## Why is it useful in data science?\n",
    "In data science, we often deal with **lists or sequences of data**. Sometimes, we may need to pair the elements of multiple sequences together for **processing, comparison, or visualization**."
   ]
  },
  {
   "cell_type": "code",
   "execution_count": 1,
   "id": "e07f3acd",
   "metadata": {},
   "outputs": [],
   "source": [
    "#Basic Example\n",
    "names = ['Alice', 'Bob', 'Charlie']\n",
    "scores = [85, 92, 78]"
   ]
  },
  {
   "cell_type": "code",
   "execution_count": 2,
   "id": "c57c4cdb",
   "metadata": {},
   "outputs": [
    {
     "name": "stdout",
     "output_type": "stream",
     "text": [
      "[('Alice', 85), ('Bob', 92), ('Charlie', 78)]\n"
     ]
    }
   ],
   "source": [
    "paired_data = list(zip(names, scores))\n",
    "print(paired_data)  "
   ]
  },
  {
   "cell_type": "code",
   "execution_count": null,
   "id": "7511e2d2",
   "metadata": {},
   "outputs": [],
   "source": []
  },
  {
   "cell_type": "code",
   "execution_count": 3,
   "id": "c4611d3e",
   "metadata": {},
   "outputs": [],
   "source": [
    "# Data Science Example\n",
    "# Combining two lists into a dictionary, useful for creating look-up tables\n",
    "names = ['Temperature', 'Humidity', 'Rainfall']\n",
    "values = [22.5, 65, 12]"
   ]
  },
  {
   "cell_type": "code",
   "execution_count": 4,
   "id": "9b9da4e2",
   "metadata": {},
   "outputs": [
    {
     "name": "stdout",
     "output_type": "stream",
     "text": [
      "{'Temperature': 22.5, 'Humidity': 65, 'Rainfall': 12}\n"
     ]
    }
   ],
   "source": [
    "data_dict = dict(zip(names, values))\n",
    "print(data_dict)"
   ]
  },
  {
   "cell_type": "code",
   "execution_count": null,
   "id": "443baa9b",
   "metadata": {},
   "outputs": [],
   "source": []
  },
  {
   "cell_type": "code",
   "execution_count": null,
   "id": "6942f7db",
   "metadata": {},
   "outputs": [],
   "source": []
  },
  {
   "cell_type": "markdown",
   "id": "54a1c0a6",
   "metadata": {},
   "source": [
    "---\n",
    "\n",
    "# Enumerate <a class=\"anchor\" id=\"en\"></a>\n",
    "---\n",
    "\n",
    "## What is `enumerate`?\n",
    "The enumerate function returns an iterator producing pairs containing indices and values of a sequence. In other words, it adds a counter to the iterable."
   ]
  },
  {
   "cell_type": "markdown",
   "id": "2b3e27f8",
   "metadata": {},
   "source": [
    "---\n",
    "## Why is it useful in data science?\n",
    "While processing or iterating over sequences of data, it's often helpful to have the index or position of the current item. This is especially handy when you need to reference or modify other lists or arrays based on a current position."
   ]
  },
  {
   "cell_type": "code",
   "execution_count": 5,
   "id": "8c2d43e0",
   "metadata": {},
   "outputs": [
    {
     "name": "stdout",
     "output_type": "stream",
     "text": [
      "0 apple\n",
      "1 banana\n",
      "2 cherry\n"
     ]
    }
   ],
   "source": [
    "# basic example\n",
    "fruits = ['apple', 'banana', 'cherry']\n",
    "\n",
    "for index, fruit in enumerate(fruits):\n",
    "    print(index, fruit)"
   ]
  },
  {
   "cell_type": "code",
   "execution_count": null,
   "id": "cccbfa82",
   "metadata": {},
   "outputs": [],
   "source": []
  },
  {
   "cell_type": "code",
   "execution_count": 6,
   "id": "72b713c9",
   "metadata": {},
   "outputs": [],
   "source": [
    "# data science example\n",
    "# Finding the position of an outlier in a data list\n",
    "data_points = [12, 15, 14, 16, 14, 1000, 15]"
   ]
  },
  {
   "cell_type": "code",
   "execution_count": 7,
   "id": "3636288a",
   "metadata": {},
   "outputs": [
    {
     "name": "stdout",
     "output_type": "stream",
     "text": [
      "Outlier value 1000 found at position 5\n"
     ]
    }
   ],
   "source": [
    "for index, value in enumerate(data_points):\n",
    "    if value > 100:  # Setting a threshold to identify an outlier\n",
    "        print(f\"Outlier value {value} found at position {index}\")"
   ]
  },
  {
   "cell_type": "markdown",
   "id": "0f6535f6",
   "metadata": {},
   "source": []
  },
  {
   "cell_type": "code",
   "execution_count": null,
   "id": "3f5e8e56",
   "metadata": {},
   "outputs": [],
   "source": []
  },
  {
   "cell_type": "markdown",
   "id": "01e1dc2c",
   "metadata": {},
   "source": [
    "---\n",
    "## Practice Exercises: 1 <a class=\"anchor\" id=\"pq1\"></a>\n",
    "\n",
    "---\n",
    "### Q1. You've been given two lists. The first list contains customer names and the second list contains their corresponding email addresses. Your task is to merge these lists into a single dictionary where the customer's name is the key and their email is the value.  \n",
    "\n",
    "```python\n",
    "customer_names = ['Alex', 'Beth', 'Charlie']\n",
    "customer_emails = ['alex@example.com', 'beth@example.com', 'charlie@example.com']\n",
    "\n",
    "# expected output\n",
    "{\n",
    "    'Alex': 'alex@example.com',\n",
    "    'Beth': 'beth@example.com',\n",
    "    'Charlie': 'charlie@example.com'\n",
    "}\n",
    "\n",
    "```"
   ]
  },
  {
   "cell_type": "code",
   "execution_count": 8,
   "id": "4ed9d2b2",
   "metadata": {},
   "outputs": [],
   "source": [
    "customer_names = ['Alex', 'Beth', 'Charlie']\n",
    "customer_emails = ['alex@example.com', 'beth@example.com', 'charlie@example.com']\n",
    "d = zip(customer_names,customer_emails)"
   ]
  },
  {
   "cell_type": "code",
   "execution_count": 9,
   "id": "788b8f2b",
   "metadata": {},
   "outputs": [
    {
     "data": {
      "text/plain": [
       "{'Alex': 'alex@example.com',\n",
       " 'Beth': 'beth@example.com',\n",
       " 'Charlie': 'charlie@example.com'}"
      ]
     },
     "execution_count": 9,
     "metadata": {},
     "output_type": "execute_result"
    }
   ],
   "source": [
    "dict(d)"
   ]
  },
  {
   "cell_type": "code",
   "execution_count": null,
   "id": "e9c04c32",
   "metadata": {},
   "outputs": [],
   "source": []
  },
  {
   "cell_type": "markdown",
   "id": "e0ba0a71",
   "metadata": {},
   "source": [
    "### Q2.  You've been given the names of some products and their corresponding prices. Combine these lists into a dictionary for easy lookup of product prices.\n",
    "```python\n",
    "products = ['Laptop', 'Mouse', 'Keyboard']\n",
    "prices = [1000, 20, 50]\n",
    "\n",
    "# expected output\n",
    "{\n",
    "    'Laptop': 1000,\n",
    "    'Mouse': 20,\n",
    "    'Keyboard': 50\n",
    "}\n",
    "\n",
    "```"
   ]
  },
  {
   "cell_type": "code",
   "execution_count": null,
   "id": "c9b9bbc2",
   "metadata": {},
   "outputs": [],
   "source": []
  },
  {
   "cell_type": "code",
   "execution_count": null,
   "id": "57bd4cd5",
   "metadata": {},
   "outputs": [],
   "source": []
  },
  {
   "cell_type": "code",
   "execution_count": null,
   "id": "9a1d0363",
   "metadata": {},
   "outputs": [],
   "source": []
  },
  {
   "cell_type": "markdown",
   "id": "6647f866",
   "metadata": {},
   "source": [
    "### Q3. You have a list of products in a warehouse and you want to label each product with a unique ID starting from 1. Print out each product with its corresponding ID.\n",
    "\n",
    "```python\n",
    "products = ['Table', 'Chair', 'Desk']\n",
    "\n",
    "# expected output\n",
    "1 Table\n",
    "2 Chair\n",
    "3 Desk\n",
    "```"
   ]
  },
  {
   "cell_type": "code",
   "execution_count": null,
   "id": "94fac1f5",
   "metadata": {},
   "outputs": [],
   "source": []
  },
  {
   "cell_type": "code",
   "execution_count": null,
   "id": "cdbf32c1",
   "metadata": {},
   "outputs": [],
   "source": []
  },
  {
   "cell_type": "markdown",
   "id": "6cb820cf",
   "metadata": {},
   "source": [
    "### Q4. You've collected feedback from attendees after a business seminar. You want to display each feedback with its sequence number to present in a report.\n",
    "\n",
    "```python\n",
    "feedbacks = ['Great session!', 'More examples would be better.', 'Loved the hands-on activities.']\n",
    "\n",
    "# expected output\n",
    "1. Great session!\n",
    "2. More examples would be better.\n",
    "3. Loved the hands-on activities.\n",
    "```"
   ]
  },
  {
   "cell_type": "code",
   "execution_count": null,
   "id": "e1149d36",
   "metadata": {},
   "outputs": [],
   "source": []
  },
  {
   "cell_type": "code",
   "execution_count": null,
   "id": "2a24adf8",
   "metadata": {},
   "outputs": [],
   "source": []
  },
  {
   "cell_type": "markdown",
   "id": "cd7103dd",
   "metadata": {},
   "source": [
    "# List comprehension <a class=\"anchor\" id=\"lstcomp\"></a>\n",
    "- A concise way to create lists.\n",
    "- A syntactic construct that consists of a single expression followed by at least one for clause and zero or more if clauses.\n",
    "\n",
    "`Baics Sytanx`\n",
    "```python\n",
    "[expression(or item) for item in <squential data> if <condition>]\n",
    "\n",
    "# example1\n",
    "[x for x in range(2,15,2)]\n",
    "\n",
    "# example2\n",
    "[10*i for i in range(1,11) if i%3 == 0]\n",
    "```\n"
   ]
  },
  {
   "cell_type": "code",
   "execution_count": 10,
   "id": "f1fb45a6",
   "metadata": {},
   "outputs": [
    {
     "data": {
      "text/plain": [
       "[0, 1, 2, 3, 4]"
      ]
     },
     "execution_count": 10,
     "metadata": {},
     "output_type": "execute_result"
    }
   ],
   "source": [
    "# list of number\n",
    "[x  for x in range(5)]"
   ]
  },
  {
   "cell_type": "code",
   "execution_count": 11,
   "id": "0cc674e4",
   "metadata": {},
   "outputs": [
    {
     "data": {
      "text/plain": [
       "[0, 1, 4, 9, 16, 25, 36, 49, 64, 81]"
      ]
     },
     "execution_count": 11,
     "metadata": {},
     "output_type": "execute_result"
    }
   ],
   "source": [
    "# Square of numbers\n",
    "squares = [x**2 for x in range(10)]\n",
    "squares"
   ]
  },
  {
   "cell_type": "code",
   "execution_count": 12,
   "id": "0446d8f9",
   "metadata": {},
   "outputs": [
    {
     "data": {
      "text/plain": [
       "[0, 2, 4, 6, 8]"
      ]
     },
     "execution_count": 12,
     "metadata": {},
     "output_type": "execute_result"
    }
   ],
   "source": [
    "# Even numbers\n",
    "evens = [x for x in range(10) if x % 2 == 0]\n",
    "evens"
   ]
  },
  {
   "cell_type": "code",
   "execution_count": 13,
   "id": "a6ebbcfc",
   "metadata": {},
   "outputs": [
    {
     "data": {
      "text/plain": [
       "[90, 85]"
      ]
     },
     "execution_count": 13,
     "metadata": {},
     "output_type": "execute_result"
    }
   ],
   "source": [
    "# Extracting specific data columns from a dataset.\n",
    "data = [\n",
    "    {'name': 'Alice', 'age': 25, 'score': 90},\n",
    "    {'name': 'Bob', 'age': 30, 'score': 85}\n",
    "]\n",
    "scores = [entry['score'] for entry in data]\n",
    "scores"
   ]
  },
  {
   "cell_type": "code",
   "execution_count": null,
   "id": "f01914cd",
   "metadata": {},
   "outputs": [],
   "source": []
  },
  {
   "cell_type": "code",
   "execution_count": null,
   "id": "3536d3fa",
   "metadata": {},
   "outputs": [],
   "source": []
  },
  {
   "cell_type": "markdown",
   "id": "33cbaa8b",
   "metadata": {},
   "source": [
    "#  Dictionary Comprehension <a class=\"anchor\" id=\"dictcomp\"></a>\n",
    "- A concise way to create dictionaries.\n",
    "- Similar to list comprehensions but produces dictionaries.\n",
    "\n",
    "`baics sytnax`\n",
    "```python\n",
    "\n",
    "{key_expression: value_expression for item (or key, value) in iterable if condition}\n",
    "\n",
    "# Eaxmple\n",
    " { x : x**2 for x in range(1,4)}\n",
    "```"
   ]
  },
  {
   "cell_type": "code",
   "execution_count": 14,
   "id": "ce4c5b5c",
   "metadata": {},
   "outputs": [
    {
     "data": {
      "text/plain": [
       "{2: 4, 3: 9, 4: 16}"
      ]
     },
     "execution_count": 14,
     "metadata": {},
     "output_type": "execute_result"
    }
   ],
   "source": [
    "# Mapping numbers to their squares\n",
    "squares_dict = {x: x**2 for x in (2, 3, 4)}\n",
    "squares_dict"
   ]
  },
  {
   "cell_type": "code",
   "execution_count": 15,
   "id": "64953006",
   "metadata": {},
   "outputs": [
    {
     "data": {
      "text/plain": [
       "{'apple': 2, 'banana': 1, 'orange': 1}"
      ]
     },
     "execution_count": 15,
     "metadata": {},
     "output_type": "execute_result"
    }
   ],
   "source": [
    "# Creating a mapping of items to their frequency in a list.\n",
    "fruits = ['apple', 'banana', 'apple', 'orange']\n",
    "fruit_count = {fruit: fruits.count(fruit) for fruit in fruits}\n",
    "fruit_count"
   ]
  },
  {
   "cell_type": "code",
   "execution_count": null,
   "id": "16a450f2",
   "metadata": {},
   "outputs": [],
   "source": []
  },
  {
   "cell_type": "code",
   "execution_count": null,
   "id": "cff28e04",
   "metadata": {},
   "outputs": [],
   "source": []
  },
  {
   "cell_type": "code",
   "execution_count": null,
   "id": "22a14ad6",
   "metadata": {},
   "outputs": [],
   "source": []
  },
  {
   "cell_type": "markdown",
   "id": "74e50a9f",
   "metadata": {},
   "source": [
    "You can also make a dictionary by using two list.\n"
   ]
  },
  {
   "cell_type": "code",
   "execution_count": 16,
   "id": "aae88e5d",
   "metadata": {},
   "outputs": [],
   "source": [
    "course_no = [101,102,103,104]\n",
    "courses = [\"Python\",\"Data Analysis\", \"Machine Learning\",\"Data Science\"]"
   ]
  },
  {
   "cell_type": "code",
   "execution_count": 17,
   "id": "c1644dbe",
   "metadata": {},
   "outputs": [
    {
     "data": {
      "text/plain": [
       "{101: 'Python',\n",
       " 102: 'Data Analysis',\n",
       " 103: 'Machine Learning',\n",
       " 104: 'Data Science'}"
      ]
     },
     "execution_count": 17,
     "metadata": {},
     "output_type": "execute_result"
    }
   ],
   "source": [
    "{key : value for key, value in zip(course_no, courses)}"
   ]
  },
  {
   "cell_type": "code",
   "execution_count": null,
   "id": "fc2190e9",
   "metadata": {},
   "outputs": [],
   "source": []
  },
  {
   "cell_type": "code",
   "execution_count": null,
   "id": "289aaf9f",
   "metadata": {},
   "outputs": [],
   "source": []
  },
  {
   "cell_type": "markdown",
   "id": "deac92dd",
   "metadata": {},
   "source": [
    "---\n",
    "## Practice Exercises:  2\n",
    "---\n",
    "### Q5. Temperature Conversion: Convert a list of temperatures from Celsius to Fahrenheit.\n",
    "\n",
    "```python\n",
    "Input = [0, 10, 20, 30]\n",
    "\n",
    "# expected output\n",
    "# [32.0, 50.0, 68.0, 86.0]\n",
    "```"
   ]
  },
  {
   "cell_type": "code",
   "execution_count": 18,
   "id": "b8c6a077",
   "metadata": {},
   "outputs": [
    {
     "data": {
      "text/plain": [
       "[-57.6, -39.6, -21.6, -3.6]"
      ]
     },
     "execution_count": 18,
     "metadata": {},
     "output_type": "execute_result"
    }
   ],
   "source": [
    "Input = [0, 10, 20, 30]\n",
    "\n",
    "[(C-32)*(9/5) for C in Input]"
   ]
  },
  {
   "cell_type": "code",
   "execution_count": null,
   "id": "9297ffaa",
   "metadata": {},
   "outputs": [],
   "source": []
  },
  {
   "cell_type": "markdown",
   "id": "0cba4aa8",
   "metadata": {},
   "source": [
    "### Q6. Word Lengths: Given a sentence, create a dictionary where keys are words and values are the lengths of those words.\n",
    "\n",
    "```python\n",
    "Input =  \"Hello World\"\n",
    "\n",
    "# Expected output\n",
    "# Output: {'Hello': 5, 'World': 5}\n",
    "```"
   ]
  },
  {
   "cell_type": "code",
   "execution_count": 19,
   "id": "0669afb0",
   "metadata": {},
   "outputs": [
    {
     "data": {
      "text/plain": [
       "{'Hello': 5, 'World': 5}"
      ]
     },
     "execution_count": 19,
     "metadata": {},
     "output_type": "execute_result"
    }
   ],
   "source": [
    "Input =  \"Hello World\"\n",
    "{key : len(key) for key in Input.split()}"
   ]
  },
  {
   "cell_type": "code",
   "execution_count": null,
   "id": "c256beb0",
   "metadata": {},
   "outputs": [],
   "source": []
  },
  {
   "cell_type": "markdown",
   "id": "02037e0a",
   "metadata": {},
   "source": [
    "Data Analysis Question:\n",
    "\n",
    "### Q7. Filtering Data: Use a list comprehension to filter rows from a dataset where a score's value exceeds a threshold(=85).\n",
    "\n",
    "```python\n",
    "data = [\n",
    "    {'name': 'Alice', 'score': 85},\n",
    "    {'name': 'Bob', 'score': 90},\n",
    "    {'name': 'Charlie', 'score': 80}\n",
    "]\n",
    "threshold = 85\n",
    " # Expected Output\n",
    "# [{'name': 'Bob', 'score': 90}]\n",
    "```\n"
   ]
  },
  {
   "cell_type": "code",
   "execution_count": 20,
   "id": "e4e71280",
   "metadata": {},
   "outputs": [],
   "source": [
    "data = [\n",
    "    {'name': 'Alice', 'score': 85},\n",
    "    {'name': 'Bob', 'score': 90},\n",
    "    {'name': 'Charlie', 'score': 80}\n",
    "]\n",
    "threshold = 85"
   ]
  },
  {
   "cell_type": "code",
   "execution_count": 21,
   "id": "061d6661",
   "metadata": {},
   "outputs": [
    {
     "data": {
      "text/plain": [
       "[{'name': 'Bob', 'score': 90}]"
      ]
     },
     "execution_count": 21,
     "metadata": {},
     "output_type": "execute_result"
    }
   ],
   "source": [
    "[row for row in data if row['score'] > threshold]\n"
   ]
  },
  {
   "cell_type": "code",
   "execution_count": null,
   "id": "67308406",
   "metadata": {},
   "outputs": [],
   "source": []
  }
 ],
 "metadata": {
  "kernelspec": {
   "display_name": "Python 3 (ipykernel)",
   "language": "python",
   "name": "python3"
  },
  "language_info": {
   "codemirror_mode": {
    "name": "ipython",
    "version": 3
   },
   "file_extension": ".py",
   "mimetype": "text/x-python",
   "name": "python",
   "nbconvert_exporter": "python",
   "pygments_lexer": "ipython3",
   "version": "3.9.7"
  }
 },
 "nbformat": 4,
 "nbformat_minor": 5
}
