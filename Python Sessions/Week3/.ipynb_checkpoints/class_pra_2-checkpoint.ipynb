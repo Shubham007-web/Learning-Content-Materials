{
 "cells": [
  {
   "cell_type": "markdown",
   "id": "ecd817bc-29ae-4aef-84b5-b3fa7e8b3709",
   "metadata": {},
   "source": [
    "#### Loops in tuple\n",
    "- for\n",
    "- while"
   ]
  },
  {
   "cell_type": "code",
   "execution_count": 1,
   "id": "156c41b3-a777-48e4-bf9e-9ef9dbf10212",
   "metadata": {},
   "outputs": [
    {
     "data": {
      "text/plain": [
       "(2, 3, 4, 5, 7)"
      ]
     },
     "execution_count": 1,
     "metadata": {},
     "output_type": "execute_result"
    }
   ],
   "source": [
    "t = (2,3,4,5,7)\n",
    "t"
   ]
  },
  {
   "cell_type": "code",
   "execution_count": 2,
   "id": "4af3c25f-cfe8-4c90-a940-00808c6506af",
   "metadata": {},
   "outputs": [
    {
     "name": "stdout",
     "output_type": "stream",
     "text": [
      "2\n",
      "3\n",
      "4\n",
      "5\n",
      "7\n"
     ]
    }
   ],
   "source": [
    "for i in t:\n",
    "    print(i)"
   ]
  },
  {
   "cell_type": "code",
   "execution_count": 14,
   "id": "373151cd-a756-4480-bfed-bfe18757cf26",
   "metadata": {},
   "outputs": [
    {
     "data": {
      "text/plain": [
       "tuple"
      ]
     },
     "execution_count": 14,
     "metadata": {},
     "output_type": "execute_result"
    }
   ],
   "source": [
    "t1 = ()\n",
    "t1\n",
    "type(t1)"
   ]
  },
  {
   "cell_type": "code",
   "execution_count": 15,
   "id": "0b7e1e7a-fa9d-4f89-9b68-3db1d7106c5f",
   "metadata": {},
   "outputs": [
    {
     "name": "stdout",
     "output_type": "stream",
     "text": [
      "(5, 6, 7, 8, 9)\n"
     ]
    }
   ],
   "source": [
    "for i in range(5,10):\n",
    "    t1 =  t1 + (i,)\n",
    "print(t1)"
   ]
  },
  {
   "cell_type": "code",
   "execution_count": 23,
   "id": "c46fe2ea-4980-414b-9d6d-b231ed17a81f",
   "metadata": {},
   "outputs": [],
   "source": [
    "# 2.\n",
    "def get_data(aTuple):\n",
    "    nums= ()\n",
    "    words = ()\n",
    "    for t in aTuple:\n",
    "        nums= nums+ (t[0],)\n",
    "        if t[1] not in words:\n",
    "            words = words + (t[1],)\n",
    "    min_nums= min(nums)\n",
    "    max_nums= max(nums)\n",
    "    unique_words= len(words)\n",
    "    return(min_nums, max_nums, unique_words)"
   ]
  },
  {
   "cell_type": "code",
   "execution_count": 24,
   "id": "0408e077-6ec0-4034-ac54-c74dc21c9f19",
   "metadata": {},
   "outputs": [],
   "source": [
    "t1 = (\"Shubham\",\"Atul\")\n",
    "t2 = (22,23)"
   ]
  },
  {
   "cell_type": "code",
   "execution_count": 25,
   "id": "bc1561a2-1143-4c3c-9c3e-ed1ee93c08d5",
   "metadata": {},
   "outputs": [
    {
     "data": {
      "text/plain": [
       "('A', 'S', 2)"
      ]
     },
     "execution_count": 25,
     "metadata": {},
     "output_type": "execute_result"
    }
   ],
   "source": [
    "get_data(t1)"
   ]
  },
  {
   "cell_type": "raw",
   "id": "398656ed-3968-454d-80a3-2270bbceb297",
   "metadata": {},
   "source": [
    "Input: ((1, 'apple'), (2, 'banana'), (3, 'apple'))\n",
    "nums: (1, 2, 3)\n",
    "words: ('apple', 'banana')\n",
    "Output: (1, 3, 2)\n"
   ]
  },
  {
   "cell_type": "code",
   "execution_count": 26,
   "id": "41eba96e-0809-481f-b402-fbbc475b5dd8",
   "metadata": {},
   "outputs": [
    {
     "data": {
      "text/plain": [
       "((1, 'apple'), (2, 'banana'), (3, 'apple'))"
      ]
     },
     "execution_count": 26,
     "metadata": {},
     "output_type": "execute_result"
    }
   ],
   "source": [
    "t =  ((1, 'apple'), (2, 'banana'), (3, 'apple'))\n",
    "t"
   ]
  },
  {
   "cell_type": "code",
   "execution_count": 46,
   "id": "a21f9a1f-a420-44a6-8c34-a3f5bf0e7ffb",
   "metadata": {},
   "outputs": [
    {
     "name": "stdout",
     "output_type": "stream",
     "text": [
      "(1, 'apple')\n",
      "(2, 'banana')\n",
      "(3, 'apple')\n"
     ]
    }
   ],
   "source": [
    "for i in t:\n",
    "    print(i)"
   ]
  },
  {
   "cell_type": "code",
   "execution_count": 52,
   "id": "34858799-390c-47a7-a50b-ec9f55de35ac",
   "metadata": {},
   "outputs": [
    {
     "name": "stdout",
     "output_type": "stream",
     "text": [
      "Num :  (1, 2, 3)\n",
      "Word :  ('apple', 'banana', 'apple')\n"
     ]
    }
   ],
   "source": [
    "num = ()\n",
    "word = ()\n",
    "for i in t:\n",
    "    num = num + (i[0],)\n",
    "    word = word + (i[1],)\n",
    "    \n",
    "print(\"Num : \", num)\n",
    "print(\"Word : \", word)"
   ]
  },
  {
   "cell_type": "code",
   "execution_count": 53,
   "id": "a8151274-8596-4c72-9b68-418b15e80782",
   "metadata": {},
   "outputs": [
    {
     "data": {
      "text/plain": [
       "(1, 2, 3)"
      ]
     },
     "execution_count": 53,
     "metadata": {},
     "output_type": "execute_result"
    }
   ],
   "source": [
    "## 3.\n",
    "# input1\n",
    "num"
   ]
  },
  {
   "cell_type": "code",
   "execution_count": 54,
   "id": "78c6bebc-3740-4ba0-9601-ede8980d5892",
   "metadata": {},
   "outputs": [
    {
     "data": {
      "text/plain": [
       "('apple', 'banana', 'apple')"
      ]
     },
     "execution_count": 54,
     "metadata": {},
     "output_type": "execute_result"
    }
   ],
   "source": [
    "# input2\n",
    "word"
   ]
  },
  {
   "cell_type": "code",
   "execution_count": 55,
   "id": "557a5686-3384-4c86-b8cd-6ba0db78c961",
   "metadata": {},
   "outputs": [
    {
     "data": {
      "text/plain": [
       "((1, 'apple'), (2, 'banana'), (3, 'apple'))"
      ]
     },
     "execution_count": 55,
     "metadata": {},
     "output_type": "execute_result"
    }
   ],
   "source": [
    "# output\n",
    "t"
   ]
  },
  {
   "cell_type": "code",
   "execution_count": null,
   "id": "67fac4a3-2b2a-45d5-ba04-7625208505d5",
   "metadata": {},
   "outputs": [],
   "source": []
  },
  {
   "cell_type": "code",
   "execution_count": 64,
   "id": "1bb96a18-142a-45cf-90ea-9e75628c05c2",
   "metadata": {},
   "outputs": [
    {
     "name": "stdout",
     "output_type": "stream",
     "text": [
      "{1, 2, 3}\n"
     ]
    },
    {
     "data": {
      "text/plain": [
       "(1, 2, 3)"
      ]
     },
     "execution_count": 64,
     "metadata": {},
     "output_type": "execute_result"
    }
   ],
   "source": []
  },
  {
   "cell_type": "markdown",
   "id": "e33bed89-f01b-4f7a-ac06-2315ba88cbe2",
   "metadata": {},
   "source": [
    "### Wrtie a program that can find:\n",
    "- sum of factors (input:- 6, output:- 1 + 2 + 3)  \n",
    "- List of digits (input:- 457, output: [4,5,7]"
   ]
  },
  {
   "cell_type": "code",
   "execution_count": 75,
   "id": "a9e8fc5c-776e-4d73-87b1-d8428eebf6ec",
   "metadata": {},
   "outputs": [
    {
     "data": {
      "text/plain": [
       "7"
      ]
     },
     "metadata": {},
     "output_type": "display_data"
    },
    {
     "data": {
      "text/plain": [
       "45"
      ]
     },
     "metadata": {},
     "output_type": "display_data"
    },
    {
     "data": {
      "text/plain": [
       "4"
      ]
     },
     "execution_count": 75,
     "metadata": {},
     "output_type": "execute_result"
    }
   ],
   "source": [
    "num = 457\n",
    "\n",
    "# 4  , 5 , 7\n",
    "\n",
    "d1 = num % 10\n",
    "display(d1)\n",
    "num = num // 10\n",
    "display(num)\n",
    "\n",
    "d2 = num % 10\n",
    "num = num // 10\n",
    "d2\n",
    "d3 = num % 10\n",
    "d3\n"
   ]
  },
  {
   "cell_type": "code",
   "execution_count": 86,
   "id": "6c66f479-4ce6-4c60-a9c4-0bb37ec58096",
   "metadata": {},
   "outputs": [
    {
     "name": "stdout",
     "output_type": "stream",
     "text": [
      "[5, 5, 4, 1, 2, 9, 8, 7, 5, 4]\n"
     ]
    }
   ],
   "source": [
    "num = 4578921455\n",
    "lst = []\n",
    "for i in range(len(str(num))):\n",
    "    d = num % 10\n",
    "    num = num // 10\n",
    "    lst.append(d)\n",
    "    \n",
    "print(lst)\n"
   ]
  },
  {
   "cell_type": "code",
   "execution_count": 92,
   "id": "b6cede63-3d47-4f14-9d51-d67ee106a441",
   "metadata": {},
   "outputs": [
    {
     "name": "stdout",
     "output_type": "stream",
     "text": [
      "[8, 9, 3, 6, 9]\n"
     ]
    }
   ],
   "source": [
    "num = 89369\n",
    "l  = []\n",
    "for i in str(num):\n",
    "    l.append(int(i))\n",
    "    \n",
    "print( l)"
   ]
  },
  {
   "cell_type": "code",
   "execution_count": 96,
   "id": "c8743b03-dc1f-452f-a00e-a4dca7df36e2",
   "metadata": {},
   "outputs": [
    {
     "name": "stdout",
     "output_type": "stream",
     "text": [
      "I want to learn :  Python\n",
      "I want to learn :  ML\n",
      "I want to learn :  Data Ananysis\n",
      "I want to learn :  DS\n"
     ]
    }
   ],
   "source": [
    "# example\n",
    "subjects = [\"Python\",\"ML\",\"Data Ananysis\",\"DS\"]\n",
    "\n",
    "for x in subjects:\n",
    "    print(\"I want to learn : \",x)"
   ]
  },
  {
   "cell_type": "markdown",
   "id": "46c50838-8579-4c97-91bb-b18a1245e210",
   "metadata": {},
   "source": [
    "#### range()\n",
    "1. range(5): 0, 1 , 2, 3 , 4\n",
    "2. range(1,5): 1,2,3,4\n",
    "3. range(1, 11, 2): 1,3 , 5,7,9\n"
   ]
  },
  {
   "cell_type": "code",
   "execution_count": 97,
   "id": "ed9b0f3b-c64a-40f6-99f3-e4840d503f34",
   "metadata": {},
   "outputs": [
    {
     "data": {
      "text/plain": [
       "range(0, 5)"
      ]
     },
     "execution_count": 97,
     "metadata": {},
     "output_type": "execute_result"
    }
   ],
   "source": [
    "range(5)"
   ]
  },
  {
   "cell_type": "code",
   "execution_count": 98,
   "id": "002cea08-a9f8-491b-ac9a-44076744ef2a",
   "metadata": {},
   "outputs": [
    {
     "data": {
      "text/plain": [
       "[0, 1, 2, 3, 4]"
      ]
     },
     "execution_count": 98,
     "metadata": {},
     "output_type": "execute_result"
    }
   ],
   "source": [
    "list(range(5))"
   ]
  },
  {
   "cell_type": "code",
   "execution_count": 99,
   "id": "6c5b401d-2443-4339-ab7f-8916ef7429bb",
   "metadata": {},
   "outputs": [
    {
     "data": {
      "text/plain": [
       "(0, 1, 2, 3, 4)"
      ]
     },
     "execution_count": 99,
     "metadata": {},
     "output_type": "execute_result"
    }
   ],
   "source": [
    "tuple(range(5))"
   ]
  },
  {
   "cell_type": "code",
   "execution_count": 100,
   "id": "158f3431-0e27-4467-8e1f-421ea72842e6",
   "metadata": {},
   "outputs": [
    {
     "data": {
      "text/plain": [
       "{0, 1, 2, 3, 4}"
      ]
     },
     "execution_count": 100,
     "metadata": {},
     "output_type": "execute_result"
    }
   ],
   "source": [
    "set(range(5))"
   ]
  },
  {
   "cell_type": "code",
   "execution_count": 104,
   "id": "88c721b4-397a-4430-a9ab-16b290c41efe",
   "metadata": {},
   "outputs": [
    {
     "name": "stdout",
     "output_type": "stream",
     "text": [
      "0 1 2 3 4 "
     ]
    }
   ],
   "source": [
    "for x in range(5):\n",
    "    print(x, end = ' ')"
   ]
  },
  {
   "cell_type": "markdown",
   "id": "d1e95d30-bdd0-4358-a099-78955e1bf74a",
   "metadata": {},
   "source": [
    "### Output function in python \n",
    "```python\n",
    "print(v1,v1,....)\n",
    "```"
   ]
  },
  {
   "cell_type": "code",
   "execution_count": null,
   "id": "24e8a50a-fe22-4f22-9ac5-c2a9eb1eda95",
   "metadata": {},
   "outputs": [],
   "source": [
    "print(\"Hello\")"
   ]
  },
  {
   "cell_type": "code",
   "execution_count": 105,
   "id": "1c115272-42a8-42e1-99fc-eff0a2f83858",
   "metadata": {},
   "outputs": [
    {
     "name": "stdout",
     "output_type": "stream",
     "text": [
      "Hello python 4 5 2.2\n"
     ]
    }
   ],
   "source": [
    "print(\"Hello\",\"python\", 4,5,2.2)"
   ]
  },
  {
   "cell_type": "code",
   "execution_count": 106,
   "id": "00236f2c-2c5d-4ef9-b823-6cca2ef0b5eb",
   "metadata": {},
   "outputs": [
    {
     "name": "stdout",
     "output_type": "stream",
     "text": [
      "Hello python 4 5 2.2\n"
     ]
    }
   ],
   "source": [
    "print(\"Hello\",\"python\", 4,5,2.2, sep = ' ')"
   ]
  },
  {
   "cell_type": "code",
   "execution_count": 108,
   "id": "b0058a5e-bc11-4950-a237-ef42fd450067",
   "metadata": {},
   "outputs": [
    {
     "name": "stdout",
     "output_type": "stream",
     "text": [
      "Hello --->  python --->  4 --->  5 --->  2.2\n"
     ]
    }
   ],
   "source": [
    "print(\"Hello\",\"python\", 4,5,2.2, sep = ' --->  ')"
   ]
  },
  {
   "cell_type": "code",
   "execution_count": 109,
   "id": "ece08c04-ab0d-445a-bdab-c854c6b30eb5",
   "metadata": {},
   "outputs": [
    {
     "name": "stdout",
     "output_type": "stream",
     "text": [
      "Hello\n",
      "python\n",
      "4\n",
      "5\n",
      "2.2\n"
     ]
    }
   ],
   "source": [
    "print(\"Hello\",\"python\", 4,5,2.2, sep = '\\n')"
   ]
  },
  {
   "cell_type": "code",
   "execution_count": 119,
   "id": "53d03205-bccc-467c-9ae8-60bd8efd8c24",
   "metadata": {},
   "outputs": [
    {
     "name": "stdout",
     "output_type": "stream",
     "text": [
      "Hello***Python\n",
      "5\n"
     ]
    }
   ],
   "source": [
    "print(\"Hello\", end = '***')\n",
    "print(\"Python\")\n",
    "print(5)"
   ]
  },
  {
   "cell_type": "code",
   "execution_count": null,
   "id": "fb1f6d30-f475-44eb-b803-a8a78df5e32d",
   "metadata": {},
   "outputs": [],
   "source": []
  }
 ],
 "metadata": {
  "kernelspec": {
   "display_name": "Python 3 (ipykernel)",
   "language": "python",
   "name": "python3"
  },
  "language_info": {
   "codemirror_mode": {
    "name": "ipython",
    "version": 3
   },
   "file_extension": ".py",
   "mimetype": "text/x-python",
   "name": "python",
   "nbconvert_exporter": "python",
   "pygments_lexer": "ipython3",
   "version": "3.11.7"
  }
 },
 "nbformat": 4,
 "nbformat_minor": 5
}
