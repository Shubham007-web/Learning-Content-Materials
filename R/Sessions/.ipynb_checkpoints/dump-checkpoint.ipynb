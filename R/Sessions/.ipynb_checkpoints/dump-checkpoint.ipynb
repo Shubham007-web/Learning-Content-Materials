{
 "cells": [
  {
   "cell_type": "markdown",
   "id": "33b14bed-026f-4e0f-a433-8f65aaaf1bb2",
   "metadata": {},
   "source": [
    " \n",
    "## R \n",
    "\n",
    "- R is a programming language.\n",
    "\n",
    "- R is often used for statistical computing and graphical presentation to analyze and visualize data.\n",
    "- R is a popular programming language used for statistical computing and graphical presentation.\n",
    "- Its most common use is to analyze and visualize data.\n",
    "\n",
    "\n"
   ]
  },
  {
   "cell_type": "markdown",
   "id": "07ea66b4-5d28-4587-9df2-d2085c0c1e5a",
   "metadata": {},
   "source": [
    "### Why Use R?\n",
    "- It is a great resource for data analysis, data visualization, data science and machine learning\n",
    "- It provides many statistical techniques (such as statistical tests, classification, clustering and data reduction)\n",
    "- It is easy to draw graphs in R, like pie charts, histograms, box plot, scatter plot, etc++\n",
    "- It works on different platforms (Windows, Mac, Linux)\n",
    "- It is open-source and free\n",
    "- It has a large community support\n",
    "- It has many packages (libraries of functions) that can be used to solve different problems"
   ]
  },
  {
   "cell_type": "code",
   "execution_count": 2,
   "id": "7a76d260-9147-4caf-a8de-b2fe646e316c",
   "metadata": {},
   "outputs": [
    {
     "data": {
      "text/html": [
       "11"
      ],
      "text/latex": [
       "11"
      ],
      "text/markdown": [
       "11"
      ],
      "text/plain": [
       "[1] 11"
      ]
     },
     "metadata": {},
     "output_type": "display_data"
    }
   ],
   "source": [
    "# basic arthimatic operations\n",
    "6 + 5"
   ]
  },
  {
   "cell_type": "code",
   "execution_count": 3,
   "id": "04a1c0ed-31d6-4b96-bbfd-0a5f20065f55",
   "metadata": {},
   "outputs": [
    {
     "data": {
      "text/html": [
       "243"
      ],
      "text/latex": [
       "243"
      ],
      "text/markdown": [
       "243"
      ],
      "text/plain": [
       "[1] 243"
      ]
     },
     "metadata": {},
     "output_type": "display_data"
    }
   ],
   "source": [
    "3 **5"
   ]
  },
  {
   "cell_type": "code",
   "execution_count": 4,
   "id": "34795820-7dbc-49df-bebf-ce3a1dd3ccac",
   "metadata": {},
   "outputs": [
    {
     "data": {
      "text/html": [
       "4"
      ],
      "text/latex": [
       "4"
      ],
      "text/markdown": [
       "4"
      ],
      "text/plain": [
       "[1] 4"
      ]
     },
     "metadata": {},
     "output_type": "display_data"
    }
   ],
   "source": [
    "2 ^2"
   ]
  },
  {
   "cell_type": "code",
   "execution_count": 6,
   "id": "1a2e6f68-198a-42b4-ae91-0645f0ff7802",
   "metadata": {},
   "outputs": [
    {
     "data": {
      "text/html": [
       "15.5"
      ],
      "text/latex": [
       "15.5"
      ],
      "text/markdown": [
       "15.5"
      ],
      "text/plain": [
       "[1] 15.5"
      ]
     },
     "metadata": {},
     "output_type": "display_data"
    }
   ],
   "source": [
    "31 / 2"
   ]
  },
  {
   "cell_type": "markdown",
   "id": "42c244d8-b9ef-420d-bf73-6f0bf3a3586a",
   "metadata": {},
   "source": [
    "### R sytanx\n",
    "-  text in R, use single or double quotes:"
   ]
  },
  {
   "cell_type": "code",
   "execution_count": 7,
   "id": "d52e4545-a9f9-4957-9eb5-5db21e7c55d4",
   "metadata": {},
   "outputs": [
    {
     "data": {
      "text/html": [
       "'Hello World'"
      ],
      "text/latex": [
       "'Hello World'"
      ],
      "text/markdown": [
       "'Hello World'"
      ],
      "text/plain": [
       "[1] \"Hello World\""
      ]
     },
     "metadata": {},
     "output_type": "display_data"
    }
   ],
   "source": [
    "\"Hello World\""
   ]
  },
  {
   "cell_type": "code",
   "execution_count": 8,
   "id": "62f5e7c7-6b8e-436a-956d-582877c4d25f",
   "metadata": {},
   "outputs": [
    {
     "data": {
      "text/html": [
       "'Hello world'"
      ],
      "text/latex": [
       "'Hello world'"
      ],
      "text/markdown": [
       "'Hello world'"
      ],
      "text/plain": [
       "[1] \"Hello world\""
      ]
     },
     "metadata": {},
     "output_type": "display_data"
    }
   ],
   "source": [
    "'Hello world'"
   ]
  },
  {
   "cell_type": "markdown",
   "id": "1d1fc6fc-7201-4965-b359-804f217021ea",
   "metadata": {},
   "source": [
    "- numbers, just type the number (without quotes):"
   ]
  },
  {
   "cell_type": "code",
   "execution_count": 9,
   "id": "4c9aa466-c135-41c5-bc24-5bd1d2e751b6",
   "metadata": {},
   "outputs": [
    {
     "data": {
      "text/html": [
       "6"
      ],
      "text/latex": [
       "6"
      ],
      "text/markdown": [
       "6"
      ],
      "text/plain": [
       "[1] 6"
      ]
     },
     "metadata": {},
     "output_type": "display_data"
    }
   ],
   "source": [
    "6 "
   ]
  },
  {
   "cell_type": "code",
   "execution_count": 10,
   "id": "beea3f85-17c7-4095-bc3c-7dd5fe60fa20",
   "metadata": {},
   "outputs": [
    {
     "data": {
      "text/html": [
       "15"
      ],
      "text/latex": [
       "15"
      ],
      "text/markdown": [
       "15"
      ],
      "text/plain": [
       "[1] 15"
      ]
     },
     "metadata": {},
     "output_type": "display_data"
    }
   ],
   "source": [
    "7 +8"
   ]
  },
  {
   "cell_type": "markdown",
   "id": "5c74b6ad-c964-4e6a-a100-7415dde262d2",
   "metadata": {},
   "source": [
    "**Print**\r",
    "- \n",
    "Unlike many other programming languages, you can output code in R without using a print function:"
   ]
  },
  {
   "cell_type": "code",
   "execution_count": 11,
   "id": "7a426421-b9ff-417b-b96e-5bf0a9115d2d",
   "metadata": {},
   "outputs": [
    {
     "data": {
      "text/html": [
       "'hello'"
      ],
      "text/latex": [
       "'hello'"
      ],
      "text/markdown": [
       "'hello'"
      ],
      "text/plain": [
       "[1] \"hello\""
      ]
     },
     "metadata": {},
     "output_type": "display_data"
    }
   ],
   "source": [
    "\"hello\""
   ]
  },
  {
   "cell_type": "markdown",
   "id": "9e3837b9-a5a0-4f29-8d50-06af342c90c7",
   "metadata": {},
   "source": [
    "- However, R does have a print() function available if you want to use it. This might be useful if you are familiar with other programming languages, such as Python, which often uses the print() function to output code."
   ]
  },
  {
   "cell_type": "code",
   "execution_count": 12,
   "id": "0f3ab0e1-795d-40a4-8375-5d5943009ef4",
   "metadata": {},
   "outputs": [
    {
     "name": "stdout",
     "output_type": "stream",
     "text": [
      "[1] \"hello\"\n"
     ]
    }
   ],
   "source": [
    "print(\"hello\")"
   ]
  },
  {
   "cell_type": "code",
   "execution_count": 22,
   "id": "17400c45-cd5f-45b7-87fd-cc9524036f49",
   "metadata": {},
   "outputs": [
    {
     "name": "stdout",
     "output_type": "stream",
     "text": [
      "[1] 1\n",
      "[1] 2\n",
      "[1] 3\n",
      "[1] 4\n",
      "[1] 5\n"
     ]
    }
   ],
   "source": [
    "#ex1\n",
    "for (x in 1:5) {\n",
    "    print(x)\n",
    "    }"
   ]
  },
  {
   "cell_type": "markdown",
   "id": "70b4ebbf-b50b-4b7d-b71f-61901def5781",
   "metadata": {},
   "source": [
    "**Comments**\r",
    "- \n",
    "Comments can be used to explain R code, and to make it more readable. It can also be used to prevent execution when testing alternative code.- \n",
    "\r\n",
    "Comments starts with a #. When executing code, R will ignore anything that starts with #."
   ]
  },
  {
   "cell_type": "code",
   "execution_count": 23,
   "id": "27c6044a-51d4-4d6a-9fec-b23cbd8e42bd",
   "metadata": {},
   "outputs": [],
   "source": [
    "# this is comment line"
   ]
  },
  {
   "cell_type": "code",
   "execution_count": 24,
   "id": "007b55c5-e5de-43fe-aafd-9241bede865f",
   "metadata": {},
   "outputs": [],
   "source": [
    "# for the multiline comment\n",
    "# we used # sign only"
   ]
  },
  {
   "cell_type": "markdown",
   "id": "e4885f15-abab-4e98-8999-e9b8b0f9a9e1",
   "metadata": {},
   "source": [
    "## R Variables "
   ]
  },
  {
   "cell_type": "markdown",
   "id": "b9f4e73c-d31f-4eef-8670-022ed12a5c05",
   "metadata": {},
   "source": [
    "### Creating Variables in R\r\n",
    " \n",
    "Variables are containers for storing data values.\r",
    " \r\n",
    "R does not have a command for declaring a variable. A variable is created the moment you first assign a value to it. To assign a value to a variable, use the <- sign. To output (or print) the variable value, just type the variable name:"
   ]
  },
  {
   "cell_type": "code",
   "execution_count": 26,
   "id": "41bedfe1-1c40-4a5b-8a3c-c45f40ac30f2",
   "metadata": {},
   "outputs": [],
   "source": [
    "name <- \"Shubham\"\n",
    "age <- 27"
   ]
  },
  {
   "cell_type": "code",
   "execution_count": 31,
   "id": "dea7ee9c-7bc0-4de2-b8ca-adc8a21deb50",
   "metadata": {},
   "outputs": [
    {
     "data": {
      "text/html": [
       "'Shubham'"
      ],
      "text/latex": [
       "'Shubham'"
      ],
      "text/markdown": [
       "'Shubham'"
      ],
      "text/plain": [
       "[1] \"Shubham\""
      ]
     },
     "metadata": {},
     "output_type": "display_data"
    }
   ],
   "source": [
    "name  #auto-print the value of the name variable"
   ]
  },
  {
   "cell_type": "code",
   "execution_count": 28,
   "id": "acdca9d3-b02d-4d5b-be19-8ca6f02ac047",
   "metadata": {},
   "outputs": [
    {
     "data": {
      "text/html": [
       "27"
      ],
      "text/latex": [
       "27"
      ],
      "text/markdown": [
       "27"
      ],
      "text/plain": [
       "[1] 27"
      ]
     },
     "metadata": {},
     "output_type": "display_data"
    }
   ],
   "source": [
    "age"
   ]
  },
  {
   "cell_type": "code",
   "execution_count": 29,
   "id": "c65c1d6d-4f69-43d3-ac5d-2c095ad3b4a4",
   "metadata": {},
   "outputs": [
    {
     "data": {
      "text/html": [
       "'shubh'"
      ],
      "text/latex": [
       "'shubh'"
      ],
      "text/markdown": [
       "'shubh'"
      ],
      "text/plain": [
       "[1] \"shubh\""
      ]
     },
     "metadata": {},
     "output_type": "display_data"
    }
   ],
   "source": [
    "nam1 = \"shubh\"\n",
    "nam1"
   ]
  },
  {
   "cell_type": "markdown",
   "id": "2c5a571a-39fc-41e5-8263-db69c9fadcf9",
   "metadata": {},
   "source": [
    "**Note**\n",
    "- In other programming language, it is common to use = as an assignment operator. In R, we can use both = and <- as assignment operators.\n",
    "\n",
    "- However, <- is preferred in most cases because the = operator can be forbidden in some context in R.\n",
    "- And there are times you must use the print() function to output code, for example when working with for loops"
   ]
  },
  {
   "cell_type": "code",
   "execution_count": 32,
   "id": "3b2cf1a2-fd0d-430d-9084-02f3c5451283",
   "metadata": {},
   "outputs": [
    {
     "name": "stdout",
     "output_type": "stream",
     "text": [
      "[1] 1\n",
      "[1] 2\n",
      "[1] 3\n",
      "[1] 4\n",
      "[1] 5\n",
      "[1] 6\n",
      "[1] 7\n",
      "[1] 8\n",
      "[1] 9\n",
      "[1] 10\n"
     ]
    }
   ],
   "source": [
    "for (x in 1:10) {\n",
    "  print(x)\n",
    "}"
   ]
  },
  {
   "cell_type": "markdown",
   "id": "a02fa30b-86bf-48ba-9fd6-bcdb01d9221f",
   "metadata": {},
   "source": [
    "### Concatenate Elements\n",
    "\n",
    "- You can also concatenate, or join, two or more elements, by using the paste() function.\r\n",
    "- \r\n",
    "To combine both text and a variable, R uses comma (,):"
   ]
  },
  {
   "cell_type": "code",
   "execution_count": 33,
   "id": "c5d6fb0b-05d4-467d-92b6-00b85915ddb0",
   "metadata": {},
   "outputs": [
    {
     "data": {
      "text/html": [
       "<span style=white-space:pre-wrap>'My name is  Shubham'</span>"
      ],
      "text/latex": [
       "'My name is  Shubham'"
      ],
      "text/markdown": [
       "<span style=white-space:pre-wrap>'My name is  Shubham'</span>"
      ],
      "text/plain": [
       "[1] \"My name is  Shubham\""
      ]
     },
     "metadata": {},
     "output_type": "display_data"
    }
   ],
   "source": [
    "name <- \"Shubham\"\n",
    "\n",
    "paste(\"My name is \", name)"
   ]
  },
  {
   "cell_type": "code",
   "execution_count": 34,
   "id": "944cc087-f293-4cda-8cdd-37bddc805256",
   "metadata": {},
   "outputs": [],
   "source": [
    "age <- 27\n",
    "course <- \"R and data analysis with R\""
   ]
  },
  {
   "cell_type": "code",
   "execution_count": 36,
   "id": "987e62d2-d691-4c0a-a395-6dbaaeefef48",
   "metadata": {},
   "outputs": [
    {
     "data": {
      "text/html": [
       "<span style=white-space:pre-wrap>'My name is  Shubham and I am  27 R and data analysis with R'</span>"
      ],
      "text/latex": [
       "'My name is  Shubham and I am  27 R and data analysis with R'"
      ],
      "text/markdown": [
       "<span style=white-space:pre-wrap>'My name is  Shubham and I am  27 R and data analysis with R'</span>"
      ],
      "text/plain": [
       "[1] \"My name is  Shubham and I am  27 R and data analysis with R\""
      ]
     },
     "metadata": {},
     "output_type": "display_data"
    }
   ],
   "source": [
    "paste(\"My name is \", name,\"and I am \",age, course)"
   ]
  },
  {
   "cell_type": "markdown",
   "id": "a5d2b6f0-5ac8-4a10-9c40-55e15376adbe",
   "metadata": {},
   "source": [
    "Note : There are some mathematical operator in R:  \n",
    "\n",
    "- Addition: `+` - Subtraction: `-` - Multiplication: `*` - Division: `/` - Exponentiation: `^` - Modulo: `%%` - Floor division: `%/%`\r\n",
    "\n"
   ]
  },
  {
   "cell_type": "code",
   "execution_count": 37,
   "id": "1e5c888a-ef81-46d8-8892-e8f82437a12f",
   "metadata": {},
   "outputs": [
    {
     "data": {
      "text/html": [
       "3"
      ],
      "text/latex": [
       "3"
      ],
      "text/markdown": [
       "3"
      ],
      "text/plain": [
       "[1] 3"
      ]
     },
     "metadata": {},
     "output_type": "display_data"
    }
   ],
   "source": [
    "15 %% 4"
   ]
  },
  {
   "cell_type": "code",
   "execution_count": 39,
   "id": "1a917233-7f37-432f-9456-a24aac64a89d",
   "metadata": {},
   "outputs": [
    {
     "data": {
      "text/html": [
       "3"
      ],
      "text/latex": [
       "3"
      ],
      "text/markdown": [
       "3"
      ],
      "text/plain": [
       "[1] 3"
      ]
     },
     "metadata": {},
     "output_type": "display_data"
    }
   ],
   "source": [
    "15 %/% 4"
   ]
  },
  {
   "cell_type": "markdown",
   "id": "65579adf-fa3e-4182-b760-914d66e706eb",
   "metadata": {},
   "source": [
    "### WAP that can print Simple interest for given  values of P, r, and t"
   ]
  },
  {
   "cell_type": "code",
   "execution_count": 40,
   "id": "906b7650-f806-4d0b-98d3-bcf86135f0d0",
   "metadata": {},
   "outputs": [],
   "source": [
    "p <- 1000\n",
    "r <- 7.5\n",
    "t <- 4"
   ]
  },
  {
   "cell_type": "code",
   "execution_count": 41,
   "id": "7c343438-d31a-4b41-bb30-ba9b423dad6c",
   "metadata": {},
   "outputs": [
    {
     "data": {
      "text/html": [
       "<span style=white-space:pre-wrap>'The SImple Interest :  300'</span>"
      ],
      "text/latex": [
       "'The SImple Interest :  300'"
      ],
      "text/markdown": [
       "<span style=white-space:pre-wrap>'The SImple Interest :  300'</span>"
      ],
      "text/plain": [
       "[1] \"The SImple Interest :  300\""
      ]
     },
     "metadata": {},
     "output_type": "display_data"
    }
   ],
   "source": [
    "SI <- p*r*t/100\n",
    "\n",
    "paste(\"The SImple Interest : \",SI)"
   ]
  },
  {
   "cell_type": "code",
   "execution_count": 42,
   "id": "27da5b06-167b-4f5d-9173-598d0f496f02",
   "metadata": {},
   "outputs": [
    {
     "data": {
      "text/html": [
       "'Shubham'"
      ],
      "text/latex": [
       "'Shubham'"
      ],
      "text/markdown": [
       "'Shubham'"
      ],
      "text/plain": [
       "[1] \"Shubham\""
      ]
     },
     "metadata": {},
     "output_type": "display_data"
    }
   ],
   "source": [
    "name"
   ]
  },
  {
   "cell_type": "code",
   "execution_count": 43,
   "id": "cc35ceae-f48a-4576-8aa7-4dc0fb237ddb",
   "metadata": {},
   "outputs": [
    {
     "data": {
      "text/html": [
       "27"
      ],
      "text/latex": [
       "27"
      ],
      "text/markdown": [
       "27"
      ],
      "text/plain": [
       "[1] 27"
      ]
     },
     "metadata": {},
     "output_type": "display_data"
    }
   ],
   "source": [
    "age"
   ]
  },
  {
   "cell_type": "code",
   "execution_count": 44,
   "id": "0c27700f-85f5-441c-b68c-cdc626a4ea53",
   "metadata": {},
   "outputs": [
    {
     "ename": "ERROR",
     "evalue": "Error in name + age: non-numeric argument to binary operator\n",
     "output_type": "error",
     "traceback": [
      "Error in name + age: non-numeric argument to binary operator\nTraceback:\n"
     ]
    }
   ],
   "source": [
    "name + age"
   ]
  },
  {
   "cell_type": "markdown",
   "id": "e0c9623d-0919-4372-a521-02160635f80b",
   "metadata": {},
   "source": [
    "**Multiple Variables**\n",
    "\r\n",
    "R allows you to assign the same value to multiple variables in one line:"
   ]
  },
  {
   "cell_type": "code",
   "execution_count": 45,
   "id": "ca1b771f-c254-40e3-b12f-cd7f55f92f82",
   "metadata": {},
   "outputs": [],
   "source": [
    "n1 <- n2 <- n3 <- 56"
   ]
  },
  {
   "cell_type": "code",
   "execution_count": 46,
   "id": "6a8b8b56-bfea-4af0-9392-f38acb1d0a18",
   "metadata": {},
   "outputs": [
    {
     "data": {
      "text/html": [
       "56"
      ],
      "text/latex": [
       "56"
      ],
      "text/markdown": [
       "56"
      ],
      "text/plain": [
       "[1] 56"
      ]
     },
     "metadata": {},
     "output_type": "display_data"
    }
   ],
   "source": [
    "n1"
   ]
  },
  {
   "cell_type": "code",
   "execution_count": 50,
   "id": "4bfc3629-6f22-4cc3-a795-d27f77f4fdaa",
   "metadata": {},
   "outputs": [
    {
     "data": {
      "text/html": [
       "'56 56 56'"
      ],
      "text/latex": [
       "'56 56 56'"
      ],
      "text/markdown": [
       "'56 56 56'"
      ],
      "text/plain": [
       "[1] \"56 56 56\""
      ]
     },
     "metadata": {},
     "output_type": "display_data"
    }
   ],
   "source": [
    "paste(n1, n2, n3)"
   ]
  },
  {
   "cell_type": "markdown",
   "id": "3b46d5e5-259e-481b-aac3-c16aa6dd9b9d",
   "metadata": {},
   "source": [
    "### Variable Names\r",
    " \n",
    "    - A variable can have a short name (like x and y) or a more descriptive name (age, carname, total_volume). Rules for R variables are:- \r",
    "   -  \n",
    "A variable name must start with a letter and can be a combination of letters, digits, period(.)    \r\n",
    "and underscore(_). If it starts with period(.), it cannot be followed by a digi- t    - .\r\n",
    "A variable name cannot start with a number or underscore - (    - _)\r\n",
    "Variable names are case-sensitive (age, Age and AGE are three different variab- l    - es)\r\n",
    "Reserved words cannot be used as variables (TRUE, FALSE, NULL, if...)"
   ]
  },
  {
   "cell_type": "raw",
   "id": "d8e27030-6439-434a-b3a0-d2d9eb36fc87",
   "metadata": {},
   "source": [
    "#Legal variable names:\n",
    "myvar <- \"John\"\n",
    "my_var <- \"John\"\n",
    "myVar <- \"John\"\n",
    "MYVAR <- \"John\"\n",
    "myvar2 <- \"John\"\n",
    ".myvar <- \"John\"\n",
    "\n",
    "# Illegal variable names:\n",
    "2myvar <- \"John\"\n",
    "my-var <- \"John\"\n",
    "my var <- \"John\"\n",
    "_my_var <- \"John\"\n",
    "my_v@ar <- \"John\"\n",
    "TRUE <- \"John\""
   ]
  },
  {
   "cell_type": "code",
   "execution_count": null,
   "id": "3e3a781f-ec49-41de-992e-b1e12a8ad6ca",
   "metadata": {},
   "outputs": [],
   "source": []
  }
 ],
 "metadata": {
  "kernelspec": {
   "display_name": "R",
   "language": "R",
   "name": "ir"
  },
  "language_info": {
   "codemirror_mode": "r",
   "file_extension": ".r",
   "mimetype": "text/x-r-source",
   "name": "R",
   "pygments_lexer": "r",
   "version": "3.6.1"
  }
 },
 "nbformat": 4,
 "nbformat_minor": 5
}
