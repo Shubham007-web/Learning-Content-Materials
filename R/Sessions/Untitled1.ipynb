{
 "cells": [
  {
   "cell_type": "code",
   "execution_count": 1,
   "id": "e81eb8df-0f2b-498a-8536-b57364732c66",
   "metadata": {},
   "outputs": [
    {
     "ename": "ERROR",
     "evalue": "Error in parse(text = x, srcfile = src): <text>:1:5: unexpected symbol\n1: for i\n        ^\n",
     "output_type": "error",
     "traceback": [
      "Error in parse(text = x, srcfile = src): <text>:1:5: unexpected symbol\n1: for i\n        ^\nTraceback:\n"
     ]
    }
   ],
   "source": [
    "for i in range(5):\n",
    "    print(i * \"x\")"
   ]
  },
  {
   "cell_type": "code",
   "execution_count": 2,
   "id": "5ca4411a-efad-47c7-9126-8b0b352c50ae",
   "metadata": {},
   "outputs": [
    {
     "data": {
      "text/html": [
       "'Hello programmer'"
      ],
      "text/latex": [
       "'Hello programmer'"
      ],
      "text/markdown": [
       "'Hello programmer'"
      ],
      "text/plain": [
       "[1] \"Hello programmer\""
      ]
     },
     "metadata": {},
     "output_type": "display_data"
    }
   ],
   "source": [
    "x <- \"Hello programmer\"\n",
    "x"
   ]
  },
  {
   "cell_type": "code",
   "execution_count": 3,
   "id": "19a67631-856c-4985-8036-e35684e925c0",
   "metadata": {},
   "outputs": [
    {
     "data": {
      "text/html": [
       "16"
      ],
      "text/latex": [
       "16"
      ],
      "text/markdown": [
       "16"
      ],
      "text/plain": [
       "[1] 16"
      ]
     },
     "metadata": {},
     "output_type": "display_data"
    }
   ],
   "source": [
    "nchar(x)"
   ]
  },
  {
   "cell_type": "code",
   "execution_count": 4,
   "id": "9aedf93b-9f51-4d08-a5f1-e56149080892",
   "metadata": {},
   "outputs": [
    {
     "data": {
      "text/html": [
       "'character'"
      ],
      "text/latex": [
       "'character'"
      ],
      "text/markdown": [
       "'character'"
      ],
      "text/plain": [
       "[1] \"character\""
      ]
     },
     "metadata": {},
     "output_type": "display_data"
    }
   ],
   "source": [
    "class(x)"
   ]
  },
  {
   "cell_type": "code",
   "execution_count": null,
   "id": "6dc2ed57-072c-4cc3-97e4-c4a95d80612f",
   "metadata": {},
   "outputs": [],
   "source": [
    "# x^2 + 5x + 6 = 0 , roots\n",
    "\n",
    "a "
   ]
  },
  {
   "cell_type": "code",
   "execution_count": 5,
   "id": "92c548dd-0232-4c12-8e94-d51c6830abfc",
   "metadata": {},
   "outputs": [
    {
     "data": {
      "text/html": [
       "16"
      ],
      "text/latex": [
       "16"
      ],
      "text/markdown": [
       "16"
      ],
      "text/plain": [
       "[1] 16"
      ]
     },
     "metadata": {},
     "output_type": "display_data"
    }
   ],
   "source": [
    "4 **2"
   ]
  },
  {
   "cell_type": "code",
   "execution_count": 6,
   "id": "3383ee9b-6562-4fa5-a5c4-c9467634b3f2",
   "metadata": {},
   "outputs": [
    {
     "data": {
      "text/html": [
       "16"
      ],
      "text/latex": [
       "16"
      ],
      "text/markdown": [
       "16"
      ],
      "text/plain": [
       "[1] 16"
      ]
     },
     "metadata": {},
     "output_type": "display_data"
    }
   ],
   "source": [
    "4 ^ 2"
   ]
  },
  {
   "cell_type": "code",
   "execution_count": 7,
   "id": "1bd80d4a-f1cb-4832-ad9a-55eeffb78515",
   "metadata": {},
   "outputs": [
    {
     "data": {
      "text/html": [
       "4"
      ],
      "text/latex": [
       "4"
      ],
      "text/markdown": [
       "4"
      ],
      "text/plain": [
       "[1] 4"
      ]
     },
     "metadata": {},
     "output_type": "display_data"
    }
   ],
   "source": [
    "sqrt(16)"
   ]
  },
  {
   "cell_type": "code",
   "execution_count": 8,
   "id": "a6d3c209-934b-4201-9821-29db4afb7489",
   "metadata": {},
   "outputs": [],
   "source": [
    "a <- 1\n",
    "b <- 5\n",
    "c = 6"
   ]
  },
  {
   "cell_type": "code",
   "execution_count": 9,
   "id": "a482fde9-d1d0-4e1e-a14d-ce97516a4f1e",
   "metadata": {},
   "outputs": [
    {
     "data": {
      "text/html": [
       "-4"
      ],
      "text/latex": [
       "-4"
      ],
      "text/markdown": [
       "-4"
      ],
      "text/plain": [
       "[1] -4"
      ]
     },
     "metadata": {},
     "output_type": "display_data"
    }
   ],
   "source": [
    "x1 = -b + sqrt( b^2 - 4 * a * c)\n",
    "x1"
   ]
  },
  {
   "cell_type": "code",
   "execution_count": 10,
   "id": "243628d3-9b83-4dd0-96f6-de7e6b15d3eb",
   "metadata": {},
   "outputs": [],
   "source": [
    "x1 = -b + sqrt( b^2 - 4 * a * c)\n"
   ]
  },
  {
   "cell_type": "code",
   "execution_count": null,
   "id": "3f3a1719-df6d-4fd7-ab2b-2562dedbaa5f",
   "metadata": {},
   "outputs": [],
   "source": []
  }
 ],
 "metadata": {
  "kernelspec": {
   "display_name": "R",
   "language": "R",
   "name": "ir"
  },
  "language_info": {
   "codemirror_mode": "r",
   "file_extension": ".r",
   "mimetype": "text/x-r-source",
   "name": "R",
   "pygments_lexer": "r",
   "version": "3.6.1"
  }
 },
 "nbformat": 4,
 "nbformat_minor": 5
}
