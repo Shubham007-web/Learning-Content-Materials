{
 "cells": [
  {
   "cell_type": "markdown",
   "id": "a968609b-ad94-40e3-82c7-8cd85e0f9ca9",
   "metadata": {},
   "source": [
    "##  Introduction to R and Basic Data Types\n",
    "1. Installing R and RStudio\n",
    "   - 1.1 Downloading R and RStudio\n",
    "   - 1.2 Installing R and RStudio\n",
    "   - 1.3 Overview of RStudio interface\n",
    "\n",
    "2. Basic R Syntax\n",
    "   - 2.1 Comments and basic arithmetic operations\n",
    "   - 2.2 Variables and assignment\n",
    "\n",
    "\n",
    "3. Data Types and Structures\n",
    "   - 3.1 Vectors\n",
    "   - 3.2 Lists\n",
    "   - 3.3 Matrices\n",
    "   - 3.4 Data frames\n",
    "   - 3.5 Factors\n",
    "   - 3.6 Basic functions for data types (`length`, `class`, `str`, `summary`)\n",
    "\n",
    "4. Practical Exercise:\n",
    "   - 4.1 Create vectors, lists, and data frames\n",
    "   - 4.2 Perform basic operations on these data structures"
   ]
  },
  {
   "cell_type": "markdown",
   "id": "b0637dec-b1b2-49e1-bc1c-a5d68961f015",
   "metadata": {},
   "source": [
    "# Basic R Syntax\n",
    "### 2.1 Comments and basic arithmetic operations\n",
    "Comments are used in R to annotate code and provide explanations. They are preceded by the # symbol. Here's an example:"
   ]
  },
  {
   "cell_type": "code",
   "execution_count": 1,
   "id": "b9be2611-4304-4025-af46-b828b2bc62f2",
   "metadata": {},
   "outputs": [
    {
     "data": {
      "text/html": [
       "3"
      ],
      "text/latex": [
       "3"
      ],
      "text/markdown": [
       "3"
      ],
      "text/plain": [
       "[1] 3"
      ]
     },
     "metadata": {},
     "output_type": "display_data"
    },
    {
     "data": {
      "text/html": [
       "2"
      ],
      "text/latex": [
       "2"
      ],
      "text/markdown": [
       "2"
      ],
      "text/plain": [
       "[1] 2"
      ]
     },
     "metadata": {},
     "output_type": "display_data"
    },
    {
     "data": {
      "text/html": [
       "24"
      ],
      "text/latex": [
       "24"
      ],
      "text/markdown": [
       "24"
      ],
      "text/plain": [
       "[1] 24"
      ]
     },
     "metadata": {},
     "output_type": "display_data"
    },
    {
     "data": {
      "text/html": [
       "4"
      ],
      "text/latex": [
       "4"
      ],
      "text/markdown": [
       "4"
      ],
      "text/plain": [
       "[1] 4"
      ]
     },
     "metadata": {},
     "output_type": "display_data"
    },
    {
     "data": {
      "text/html": [
       "9"
      ],
      "text/latex": [
       "9"
      ],
      "text/markdown": [
       "9"
      ],
      "text/plain": [
       "[1] 9"
      ]
     },
     "metadata": {},
     "output_type": "display_data"
    }
   ],
   "source": [
    "# This is a comment in R\n",
    "# It will not be executed when you run the code\n",
    "\n",
    "# Basic arithmetic operations\n",
    "1 + 2   # Addition\n",
    "5 - 3   # Subtraction\n",
    "4 * 6   # Multiplication\n",
    "8 / 2   # Division\n",
    "3^2     # Exponentiation\n"
   ]
  },
  {
   "cell_type": "markdown",
   "id": "50a48ef5-a717-4c3c-b551-8101e44e22a0",
   "metadata": {},
   "source": [
    "### 2.2 Variables and assignment\n",
    "Variables are used to store data values in R. You can assign values to variables using the assignment operator <-. Here's how:"
   ]
  },
  {
   "cell_type": "code",
   "execution_count": 2,
   "id": "c5af83f3-bc3f-4afb-a797-f46e054ca4e5",
   "metadata": {},
   "outputs": [
    {
     "data": {
      "text/html": [
       "15"
      ],
      "text/latex": [
       "15"
      ],
      "text/markdown": [
       "15"
      ],
      "text/plain": [
       "[1] 15"
      ]
     },
     "metadata": {},
     "output_type": "display_data"
    },
    {
     "data": {
      "text/html": [
       "50"
      ],
      "text/latex": [
       "50"
      ],
      "text/markdown": [
       "50"
      ],
      "text/plain": [
       "[1] 50"
      ]
     },
     "metadata": {},
     "output_type": "display_data"
    }
   ],
   "source": [
    "# Assign values to variables\n",
    "x <- 10\n",
    "y <- 5\n",
    "\n",
    "# Perform arithmetic operations with variables\n",
    "sum <- x + y\n",
    "product <- x * y\n",
    "\n",
    "# Print the results\n",
    "sum\n",
    "product\n"
   ]
  },
  {
   "cell_type": "markdown",
   "id": "fc3bea99-69d6-48b8-983a-83f13dfbba46",
   "metadata": {},
   "source": [
    "# 3. Data Types and Structures\n",
    "## 3.1 Vectors\n",
    "Vectors are one-dimensional arrays that can hold numeric, character, or logical data. Here's how to create and work with vectors:"
   ]
  },
  {
   "cell_type": "code",
   "execution_count": 3,
   "id": "101e8301-434b-44d9-b6f9-35e5ac4ed85c",
   "metadata": {},
   "outputs": [
    {
     "data": {
      "text/html": [
       "1"
      ],
      "text/latex": [
       "1"
      ],
      "text/markdown": [
       "1"
      ],
      "text/plain": [
       "[1] 1"
      ]
     },
     "metadata": {},
     "output_type": "display_data"
    },
    {
     "data": {
      "text/html": [
       "'banana'"
      ],
      "text/latex": [
       "'banana'"
      ],
      "text/markdown": [
       "'banana'"
      ],
      "text/plain": [
       "[1] \"banana\""
      ]
     },
     "metadata": {},
     "output_type": "display_data"
    }
   ],
   "source": [
    "# Create a numeric vector\n",
    "numeric_vector <- c(1, 2, 3, 4, 5)\n",
    "\n",
    "# Create a character vector\n",
    "character_vector <- c(\"apple\", \"banana\", \"orange\")\n",
    "\n",
    "# Create a logical vector\n",
    "logical_vector <- c(TRUE, FALSE, TRUE)\n",
    "\n",
    "# Access elements of a vector\n",
    "numeric_vector[1]   # Access the first element\n",
    "character_vector[2] # Access the second element\n"
   ]
  },
  {
   "cell_type": "markdown",
   "id": "cfcbe4c1-55c5-4ea6-aa50-c3cf59220645",
   "metadata": {},
   "source": [
    "### 3.2 Lists\n",
    "Lists are collections of objects that can be of different types. They are created using the list() function:"
   ]
  },
  {
   "cell_type": "code",
   "execution_count": 4,
   "id": "a940a5d7-c8fe-4203-a106-2e9825045e63",
   "metadata": {},
   "outputs": [
    {
     "data": {
      "text/html": [
       "'John'"
      ],
      "text/latex": [
       "'John'"
      ],
      "text/markdown": [
       "'John'"
      ],
      "text/plain": [
       "[1] \"John\""
      ]
     },
     "metadata": {},
     "output_type": "display_data"
    },
    {
     "data": {
      "text/html": [
       "30"
      ],
      "text/latex": [
       "30"
      ],
      "text/markdown": [
       "30"
      ],
      "text/plain": [
       "[1] 30"
      ]
     },
     "metadata": {},
     "output_type": "display_data"
    }
   ],
   "source": [
    "# Create a list\n",
    "my_list <- list(name = \"John\", age = 30, married = TRUE)\n",
    "\n",
    "# Access elements of a list\n",
    "my_list$name      # Access the element named \"name\"\n",
    "my_list[[2]]      # Access the second element (age)\n"
   ]
  },
  {
   "cell_type": "code",
   "execution_count": 5,
   "id": "a40869dc-51c6-435a-9efc-abd12c68ec32",
   "metadata": {},
   "outputs": [
    {
     "data": {
      "text/html": [
       "<dl>\n",
       "\t<dt>$name</dt>\n",
       "\t\t<dd>'John'</dd>\n",
       "\t<dt>$age</dt>\n",
       "\t\t<dd>30</dd>\n",
       "\t<dt>$married</dt>\n",
       "\t\t<dd>TRUE</dd>\n",
       "</dl>\n"
      ],
      "text/latex": [
       "\\begin{description}\n",
       "\\item[\\$name] 'John'\n",
       "\\item[\\$age] 30\n",
       "\\item[\\$married] TRUE\n",
       "\\end{description}\n"
      ],
      "text/markdown": [
       "$name\n",
       ":   'John'\n",
       "$age\n",
       ":   30\n",
       "$married\n",
       ":   TRUE\n",
       "\n",
       "\n"
      ],
      "text/plain": [
       "$name\n",
       "[1] \"John\"\n",
       "\n",
       "$age\n",
       "[1] 30\n",
       "\n",
       "$married\n",
       "[1] TRUE\n"
      ]
     },
     "metadata": {},
     "output_type": "display_data"
    }
   ],
   "source": [
    "my_list"
   ]
  },
  {
   "cell_type": "code",
   "execution_count": 8,
   "id": "2bff9882-b986-4b42-b95a-7194bbec0181",
   "metadata": {},
   "outputs": [
    {
     "data": {
      "text/html": [
       "'list'"
      ],
      "text/latex": [
       "'list'"
      ],
      "text/markdown": [
       "'list'"
      ],
      "text/plain": [
       "[1] \"list\""
      ]
     },
     "metadata": {},
     "output_type": "display_data"
    }
   ],
   "source": [
    "typeof(my_list)"
   ]
  },
  {
   "cell_type": "code",
   "execution_count": 9,
   "id": "429714b8-f6c1-41b6-8e99-242646ce7cdb",
   "metadata": {},
   "outputs": [
    {
     "data": {
      "text/html": [
       "'list'"
      ],
      "text/latex": [
       "'list'"
      ],
      "text/markdown": [
       "'list'"
      ],
      "text/plain": [
       "[1] \"list\""
      ]
     },
     "metadata": {},
     "output_type": "display_data"
    }
   ],
   "source": [
    "class(my_list)"
   ]
  },
  {
   "cell_type": "code",
   "execution_count": 10,
   "id": "9a48e480-84ab-4384-b08b-c94fde99220f",
   "metadata": {},
   "outputs": [
    {
     "data": {
      "text/html": [
       "'list'"
      ],
      "text/latex": [
       "'list'"
      ],
      "text/markdown": [
       "'list'"
      ],
      "text/plain": [
       "[1] \"list\""
      ]
     },
     "metadata": {},
     "output_type": "display_data"
    }
   ],
   "source": [
    "mode(my_list)"
   ]
  },
  {
   "cell_type": "markdown",
   "id": "ad515287-b7d7-4e8e-b78c-6d2ab0d8ec8f",
   "metadata": {},
   "source": [
    "### 3.3 Matrices\n",
    "Matrices are two-dimensional arrays with rows and columns. They are created using the matrix() function:"
   ]
  },
  {
   "cell_type": "code",
   "execution_count": 11,
   "id": "11535db7-f4be-4e2a-a421-baa1530a5656",
   "metadata": {},
   "outputs": [
    {
     "data": {
      "text/html": [
       "4"
      ],
      "text/latex": [
       "4"
      ],
      "text/markdown": [
       "4"
      ],
      "text/plain": [
       "[1] 4"
      ]
     },
     "metadata": {},
     "output_type": "display_data"
    }
   ],
   "source": [
    "# Create a matrix\n",
    "my_matrix <- matrix(1:9, nrow = 3, ncol = 3)\n",
    "\n",
    "# Access elements of a matrix\n",
    "my_matrix[1, 2]   # Access the element in the first row and second column\n"
   ]
  },
  {
   "cell_type": "code",
   "execution_count": 12,
   "id": "c566f002-1582-482c-8290-7c9f34d00687",
   "metadata": {},
   "outputs": [
    {
     "data": {
      "text/html": [
       "<table>\n",
       "<tbody>\n",
       "\t<tr><td>1</td><td>4</td><td>7</td></tr>\n",
       "\t<tr><td>2</td><td>5</td><td>8</td></tr>\n",
       "\t<tr><td>3</td><td>6</td><td>9</td></tr>\n",
       "</tbody>\n",
       "</table>\n"
      ],
      "text/latex": [
       "\\begin{tabular}{lll}\n",
       "\t 1 & 4 & 7\\\\\n",
       "\t 2 & 5 & 8\\\\\n",
       "\t 3 & 6 & 9\\\\\n",
       "\\end{tabular}\n"
      ],
      "text/markdown": [
       "\n",
       "| 1 | 4 | 7 |\n",
       "| 2 | 5 | 8 |\n",
       "| 3 | 6 | 9 |\n",
       "\n"
      ],
      "text/plain": [
       "     [,1] [,2] [,3]\n",
       "[1,] 1    4    7   \n",
       "[2,] 2    5    8   \n",
       "[3,] 3    6    9   "
      ]
     },
     "metadata": {},
     "output_type": "display_data"
    }
   ],
   "source": [
    "my_matrix"
   ]
  },
  {
   "cell_type": "markdown",
   "id": "95f38d8f-1473-4a4d-a2da-c2a7cd36b574",
   "metadata": {},
   "source": [
    "### 3.4 Data frames\n",
    "Data frames are tables where each column can be of a different data type. They are commonly used for storing datasets. Here's how to create and work with data frames:\n",
    "\n",
    "r\n"
   ]
  },
  {
   "cell_type": "code",
   "execution_count": 13,
   "id": "5d6219e5-e6ec-4972-995b-5bc1fd191b27",
   "metadata": {},
   "outputs": [
    {
     "data": {
      "text/html": [
       "<ol class=list-inline>\n",
       "\t<li>John</li>\n",
       "\t<li>Jane</li>\n",
       "\t<li>Jim</li>\n",
       "</ol>\n",
       "\n",
       "<details>\n",
       "\t<summary style=display:list-item;cursor:pointer>\n",
       "\t\t<strong>Levels</strong>:\n",
       "\t</summary>\n",
       "\t<ol class=list-inline>\n",
       "\t\t<li>'Jane'</li>\n",
       "\t\t<li>'Jim'</li>\n",
       "\t\t<li>'John'</li>\n",
       "\t</ol>\n",
       "</details>"
      ],
      "text/latex": [
       "\\begin{enumerate*}\n",
       "\\item John\n",
       "\\item Jane\n",
       "\\item Jim\n",
       "\\end{enumerate*}\n",
       "\n",
       "\\emph{Levels}: \\begin{enumerate*}\n",
       "\\item 'Jane'\n",
       "\\item 'Jim'\n",
       "\\item 'John'\n",
       "\\end{enumerate*}\n"
      ],
      "text/markdown": [
       "1. John\n",
       "2. Jane\n",
       "3. Jim\n",
       "\n",
       "\n",
       "\n",
       "**Levels**: 1. 'Jane'\n",
       "2. 'Jim'\n",
       "3. 'John'\n",
       "\n",
       "\n"
      ],
      "text/plain": [
       "[1] John Jane Jim \n",
       "Levels: Jane Jim John"
      ]
     },
     "metadata": {},
     "output_type": "display_data"
    },
    {
     "data": {
      "text/html": [
       "<ol class=list-inline>\n",
       "\t<li>30</li>\n",
       "\t<li>25</li>\n",
       "\t<li>35</li>\n",
       "</ol>\n"
      ],
      "text/latex": [
       "\\begin{enumerate*}\n",
       "\\item 30\n",
       "\\item 25\n",
       "\\item 35\n",
       "\\end{enumerate*}\n"
      ],
      "text/markdown": [
       "1. 30\n",
       "2. 25\n",
       "3. 35\n",
       "\n",
       "\n"
      ],
      "text/plain": [
       "[1] 30 25 35"
      ]
     },
     "metadata": {},
     "output_type": "display_data"
    }
   ],
   "source": [
    "# Create a data frame\n",
    "my_df <- data.frame(name = c(\"John\", \"Jane\", \"Jim\"),\n",
    "                    age = c(30, 25, 35),\n",
    "                    married = c(TRUE, FALSE, TRUE))\n",
    "\n",
    "# Access columns of a data frame\n",
    "my_df$name      # Access the \"name\" column\n",
    "my_df$age       # Access the \"age\" column\n"
   ]
  },
  {
   "cell_type": "code",
   "execution_count": 14,
   "id": "d758deb0-dfce-4515-aabb-af2e7e0aceda",
   "metadata": {},
   "outputs": [
    {
     "data": {
      "text/html": [
       "<table>\n",
       "<thead><tr><th scope=col>name</th><th scope=col>age</th><th scope=col>married</th></tr></thead>\n",
       "<tbody>\n",
       "\t<tr><td>John </td><td>30   </td><td> TRUE</td></tr>\n",
       "\t<tr><td>Jane </td><td>25   </td><td>FALSE</td></tr>\n",
       "\t<tr><td>Jim  </td><td>35   </td><td> TRUE</td></tr>\n",
       "</tbody>\n",
       "</table>\n"
      ],
      "text/latex": [
       "\\begin{tabular}{r|lll}\n",
       " name & age & married\\\\\n",
       "\\hline\n",
       "\t John  & 30    &  TRUE\\\\\n",
       "\t Jane  & 25    & FALSE\\\\\n",
       "\t Jim   & 35    &  TRUE\\\\\n",
       "\\end{tabular}\n"
      ],
      "text/markdown": [
       "\n",
       "| name | age | married |\n",
       "|---|---|---|\n",
       "| John  | 30    |  TRUE |\n",
       "| Jane  | 25    | FALSE |\n",
       "| Jim   | 35    |  TRUE |\n",
       "\n"
      ],
      "text/plain": [
       "  name age married\n",
       "1 John 30   TRUE  \n",
       "2 Jane 25  FALSE  \n",
       "3 Jim  35   TRUE  "
      ]
     },
     "metadata": {},
     "output_type": "display_data"
    }
   ],
   "source": [
    "my_df"
   ]
  },
  {
   "cell_type": "markdown",
   "id": "ac46be61-10ae-4b89-8179-c2d365f50962",
   "metadata": {},
   "source": [
    "### 3.5 Factors\n",
    "Factors are used to represent categorical data in R. They are created using the factor() function:"
   ]
  },
  {
   "cell_type": "code",
   "execution_count": 15,
   "id": "adf1f192-48cd-45f3-afbc-a4f589894455",
   "metadata": {},
   "outputs": [
    {
     "data": {
      "text/html": [
       "<ol class=list-inline>\n",
       "\t<li>'high'</li>\n",
       "\t<li>'low'</li>\n",
       "\t<li>'medium'</li>\n",
       "</ol>\n"
      ],
      "text/latex": [
       "\\begin{enumerate*}\n",
       "\\item 'high'\n",
       "\\item 'low'\n",
       "\\item 'medium'\n",
       "\\end{enumerate*}\n"
      ],
      "text/markdown": [
       "1. 'high'\n",
       "2. 'low'\n",
       "3. 'medium'\n",
       "\n",
       "\n"
      ],
      "text/plain": [
       "[1] \"high\"   \"low\"    \"medium\""
      ]
     },
     "metadata": {},
     "output_type": "display_data"
    }
   ],
   "source": [
    "# Create a factor\n",
    "my_factor <- factor(c(\"low\", \"medium\", \"high\", \"low\"))\n",
    "\n",
    "# Display levels of the factor\n",
    "levels(my_factor)\n"
   ]
  },
  {
   "cell_type": "code",
   "execution_count": 18,
   "id": "2688372d-9d6a-41f1-a2e2-06e2359a6026",
   "metadata": {},
   "outputs": [
    {
     "data": {
      "text/html": [
       "<ol class=list-inline>\n",
       "\t<li>low</li>\n",
       "\t<li>medium</li>\n",
       "\t<li>high</li>\n",
       "\t<li>low</li>\n",
       "</ol>\n",
       "\n",
       "<details>\n",
       "\t<summary style=display:list-item;cursor:pointer>\n",
       "\t\t<strong>Levels</strong>:\n",
       "\t</summary>\n",
       "\t<ol class=list-inline>\n",
       "\t\t<li>'high'</li>\n",
       "\t\t<li>'low'</li>\n",
       "\t\t<li>'medium'</li>\n",
       "\t</ol>\n",
       "</details>"
      ],
      "text/latex": [
       "\\begin{enumerate*}\n",
       "\\item low\n",
       "\\item medium\n",
       "\\item high\n",
       "\\item low\n",
       "\\end{enumerate*}\n",
       "\n",
       "\\emph{Levels}: \\begin{enumerate*}\n",
       "\\item 'high'\n",
       "\\item 'low'\n",
       "\\item 'medium'\n",
       "\\end{enumerate*}\n"
      ],
      "text/markdown": [
       "1. low\n",
       "2. medium\n",
       "3. high\n",
       "4. low\n",
       "\n",
       "\n",
       "\n",
       "**Levels**: 1. 'high'\n",
       "2. 'low'\n",
       "3. 'medium'\n",
       "\n",
       "\n"
      ],
      "text/plain": [
       "[1] low    medium high   low   \n",
       "Levels: high low medium"
      ]
     },
     "metadata": {},
     "output_type": "display_data"
    }
   ],
   "source": [
    "# levels(\"Hello\")\n",
    "my_factor"
   ]
  },
  {
   "cell_type": "markdown",
   "id": "c238c544-73a5-4192-a22f-f7d2f6e43d76",
   "metadata": {},
   "source": [
    "### 3.6 Basic functions for data types (length, class, str, summary)\n",
    "R provides several functions for working with data types:"
   ]
  },
  {
   "cell_type": "code",
   "execution_count": 26,
   "id": "6591f2b6-59d3-4acb-98fd-6210f6a5eaea",
   "metadata": {},
   "outputs": [
    {
     "name": "stdout",
     "output_type": "stream",
     "text": [
      "[1] 1 2 3 4 5\n"
     ]
    }
   ],
   "source": [
    "print(numeric_vector)"
   ]
  },
  {
   "cell_type": "code",
   "execution_count": 23,
   "id": "ff107462-228a-431d-b5a7-2e7258edbcd8",
   "metadata": {},
   "outputs": [
    {
     "data": {
      "text/html": [
       "5"
      ],
      "text/latex": [
       "5"
      ],
      "text/markdown": [
       "5"
      ],
      "text/plain": [
       "[1] 5"
      ]
     },
     "metadata": {},
     "output_type": "display_data"
    }
   ],
   "source": [
    "# Length of a vector\n",
    "length(numeric_vector)\n",
    "\n",
    "\n"
   ]
  },
  {
   "cell_type": "code",
   "execution_count": 24,
   "id": "2118eb13-f815-4895-af42-3f3db8163761",
   "metadata": {},
   "outputs": [
    {
     "data": {
      "text/html": [
       "'list'"
      ],
      "text/latex": [
       "'list'"
      ],
      "text/markdown": [
       "'list'"
      ],
      "text/plain": [
       "[1] \"list\""
      ]
     },
     "metadata": {},
     "output_type": "display_data"
    }
   ],
   "source": [
    "# Class of an object\n",
    "class(my_list)\n"
   ]
  },
  {
   "cell_type": "code",
   "execution_count": 27,
   "id": "3632e2d6-2fea-4e07-bf29-dfc1c9b71dcd",
   "metadata": {},
   "outputs": [
    {
     "name": "stdout",
     "output_type": "stream",
     "text": [
      "'data.frame':\t3 obs. of  3 variables:\n",
      " $ name   : Factor w/ 3 levels \"Jane\",\"Jim\",\"John\": 3 1 2\n",
      " $ age    : num  30 25 35\n",
      " $ married: logi  TRUE FALSE TRUE\n",
      "NULL\n"
     ]
    }
   ],
   "source": [
    "# Structure of an object\n",
    "print(str(my_df))"
   ]
  },
  {
   "cell_type": "code",
   "execution_count": 28,
   "id": "a0a44b10-bd5c-4956-a1ac-8b794bd364be",
   "metadata": {},
   "outputs": [
    {
     "name": "stdout",
     "output_type": "stream",
     "text": [
      "   Min. 1st Qu.  Median    Mean 3rd Qu.    Max. \n",
      "      1       2       3       3       4       5 \n"
     ]
    }
   ],
   "source": [
    "# Summary statistics of a vector\n",
    "print(summary(numeric_vector))"
   ]
  },
  {
   "cell_type": "markdown",
   "id": "de00fb8a-08b3-45dd-95e3-d33b8d3486fd",
   "metadata": {},
   "source": [
    "## 4. Practical Exercise\n",
    "### 4.1 Create vectors, lists, and data frames\n",
    "Now it's time for a hands-on exercise. Create the following data structures:\n",
    "\n",
    "- A numeric vector containing numbers from 1 to 5.\n",
    "- A list with three elements: your name (as a character), your age (as a numeric value), and your marital status (as a logical value).\n",
    "- A data frame with the following columns: \"Name\" (character), \"Age\" (numeric), \"Married\" (logical). Populate it with information about three fictional people.\n",
    "### 4.2 Perform basic operations on these data structures\n",
    "- Once you have created the data structures, perform the following operations:\n",
    "\n",
    "- Calculate the sum of the numeric vector.\n",
    "- Access the second element of the list.\n",
    "- Print the data frame and inspect its structure using the str() function.\n",
    "- Generate summary statistics for the numeric vector using the summary() function."
   ]
  },
  {
   "cell_type": "code",
   "execution_count": 29,
   "id": "e07c628a-0793-4e67-8c4d-850d11ba6e4d",
   "metadata": {},
   "outputs": [
    {
     "name": "stdout",
     "output_type": "stream",
     "text": [
      "[1] 1 2 3 4 5\n"
     ]
    }
   ],
   "source": [
    "# Create a numeric vector\n",
    "numeric_vector <- 1:5\n",
    "print(numeric_vector)"
   ]
  },
  {
   "cell_type": "code",
   "execution_count": 30,
   "id": "1cb92243-a7b2-47c4-af34-8edf4d18ae17",
   "metadata": {},
   "outputs": [
    {
     "name": "stdout",
     "output_type": "stream",
     "text": [
      "$name\n",
      "[1] \"John Doe\"\n",
      "\n",
      "$age\n",
      "[1] 30\n",
      "\n",
      "$married\n",
      "[1] TRUE\n",
      "\n"
     ]
    }
   ],
   "source": [
    "# Create a list\n",
    "my_list <- list(name = \"John Doe\", age = 30, married = TRUE)\n",
    "print(my_list)"
   ]
  },
  {
   "cell_type": "code",
   "execution_count": 31,
   "id": "487d23d5-ba1a-4916-bc64-d94d4f247254",
   "metadata": {},
   "outputs": [
    {
     "name": "stdout",
     "output_type": "stream",
     "text": [
      "     Name Age Married\n",
      "1   Alice  25   FALSE\n",
      "2     Bob  35    TRUE\n",
      "3 Charlie  40    TRUE\n"
     ]
    }
   ],
   "source": [
    "# Create a data frame\n",
    "people_df <- data.frame(Name = c(\"Alice\", \"Bob\", \"Charlie\"),\n",
    "                        Age = c(25, 35, 40),\n",
    "                        Married = c(FALSE, TRUE, TRUE))\n",
    "print(people_df)\n"
   ]
  },
  {
   "cell_type": "code",
   "execution_count": 32,
   "id": "2f0b5e57-d533-4f4a-b9d6-51050398d287",
   "metadata": {},
   "outputs": [
    {
     "data": {
      "text/html": [
       "<table>\n",
       "<thead><tr><th scope=col>Name</th><th scope=col>Age</th><th scope=col>Married</th></tr></thead>\n",
       "<tbody>\n",
       "\t<tr><td>Alice  </td><td>25     </td><td>FALSE  </td></tr>\n",
       "\t<tr><td>Bob    </td><td>35     </td><td> TRUE  </td></tr>\n",
       "\t<tr><td>Charlie</td><td>40     </td><td> TRUE  </td></tr>\n",
       "</tbody>\n",
       "</table>\n"
      ],
      "text/latex": [
       "\\begin{tabular}{r|lll}\n",
       " Name & Age & Married\\\\\n",
       "\\hline\n",
       "\t Alice   & 25      & FALSE  \\\\\n",
       "\t Bob     & 35      &  TRUE  \\\\\n",
       "\t Charlie & 40      &  TRUE  \\\\\n",
       "\\end{tabular}\n"
      ],
      "text/markdown": [
       "\n",
       "| Name | Age | Married |\n",
       "|---|---|---|\n",
       "| Alice   | 25      | FALSE   |\n",
       "| Bob     | 35      |  TRUE   |\n",
       "| Charlie | 40      |  TRUE   |\n",
       "\n"
      ],
      "text/plain": [
       "  Name    Age Married\n",
       "1 Alice   25  FALSE  \n",
       "2 Bob     35   TRUE  \n",
       "3 Charlie 40   TRUE  "
      ]
     },
     "metadata": {},
     "output_type": "display_data"
    }
   ],
   "source": [
    "people_df"
   ]
  },
  {
   "cell_type": "code",
   "execution_count": 33,
   "id": "4f7fe559-58c7-448c-a274-248d6e5f8996",
   "metadata": {},
   "outputs": [
    {
     "name": "stdout",
     "output_type": "stream",
     "text": [
      "[1] 15\n"
     ]
    }
   ],
   "source": [
    "# Calculate the sum of the numeric vector\n",
    "total <- sum(numeric_vector)\n",
    "print(total)\n"
   ]
  },
  {
   "cell_type": "code",
   "execution_count": 34,
   "id": "7d29f95d-bdfc-4b40-ab44-6bf792310129",
   "metadata": {},
   "outputs": [
    {
     "name": "stdout",
     "output_type": "stream",
     "text": [
      "[1] 30\n"
     ]
    }
   ],
   "source": [
    "# Access the second element of the list\n",
    "second_element <- my_list[[2]]\n",
    "print(second_element)\n"
   ]
  },
  {
   "cell_type": "code",
   "execution_count": 38,
   "id": "5fd74945-ff8d-4539-8d0c-f223dfe6abe1",
   "metadata": {},
   "outputs": [
    {
     "data": {
      "text/html": [
       "<table>\n",
       "<thead><tr><th scope=col>Name</th><th scope=col>Age</th><th scope=col>Married</th></tr></thead>\n",
       "<tbody>\n",
       "\t<tr><td>Alice  </td><td>25     </td><td>FALSE  </td></tr>\n",
       "\t<tr><td>Bob    </td><td>35     </td><td> TRUE  </td></tr>\n",
       "\t<tr><td>Charlie</td><td>40     </td><td> TRUE  </td></tr>\n",
       "</tbody>\n",
       "</table>\n"
      ],
      "text/latex": [
       "\\begin{tabular}{r|lll}\n",
       " Name & Age & Married\\\\\n",
       "\\hline\n",
       "\t Alice   & 25      & FALSE  \\\\\n",
       "\t Bob     & 35      &  TRUE  \\\\\n",
       "\t Charlie & 40      &  TRUE  \\\\\n",
       "\\end{tabular}\n"
      ],
      "text/markdown": [
       "\n",
       "| Name | Age | Married |\n",
       "|---|---|---|\n",
       "| Alice   | 25      | FALSE   |\n",
       "| Bob     | 35      |  TRUE   |\n",
       "| Charlie | 40      |  TRUE   |\n",
       "\n"
      ],
      "text/plain": [
       "  Name    Age Married\n",
       "1 Alice   25  FALSE  \n",
       "2 Bob     35   TRUE  \n",
       "3 Charlie 40   TRUE  "
      ]
     },
     "metadata": {},
     "output_type": "display_data"
    }
   ],
   "source": [
    "people_df"
   ]
  },
  {
   "cell_type": "code",
   "execution_count": 36,
   "id": "9fd3e0d4-9572-45b8-a148-d10cf0ff2714",
   "metadata": {},
   "outputs": [
    {
     "name": "stdout",
     "output_type": "stream",
     "text": [
      "     Name Age Married\n",
      "1   Alice  25   FALSE\n",
      "2     Bob  35    TRUE\n",
      "3 Charlie  40    TRUE\n"
     ]
    }
   ],
   "source": [
    "# Print the data frame\n",
    "print(people_df)\n"
   ]
  },
  {
   "cell_type": "code",
   "execution_count": 37,
   "id": "b46d8776-3897-4ba2-b2f2-cf6383530c18",
   "metadata": {},
   "outputs": [
    {
     "name": "stdout",
     "output_type": "stream",
     "text": [
      "'data.frame':\t3 obs. of  3 variables:\n",
      " $ Name   : Factor w/ 3 levels \"Alice\",\"Bob\",..: 1 2 3\n",
      " $ Age    : num  25 35 40\n",
      " $ Married: logi  FALSE TRUE TRUE\n"
     ]
    }
   ],
   "source": [
    "# Inspect the structure of the data frame\n",
    "str(people_df)"
   ]
  },
  {
   "cell_type": "code",
   "execution_count": 39,
   "id": "ec835197-fbc6-4897-b0f5-ba7f1ab62478",
   "metadata": {},
   "outputs": [
    {
     "name": "stdout",
     "output_type": "stream",
     "text": [
      "   Min. 1st Qu.  Median    Mean 3rd Qu.    Max. \n",
      "      1       2       3       3       4       5 \n"
     ]
    }
   ],
   "source": [
    "# Generate summary statistics for the numeric vector\n",
    "summary_stats <- summary(numeric_vector)\n",
    "print(summary_stats)\n"
   ]
  },
  {
   "cell_type": "code",
   "execution_count": null,
   "id": "3f46e826-f9e6-43f7-8ace-043bdc7119b3",
   "metadata": {},
   "outputs": [],
   "source": []
  }
 ],
 "metadata": {
  "kernelspec": {
   "display_name": "R",
   "language": "R",
   "name": "ir"
  },
  "language_info": {
   "codemirror_mode": "r",
   "file_extension": ".r",
   "mimetype": "text/x-r-source",
   "name": "R",
   "pygments_lexer": "r",
   "version": "3.6.1"
  }
 },
 "nbformat": 4,
 "nbformat_minor": 5
}
