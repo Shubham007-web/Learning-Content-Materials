{
 "cells": [
  {
   "cell_type": "markdown",
   "id": "76b01cfe-6d07-4ca6-9269-18d060098a89",
   "metadata": {},
   "source": [
    "# Conditions and If Statements (If ... Else)\r\n",
    "R supports the usual logical conditions from mathematics\n",
    "\n",
    "### The if Statement\r",
    "- \n",
    "An \"if statement\" is written with the if keyword, and it is used to specify a block of code to be executed if a condition is TRUE\n",
    "  ::"
   ]
  },
  {
   "cell_type": "code",
   "execution_count": 1,
   "id": "ce5e15e1-f52b-4bb5-91e5-16c504122b44",
   "metadata": {},
   "outputs": [
    {
     "name": "stdout",
     "output_type": "stream",
     "text": [
      "[1] \"b is greater than a\"\n"
     ]
    }
   ],
   "source": [
    "a <- 33\n",
    "b <- 200\n",
    "\n",
    "if (b > a) {\n",
    "  print(\"b is greater than a\")\n",
    "}"
   ]
  },
  {
   "cell_type": "code",
   "execution_count": null,
   "id": "f7fc5fc4-dd6e-4ea8-9b69-c0ad5878f1b0",
   "metadata": {},
   "outputs": [],
   "source": []
  },
  {
   "cell_type": "markdown",
   "id": "5a061042-cdf6-4ec7-9c50-f99993e2884b",
   "metadata": {},
   "source": [
    "### Else If\r\n",
    "The else if keyword is R's way of saying \"if the previous conditions were not true, then try this condition\":"
   ]
  },
  {
   "cell_type": "code",
   "execution_count": 2,
   "id": "707971a3-99fb-4793-809e-4f4d2dd398cd",
   "metadata": {},
   "outputs": [
    {
     "name": "stdout",
     "output_type": "stream",
     "text": [
      "[1] \"a and b are equal\"\n"
     ]
    }
   ],
   "source": [
    "a <- 33\n",
    "b <- 33\n",
    "\n",
    "if (b > a) {\n",
    "  print(\"b is greater than a\")\n",
    "} else if (a == b) {\n",
    "  print (\"a and b are equal\")\n",
    "}"
   ]
  },
  {
   "cell_type": "code",
   "execution_count": null,
   "id": "79d32d4a-b783-433d-a882-2d7b44a1889e",
   "metadata": {},
   "outputs": [],
   "source": []
  },
  {
   "cell_type": "markdown",
   "id": "0045119e-b83e-46e1-b6b9-7089ff50a5b5",
   "metadata": {},
   "source": [
    "## If Else\n",
    "The else keyword catches anything which isn't caught by the preceding conditions:"
   ]
  },
  {
   "cell_type": "code",
   "execution_count": null,
   "id": "c1f121fb-9161-4207-a59b-72dab58fe957",
   "metadata": {},
   "outputs": [],
   "source": []
  },
  {
   "cell_type": "code",
   "execution_count": null,
   "id": "2f0b05ad-0036-4edd-add1-9d3a3a4d7f73",
   "metadata": {},
   "outputs": [],
   "source": []
  },
  {
   "cell_type": "code",
   "execution_count": null,
   "id": "74faa7f6-0ee8-4735-b56e-d7395e9b0708",
   "metadata": {},
   "outputs": [],
   "source": []
  },
  {
   "cell_type": "code",
   "execution_count": null,
   "id": "be8fa058-8d61-49f0-a2cd-6a1e8dd2fcc6",
   "metadata": {},
   "outputs": [],
   "source": []
  },
  {
   "cell_type": "code",
   "execution_count": null,
   "id": "167bb27a-854d-48c0-9146-d7080b6c1cfb",
   "metadata": {},
   "outputs": [],
   "source": []
  },
  {
   "cell_type": "code",
   "execution_count": null,
   "id": "34f02f07-0127-47fa-9f1a-bed8de6e4291",
   "metadata": {},
   "outputs": [],
   "source": []
  },
  {
   "cell_type": "code",
   "execution_count": null,
   "id": "2d3fd7f2-1d75-464b-8aad-77d7be222b96",
   "metadata": {},
   "outputs": [],
   "source": []
  },
  {
   "cell_type": "code",
   "execution_count": null,
   "id": "0caffa0a-f006-4d1e-b246-955f24d568ad",
   "metadata": {},
   "outputs": [],
   "source": []
  },
  {
   "cell_type": "code",
   "execution_count": null,
   "id": "73a19ab6-ce06-4ea6-977f-f933d2a9eef1",
   "metadata": {},
   "outputs": [],
   "source": []
  },
  {
   "cell_type": "code",
   "execution_count": null,
   "id": "79a14411-9caa-4813-a5a7-b0f52a2a927d",
   "metadata": {},
   "outputs": [],
   "source": []
  },
  {
   "cell_type": "code",
   "execution_count": null,
   "id": "ff2274c0-6899-4bdb-ae95-a59e7ac146d3",
   "metadata": {},
   "outputs": [],
   "source": []
  },
  {
   "cell_type": "code",
   "execution_count": null,
   "id": "0d4bd420-32fb-4855-a136-ef2c8ab3a3ed",
   "metadata": {},
   "outputs": [],
   "source": []
  },
  {
   "cell_type": "code",
   "execution_count": null,
   "id": "279bcafe-900f-4e6d-b189-b78b9bfd586c",
   "metadata": {},
   "outputs": [],
   "source": []
  },
  {
   "cell_type": "code",
   "execution_count": null,
   "id": "6e320682-31d6-4f51-9da6-d65aaa8c6fc3",
   "metadata": {},
   "outputs": [],
   "source": []
  },
  {
   "cell_type": "code",
   "execution_count": null,
   "id": "62926d5b-62bb-4174-85a5-7f04ae1269fe",
   "metadata": {},
   "outputs": [],
   "source": []
  },
  {
   "cell_type": "code",
   "execution_count": null,
   "id": "9faa9e9a-4ce0-4b78-b3d9-2b0ae280b229",
   "metadata": {},
   "outputs": [],
   "source": []
  },
  {
   "cell_type": "code",
   "execution_count": null,
   "id": "11ea20d8-d17d-4dcf-b548-c6e0aefa7609",
   "metadata": {},
   "outputs": [],
   "source": []
  },
  {
   "cell_type": "code",
   "execution_count": null,
   "id": "fd2d345e-f4f3-409b-87cb-47ec4a7384ee",
   "metadata": {},
   "outputs": [],
   "source": []
  },
  {
   "cell_type": "code",
   "execution_count": null,
   "id": "a2e16c1d-1753-405b-aa25-6829a62d6b79",
   "metadata": {},
   "outputs": [],
   "source": []
  },
  {
   "cell_type": "code",
   "execution_count": null,
   "id": "7abbf87d-9764-4177-a42b-e985c8bcdbc7",
   "metadata": {},
   "outputs": [],
   "source": []
  },
  {
   "cell_type": "code",
   "execution_count": null,
   "id": "7e2f09d1-f5bb-43df-bc0f-86ecf1d86790",
   "metadata": {},
   "outputs": [],
   "source": []
  },
  {
   "cell_type": "code",
   "execution_count": null,
   "id": "105f2828-a8d6-431f-be63-55adcf5edead",
   "metadata": {},
   "outputs": [],
   "source": []
  },
  {
   "cell_type": "code",
   "execution_count": null,
   "id": "5592fe8a-94b8-4f37-bd90-61891535048f",
   "metadata": {},
   "outputs": [],
   "source": []
  },
  {
   "cell_type": "code",
   "execution_count": null,
   "id": "ea609e71-bc2d-43b0-94db-851c45c196bd",
   "metadata": {},
   "outputs": [],
   "source": []
  },
  {
   "cell_type": "code",
   "execution_count": null,
   "id": "7e150217-721a-4153-9c9e-2970a8034e4a",
   "metadata": {},
   "outputs": [],
   "source": []
  },
  {
   "cell_type": "code",
   "execution_count": null,
   "id": "0bc02cdc-ffc8-48e5-bacc-470dbf17a505",
   "metadata": {},
   "outputs": [],
   "source": []
  },
  {
   "cell_type": "code",
   "execution_count": null,
   "id": "d5a21b21-62e0-4faa-825a-372a32273b08",
   "metadata": {},
   "outputs": [],
   "source": []
  },
  {
   "cell_type": "code",
   "execution_count": null,
   "id": "9ed3ed51-6000-4199-9cb0-6ea2ef27eeb8",
   "metadata": {},
   "outputs": [],
   "source": []
  },
  {
   "cell_type": "code",
   "execution_count": null,
   "id": "7ac39811-7c9e-489f-ab5e-90bb2fccb896",
   "metadata": {},
   "outputs": [],
   "source": []
  },
  {
   "cell_type": "code",
   "execution_count": null,
   "id": "8bc1111e-f99d-4f59-b19d-54c68a32c51b",
   "metadata": {},
   "outputs": [],
   "source": []
  },
  {
   "cell_type": "code",
   "execution_count": null,
   "id": "8100c114-1aa7-4b8d-9d20-4cef2e85b523",
   "metadata": {},
   "outputs": [],
   "source": []
  },
  {
   "cell_type": "code",
   "execution_count": null,
   "id": "4aa9ab4c-85f9-4578-be7d-771a45c2939c",
   "metadata": {},
   "outputs": [],
   "source": []
  },
  {
   "cell_type": "code",
   "execution_count": null,
   "id": "b9c0f8f5-124d-430b-ac4a-e877a0d2386a",
   "metadata": {},
   "outputs": [],
   "source": []
  },
  {
   "cell_type": "code",
   "execution_count": null,
   "id": "ed56bf0b-8254-474c-93da-2270addca1cc",
   "metadata": {},
   "outputs": [],
   "source": []
  },
  {
   "cell_type": "code",
   "execution_count": null,
   "id": "42b3e29e-5844-41c2-8624-83aad8fa650d",
   "metadata": {},
   "outputs": [],
   "source": []
  },
  {
   "cell_type": "code",
   "execution_count": null,
   "id": "b2770765-6b25-469f-b6ba-e4a363b4fb9f",
   "metadata": {},
   "outputs": [],
   "source": []
  },
  {
   "cell_type": "code",
   "execution_count": null,
   "id": "21c79ac0-34f1-4675-8fbd-fc8e66e52d9a",
   "metadata": {},
   "outputs": [],
   "source": []
  },
  {
   "cell_type": "code",
   "execution_count": null,
   "id": "782c60f6-2ded-47d0-9460-c71d992e2a64",
   "metadata": {},
   "outputs": [],
   "source": []
  },
  {
   "cell_type": "code",
   "execution_count": null,
   "id": "31399aaa-87b8-4b34-abed-b9afd5046db7",
   "metadata": {},
   "outputs": [],
   "source": []
  },
  {
   "cell_type": "code",
   "execution_count": null,
   "id": "43367211-dfa8-4dca-99cc-02fdba201e3f",
   "metadata": {},
   "outputs": [],
   "source": []
  }
 ],
 "metadata": {
  "kernelspec": {
   "display_name": "R",
   "language": "R",
   "name": "ir"
  },
  "language_info": {
   "codemirror_mode": "r",
   "file_extension": ".r",
   "mimetype": "text/x-r-source",
   "name": "R",
   "pygments_lexer": "r",
   "version": "3.6.1"
  }
 },
 "nbformat": 4,
 "nbformat_minor": 5
}
