{
 "cells": [
  {
   "cell_type": "markdown",
   "id": "dd5b68d9-6f58-4cf1-886e-4cac5576f0bb",
   "metadata": {},
   "source": [
    "## Data Manipulation with dplyr and tidyr\n",
    "1. Introduction to Tidyverse\n",
    "   - 1.1 Overview of the Tidyverse package\n",
    "   - 1.2 Loading Tidyverse packages (`dplyr`, `tidyr`)\n",
    "\n",
    "2. Data Manipulation with dplyr\n",
    "   - 2.1 Selecting columns (`select`)\n",
    "   - 2.2 Filtering rows (`filter`)\n",
    "   - 2.3 Arranging rows (`arrange`)\n",
    "   - 2.4 Creating new columns (`mutate`)\n",
    "   - 2.5 Summarizing data (`summarize`)\n",
    "   - 2.6 Grouped operations (`group_by`)\n",
    "\n",
    "\n",
    "3. Data Tidying with tidyr\n",
    "   - 3.1 Reshaping data (`gather`, `spread`)\n",
    "   - 3.2 Separating and uniting columns (`separate`, `unite`)\n",
    "\n",
    "4. Practical Exercise:\n",
    "   - 4.1 Use `dplyr` to manipulate a sample dataset\n",
    "   - 4.2 Use `tidyr` to tidy a messy dataset\n"
   ]
  },
  {
   "cell_type": "markdown",
   "id": "422e929a-bdd7-4c3c-93fd-fe139c5ea6ca",
   "metadata": {},
   "source": [
    "## Introduction to Tidyverse\n",
    "### 1.1 Overview of the Tidyverse package:\n",
    "The Tidyverse is a collection of R packages designed for data science. It emphasizes tidy data principles, which advocate for organizing data in a standardized format for ease of analysis. Key packages in the Tidyverse include dplyr, tidyr, ggplot2, and readr, among others.  \n",
    "\n",
    "## 1.2 Loading Tidyverse packages (dplyr, tidyr):\n",
    "Before using the functions in dplyr and tidyr, you need to load the packages into your R session. This can be done using the library() function: r\n",
    "\n",
    "```r\n",
    "# Load Tidyverse packages\r\n",
    "library(dplyr)\r\n",
    "library(tidy)\r\n"
   ]
  },
  {
   "cell_type": "code",
   "execution_count": null,
   "id": "e0f99569-b4de-45a5-b61c-88dc3e6ef492",
   "metadata": {},
   "outputs": [],
   "source": [
    "# !install.packages(\"dplyr\")\n",
    "!chooseCRANmirror(ind=1)  # Choose a different mirror index"
   ]
  },
  {
   "cell_type": "code",
   "execution_count": null,
   "id": "77b904e6-0113-4e0e-a966-94c16fe31df4",
   "metadata": {},
   "outputs": [],
   "source": [
    "chooseCRANmirror(ind=1)  # Choose a different mirror index"
   ]
  },
  {
   "cell_type": "code",
   "execution_count": null,
   "id": "a3b8a694-030f-4a98-ba3a-ad7998ae8933",
   "metadata": {},
   "outputs": [],
   "source": [
    "install.packages(\"dplyr\", type = \"source\")"
   ]
  },
  {
   "cell_type": "code",
   "execution_count": null,
   "id": "c2769930-efd4-44b7-949b-2f235d5c0f2f",
   "metadata": {},
   "outputs": [],
   "source": [
    "install.packages(c(\"fansi\", \"utf8\", \"pkgconfig\", \"withr\", \"cli\", \"generics\", \"glue\", \"lifecycle\", \"magrittr\", \"pillar\", \"R6\", \"rlang\", \"tibble\", \"tidyselect\", \"vctrs\"), type = \"source\")"
   ]
  },
  {
   "cell_type": "code",
   "execution_count": null,
   "id": "15c67fcd-6c9d-477e-96b0-7cd07c7874ba",
   "metadata": {},
   "outputs": [],
   "source": [
    "install.packages(\"dplyr\")"
   ]
  },
  {
   "cell_type": "code",
   "execution_count": null,
   "id": "12e00c5c-89fa-44cd-b690-4ffb73107d8c",
   "metadata": {},
   "outputs": [],
   "source": [
    "# .libPaths()\n",
    "options(repos = c(MRAN = \"https://mran.microsoft.com/snapshot/YYYY-MM-DD\"))"
   ]
  },
  {
   "cell_type": "code",
   "execution_count": 1,
   "id": "61eacd9c-35bc-4cfe-8e96-de2ca331ad37",
   "metadata": {},
   "outputs": [
    {
     "ename": "ERROR",
     "evalue": "Error in library(dplyr): there is no package called 'dplyr'\n",
     "output_type": "error",
     "traceback": [
      "Error in library(dplyr): there is no package called 'dplyr'\nTraceback:\n",
      "1. library(dplyr)"
     ]
    }
   ],
   "source": [
    "library(dplyr)\n",
    "# library(tidy)"
   ]
  },
  {
   "cell_type": "markdown",
   "id": "17395012-ae42-479a-ba4b-94f0aa0ca757",
   "metadata": {},
   "source": [
    "## Data Manipulation with dplyr\n",
    "### 2.1 Selecting columns (select):\n",
    "The select() function is used to choose specific columns from a data frame. It accepts column names or expressions to select columns based on specific criteria.\n"
   ]
  },
  {
   "cell_type": "code",
   "execution_count": null,
   "id": "ae73b2c9-1b0f-432c-b969-abec5f68f7d1",
   "metadata": {},
   "outputs": [],
   "source": [
    "hjvb"
   ]
  }
 ],
 "metadata": {
  "kernelspec": {
   "display_name": "R",
   "language": "R",
   "name": "ir"
  },
  "language_info": {
   "codemirror_mode": "r",
   "file_extension": ".r",
   "mimetype": "text/x-r-source",
   "name": "R",
   "pygments_lexer": "r",
   "version": "3.6.1"
  }
 },
 "nbformat": 4,
 "nbformat_minor": 5
}
