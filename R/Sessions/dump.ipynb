{
 "cells": [
  {
   "cell_type": "markdown",
   "id": "33b14bed-026f-4e0f-a433-8f65aaaf1bb2",
   "metadata": {},
   "source": [
    " \n",
    "## R \n",
    "\n",
    "- R is a programming language.\n",
    "\n",
    "- R is often used for statistical computing and graphical presentation to analyze and visualize data.\n",
    "- R is a popular programming language used for statistical computing and graphical presentation.\n",
    "- Its most common use is to analyze and visualize data.\n",
    "\n",
    "\n"
   ]
  },
  {
   "cell_type": "markdown",
   "id": "07ea66b4-5d28-4587-9df2-d2085c0c1e5a",
   "metadata": {},
   "source": [
    "### Why Use R?\n",
    "- It is a great resource for data analysis, data visualization, data science and machine learning\n",
    "- It provides many statistical techniques (such as statistical tests, classification, clustering and data reduction)\n",
    "- It is easy to draw graphs in R, like pie charts, histograms, box plot, scatter plot, etc++\n",
    "- It works on different platforms (Windows, Mac, Linux)\n",
    "- It is open-source and free\n",
    "- It has a large community support\n",
    "- It has many packages (libraries of functions) that can be used to solve different problems"
   ]
  },
  {
   "cell_type": "code",
   "execution_count": 2,
   "id": "7a76d260-9147-4caf-a8de-b2fe646e316c",
   "metadata": {},
   "outputs": [
    {
     "data": {
      "text/html": [
       "11"
      ],
      "text/latex": [
       "11"
      ],
      "text/markdown": [
       "11"
      ],
      "text/plain": [
       "[1] 11"
      ]
     },
     "metadata": {},
     "output_type": "display_data"
    }
   ],
   "source": [
    "# basic arthimatic operations\n",
    "6 + 5"
   ]
  },
  {
   "cell_type": "code",
   "execution_count": 3,
   "id": "04a1c0ed-31d6-4b96-bbfd-0a5f20065f55",
   "metadata": {},
   "outputs": [
    {
     "data": {
      "text/html": [
       "243"
      ],
      "text/latex": [
       "243"
      ],
      "text/markdown": [
       "243"
      ],
      "text/plain": [
       "[1] 243"
      ]
     },
     "metadata": {},
     "output_type": "display_data"
    }
   ],
   "source": [
    "3 **5"
   ]
  },
  {
   "cell_type": "code",
   "execution_count": 4,
   "id": "34795820-7dbc-49df-bebf-ce3a1dd3ccac",
   "metadata": {},
   "outputs": [
    {
     "data": {
      "text/html": [
       "4"
      ],
      "text/latex": [
       "4"
      ],
      "text/markdown": [
       "4"
      ],
      "text/plain": [
       "[1] 4"
      ]
     },
     "metadata": {},
     "output_type": "display_data"
    }
   ],
   "source": [
    "2 ^2"
   ]
  },
  {
   "cell_type": "code",
   "execution_count": 6,
   "id": "1a2e6f68-198a-42b4-ae91-0645f0ff7802",
   "metadata": {},
   "outputs": [
    {
     "data": {
      "text/html": [
       "15.5"
      ],
      "text/latex": [
       "15.5"
      ],
      "text/markdown": [
       "15.5"
      ],
      "text/plain": [
       "[1] 15.5"
      ]
     },
     "metadata": {},
     "output_type": "display_data"
    }
   ],
   "source": [
    "31 / 2"
   ]
  },
  {
   "cell_type": "markdown",
   "id": "42c244d8-b9ef-420d-bf73-6f0bf3a3586a",
   "metadata": {},
   "source": [
    "### R sytanx\n",
    "-  text in R, use single or double quotes:"
   ]
  },
  {
   "cell_type": "code",
   "execution_count": 7,
   "id": "d52e4545-a9f9-4957-9eb5-5db21e7c55d4",
   "metadata": {},
   "outputs": [
    {
     "data": {
      "text/html": [
       "'Hello World'"
      ],
      "text/latex": [
       "'Hello World'"
      ],
      "text/markdown": [
       "'Hello World'"
      ],
      "text/plain": [
       "[1] \"Hello World\""
      ]
     },
     "metadata": {},
     "output_type": "display_data"
    }
   ],
   "source": [
    "\"Hello World\""
   ]
  },
  {
   "cell_type": "code",
   "execution_count": 8,
   "id": "62f5e7c7-6b8e-436a-956d-582877c4d25f",
   "metadata": {},
   "outputs": [
    {
     "data": {
      "text/html": [
       "'Hello world'"
      ],
      "text/latex": [
       "'Hello world'"
      ],
      "text/markdown": [
       "'Hello world'"
      ],
      "text/plain": [
       "[1] \"Hello world\""
      ]
     },
     "metadata": {},
     "output_type": "display_data"
    }
   ],
   "source": [
    "'Hello world'"
   ]
  },
  {
   "cell_type": "markdown",
   "id": "1d1fc6fc-7201-4965-b359-804f217021ea",
   "metadata": {},
   "source": [
    "- numbers, just type the number (without quotes):"
   ]
  },
  {
   "cell_type": "code",
   "execution_count": 9,
   "id": "4c9aa466-c135-41c5-bc24-5bd1d2e751b6",
   "metadata": {},
   "outputs": [
    {
     "data": {
      "text/html": [
       "6"
      ],
      "text/latex": [
       "6"
      ],
      "text/markdown": [
       "6"
      ],
      "text/plain": [
       "[1] 6"
      ]
     },
     "metadata": {},
     "output_type": "display_data"
    }
   ],
   "source": [
    "6 "
   ]
  },
  {
   "cell_type": "code",
   "execution_count": 10,
   "id": "beea3f85-17c7-4095-bc3c-7dd5fe60fa20",
   "metadata": {},
   "outputs": [
    {
     "data": {
      "text/html": [
       "15"
      ],
      "text/latex": [
       "15"
      ],
      "text/markdown": [
       "15"
      ],
      "text/plain": [
       "[1] 15"
      ]
     },
     "metadata": {},
     "output_type": "display_data"
    }
   ],
   "source": [
    "7 +8"
   ]
  },
  {
   "cell_type": "markdown",
   "id": "5c74b6ad-c964-4e6a-a100-7415dde262d2",
   "metadata": {},
   "source": [
    "**Print**\r",
    "- \n",
    "Unlike many other programming languages, you can output code in R without using a print function:"
   ]
  },
  {
   "cell_type": "code",
   "execution_count": 11,
   "id": "7a426421-b9ff-417b-b96e-5bf0a9115d2d",
   "metadata": {},
   "outputs": [
    {
     "data": {
      "text/html": [
       "'hello'"
      ],
      "text/latex": [
       "'hello'"
      ],
      "text/markdown": [
       "'hello'"
      ],
      "text/plain": [
       "[1] \"hello\""
      ]
     },
     "metadata": {},
     "output_type": "display_data"
    }
   ],
   "source": [
    "\"hello\""
   ]
  },
  {
   "cell_type": "markdown",
   "id": "9e3837b9-a5a0-4f29-8d50-06af342c90c7",
   "metadata": {},
   "source": [
    "- However, R does have a print() function available if you want to use it. This might be useful if you are familiar with other programming languages, such as Python, which often uses the print() function to output code."
   ]
  },
  {
   "cell_type": "code",
   "execution_count": 12,
   "id": "0f3ab0e1-795d-40a4-8375-5d5943009ef4",
   "metadata": {},
   "outputs": [
    {
     "name": "stdout",
     "output_type": "stream",
     "text": [
      "[1] \"hello\"\n"
     ]
    }
   ],
   "source": [
    "print(\"hello\")"
   ]
  },
  {
   "cell_type": "code",
   "execution_count": 22,
   "id": "17400c45-cd5f-45b7-87fd-cc9524036f49",
   "metadata": {},
   "outputs": [
    {
     "name": "stdout",
     "output_type": "stream",
     "text": [
      "[1] 1\n",
      "[1] 2\n",
      "[1] 3\n",
      "[1] 4\n",
      "[1] 5\n"
     ]
    }
   ],
   "source": [
    "#ex1\n",
    "for (x in 1:5) {\n",
    "    print(x)\n",
    "    }"
   ]
  },
  {
   "cell_type": "markdown",
   "id": "70b4ebbf-b50b-4b7d-b71f-61901def5781",
   "metadata": {},
   "source": [
    "**Comments**\r",
    "- \n",
    "Comments can be used to explain R code, and to make it more readable. It can also be used to prevent execution when testing alternative code.- \n",
    "\r\n",
    "Comments starts with a #. When executing code, R will ignore anything that starts with #."
   ]
  },
  {
   "cell_type": "code",
   "execution_count": 23,
   "id": "27c6044a-51d4-4d6a-9fec-b23cbd8e42bd",
   "metadata": {},
   "outputs": [],
   "source": [
    "# this is comment line"
   ]
  },
  {
   "cell_type": "code",
   "execution_count": 24,
   "id": "007b55c5-e5de-43fe-aafd-9241bede865f",
   "metadata": {},
   "outputs": [],
   "source": [
    "# for the multiline comment\n",
    "# we used # sign only"
   ]
  },
  {
   "cell_type": "markdown",
   "id": "e4885f15-abab-4e98-8999-e9b8b0f9a9e1",
   "metadata": {},
   "source": [
    "## R Variables "
   ]
  },
  {
   "cell_type": "markdown",
   "id": "b9f4e73c-d31f-4eef-8670-022ed12a5c05",
   "metadata": {},
   "source": [
    "### Creating Variables in R\r\n",
    " \n",
    "Variables are containers for storing data values.\r",
    " \r\n",
    "R does not have a command for declaring a variable. A variable is created the moment you first assign a value to it. To assign a value to a variable, use the <- sign. To output (or print) the variable value, just type the variable name:"
   ]
  },
  {
   "cell_type": "code",
   "execution_count": 65,
   "id": "41bedfe1-1c40-4a5b-8a3c-c45f40ac30f2",
   "metadata": {},
   "outputs": [],
   "source": [
    "name <- \"Shubham\"\n",
    "age <- 57"
   ]
  },
  {
   "cell_type": "code",
   "execution_count": 66,
   "id": "dea7ee9c-7bc0-4de2-b8ca-adc8a21deb50",
   "metadata": {},
   "outputs": [
    {
     "data": {
      "text/html": [
       "'Shubham'"
      ],
      "text/latex": [
       "'Shubham'"
      ],
      "text/markdown": [
       "'Shubham'"
      ],
      "text/plain": [
       "[1] \"Shubham\""
      ]
     },
     "metadata": {},
     "output_type": "display_data"
    }
   ],
   "source": [
    "name  #auto-print the value of the name variable"
   ]
  },
  {
   "cell_type": "code",
   "execution_count": 67,
   "id": "acdca9d3-b02d-4d5b-be19-8ca6f02ac047",
   "metadata": {},
   "outputs": [
    {
     "data": {
      "text/html": [
       "57"
      ],
      "text/latex": [
       "57"
      ],
      "text/markdown": [
       "57"
      ],
      "text/plain": [
       "[1] 57"
      ]
     },
     "metadata": {},
     "output_type": "display_data"
    }
   ],
   "source": [
    "age"
   ]
  },
  {
   "cell_type": "code",
   "execution_count": 68,
   "id": "c65c1d6d-4f69-43d3-ac5d-2c095ad3b4a4",
   "metadata": {},
   "outputs": [
    {
     "data": {
      "text/html": [
       "'shubh'"
      ],
      "text/latex": [
       "'shubh'"
      ],
      "text/markdown": [
       "'shubh'"
      ],
      "text/plain": [
       "[1] \"shubh\""
      ]
     },
     "metadata": {},
     "output_type": "display_data"
    }
   ],
   "source": [
    "nam1 = \"shubh\"\n",
    "nam1"
   ]
  },
  {
   "cell_type": "markdown",
   "id": "2c5a571a-39fc-41e5-8263-db69c9fadcf9",
   "metadata": {},
   "source": [
    "**Note**\n",
    "- In other programming language, it is common to use = as an assignment operator. In R, we can use both = and <- as assignment operators.\n",
    "\n",
    "- However, <- is preferred in most cases because the = operator can be forbidden in some context in R.\n",
    "- And there are times you must use the print() function to output code, for example when working with for loops"
   ]
  },
  {
   "cell_type": "code",
   "execution_count": 69,
   "id": "3b2cf1a2-fd0d-430d-9084-02f3c5451283",
   "metadata": {},
   "outputs": [
    {
     "name": "stdout",
     "output_type": "stream",
     "text": [
      "[1] 1\n",
      "[1] 2\n",
      "[1] 3\n",
      "[1] 4\n",
      "[1] 5\n",
      "[1] 6\n",
      "[1] 7\n",
      "[1] 8\n",
      "[1] 9\n",
      "[1] 10\n"
     ]
    }
   ],
   "source": [
    "for (x in 1:10) {\n",
    "  print(x)\n",
    "}"
   ]
  },
  {
   "cell_type": "markdown",
   "id": "a02fa30b-86bf-48ba-9fd6-bcdb01d9221f",
   "metadata": {},
   "source": [
    "### Concatenate Elements\n",
    "\n",
    "- You can also concatenate, or join, two or more elements, by using the paste() function.\r\n",
    "- \r\n",
    "To combine both text and a variable, R uses comma (,):"
   ]
  },
  {
   "cell_type": "code",
   "execution_count": 70,
   "id": "c5d6fb0b-05d4-467d-92b6-00b85915ddb0",
   "metadata": {},
   "outputs": [
    {
     "data": {
      "text/html": [
       "<span style=white-space:pre-wrap>'My name is  Shubham'</span>"
      ],
      "text/latex": [
       "'My name is  Shubham'"
      ],
      "text/markdown": [
       "<span style=white-space:pre-wrap>'My name is  Shubham'</span>"
      ],
      "text/plain": [
       "[1] \"My name is  Shubham\""
      ]
     },
     "metadata": {},
     "output_type": "display_data"
    }
   ],
   "source": [
    "name <- \"Shubham\"\n",
    "\n",
    "paste(\"My name is \", name)"
   ]
  },
  {
   "cell_type": "code",
   "execution_count": 73,
   "id": "944cc087-f293-4cda-8cdd-37bddc805256",
   "metadata": {},
   "outputs": [],
   "source": [
    "age <- 57\n",
    "course <- \"R and data analysis with R\""
   ]
  },
  {
   "cell_type": "code",
   "execution_count": 74,
   "id": "987e62d2-d691-4c0a-a395-6dbaaeefef48",
   "metadata": {},
   "outputs": [
    {
     "data": {
      "text/html": [
       "<span style=white-space:pre-wrap>'My name is  Shubham and I am  57 R and data analysis with R'</span>"
      ],
      "text/latex": [
       "'My name is  Shubham and I am  57 R and data analysis with R'"
      ],
      "text/markdown": [
       "<span style=white-space:pre-wrap>'My name is  Shubham and I am  57 R and data analysis with R'</span>"
      ],
      "text/plain": [
       "[1] \"My name is  Shubham and I am  57 R and data analysis with R\""
      ]
     },
     "metadata": {},
     "output_type": "display_data"
    }
   ],
   "source": [
    "paste(\"My name is \", name,\"and I am \",age, course)"
   ]
  },
  {
   "cell_type": "markdown",
   "id": "a5d2b6f0-5ac8-4a10-9c40-55e15376adbe",
   "metadata": {},
   "source": [
    "Note : There are some mathematical operator in R:  \n",
    "\n",
    "- Addition: `+` - Subtraction: `-` - Multiplication: `*` - Division: `/` - Exponentiation: `^` - Modulo: `%%` - Floor division: `%/%`\r\n",
    "\n"
   ]
  },
  {
   "cell_type": "code",
   "execution_count": 75,
   "id": "1e5c888a-ef81-46d8-8892-e8f82437a12f",
   "metadata": {},
   "outputs": [
    {
     "data": {
      "text/html": [
       "3"
      ],
      "text/latex": [
       "3"
      ],
      "text/markdown": [
       "3"
      ],
      "text/plain": [
       "[1] 3"
      ]
     },
     "metadata": {},
     "output_type": "display_data"
    }
   ],
   "source": [
    "15 %% 4"
   ]
  },
  {
   "cell_type": "code",
   "execution_count": 76,
   "id": "1a917233-7f37-432f-9456-a24aac64a89d",
   "metadata": {},
   "outputs": [
    {
     "data": {
      "text/html": [
       "3"
      ],
      "text/latex": [
       "3"
      ],
      "text/markdown": [
       "3"
      ],
      "text/plain": [
       "[1] 3"
      ]
     },
     "metadata": {},
     "output_type": "display_data"
    }
   ],
   "source": [
    "15 %/% 4"
   ]
  },
  {
   "cell_type": "markdown",
   "id": "65579adf-fa3e-4182-b760-914d66e706eb",
   "metadata": {},
   "source": [
    "### WAP that can print Simple interest for given  values of P, r, and t"
   ]
  },
  {
   "cell_type": "code",
   "execution_count": 77,
   "id": "906b7650-f806-4d0b-98d3-bcf86135f0d0",
   "metadata": {},
   "outputs": [],
   "source": [
    "p <- 1000\n",
    "r <- 7.5\n",
    "t <- 4"
   ]
  },
  {
   "cell_type": "code",
   "execution_count": 78,
   "id": "7c343438-d31a-4b41-bb30-ba9b423dad6c",
   "metadata": {},
   "outputs": [
    {
     "data": {
      "text/html": [
       "<span style=white-space:pre-wrap>'The SImple Interest :  300'</span>"
      ],
      "text/latex": [
       "'The SImple Interest :  300'"
      ],
      "text/markdown": [
       "<span style=white-space:pre-wrap>'The SImple Interest :  300'</span>"
      ],
      "text/plain": [
       "[1] \"The SImple Interest :  300\""
      ]
     },
     "metadata": {},
     "output_type": "display_data"
    }
   ],
   "source": [
    "SI <- p*r*t/100\n",
    "\n",
    "paste(\"The SImple Interest : \",SI)"
   ]
  },
  {
   "cell_type": "code",
   "execution_count": 79,
   "id": "27da5b06-167b-4f5d-9173-598d0f496f02",
   "metadata": {},
   "outputs": [
    {
     "data": {
      "text/html": [
       "'Shubham'"
      ],
      "text/latex": [
       "'Shubham'"
      ],
      "text/markdown": [
       "'Shubham'"
      ],
      "text/plain": [
       "[1] \"Shubham\""
      ]
     },
     "metadata": {},
     "output_type": "display_data"
    }
   ],
   "source": [
    "name"
   ]
  },
  {
   "cell_type": "code",
   "execution_count": 80,
   "id": "cc35ceae-f48a-4576-8aa7-4dc0fb237ddb",
   "metadata": {},
   "outputs": [
    {
     "data": {
      "text/html": [
       "57"
      ],
      "text/latex": [
       "57"
      ],
      "text/markdown": [
       "57"
      ],
      "text/plain": [
       "[1] 57"
      ]
     },
     "metadata": {},
     "output_type": "display_data"
    }
   ],
   "source": [
    "age"
   ]
  },
  {
   "cell_type": "code",
   "execution_count": 81,
   "id": "0c27700f-85f5-441c-b68c-cdc626a4ea53",
   "metadata": {},
   "outputs": [
    {
     "ename": "ERROR",
     "evalue": "Error in name + age: non-numeric argument to binary operator\n",
     "output_type": "error",
     "traceback": [
      "Error in name + age: non-numeric argument to binary operator\nTraceback:\n"
     ]
    }
   ],
   "source": [
    "name + age"
   ]
  },
  {
   "cell_type": "markdown",
   "id": "e0c9623d-0919-4372-a521-02160635f80b",
   "metadata": {},
   "source": [
    "**Multiple Variables**\n",
    "\r\n",
    "R allows you to assign the same value to multiple variables in one line:"
   ]
  },
  {
   "cell_type": "code",
   "execution_count": 82,
   "id": "ca1b771f-c254-40e3-b12f-cd7f55f92f82",
   "metadata": {},
   "outputs": [],
   "source": [
    "n1 <- n2 <- n3 <- 56"
   ]
  },
  {
   "cell_type": "code",
   "execution_count": 83,
   "id": "6a8b8b56-bfea-4af0-9392-f38acb1d0a18",
   "metadata": {},
   "outputs": [
    {
     "data": {
      "text/html": [
       "56"
      ],
      "text/latex": [
       "56"
      ],
      "text/markdown": [
       "56"
      ],
      "text/plain": [
       "[1] 56"
      ]
     },
     "metadata": {},
     "output_type": "display_data"
    }
   ],
   "source": [
    "n1"
   ]
  },
  {
   "cell_type": "code",
   "execution_count": 84,
   "id": "4bfc3629-6f22-4cc3-a795-d27f77f4fdaa",
   "metadata": {},
   "outputs": [
    {
     "data": {
      "text/html": [
       "'56 56 56'"
      ],
      "text/latex": [
       "'56 56 56'"
      ],
      "text/markdown": [
       "'56 56 56'"
      ],
      "text/plain": [
       "[1] \"56 56 56\""
      ]
     },
     "metadata": {},
     "output_type": "display_data"
    }
   ],
   "source": [
    "paste(n1, n2, n3)"
   ]
  },
  {
   "cell_type": "markdown",
   "id": "3b46d5e5-259e-481b-aac3-c16aa6dd9b9d",
   "metadata": {},
   "source": [
    "### Variable Names\r",
    " \n",
    "    - A variable can have a short name (like x and y) or a more descriptive name (age, carname, total_volume). Rules for R variables are:- \r",
    "   -  \n",
    "A variable name must start with a letter and can be a combination of letters, digits, period(.)    \r\n",
    "and underscore(_). If it starts with period(.), it cannot be followed by a digi- t    - .\r\n",
    "A variable name cannot start with a number or underscore - (    - _)\r\n",
    "Variable names are case-sensitive (age, Age and AGE are three different variab- l    - es)\r\n",
    "Reserved words cannot be used as variables (TRUE, FALSE, NULL, if...)"
   ]
  },
  {
   "cell_type": "raw",
   "id": "d8e27030-6439-434a-b3a0-d2d9eb36fc87",
   "metadata": {},
   "source": [
    "#Legal variable names:\n",
    "myvar <- \"John\"\n",
    "my_var <- \"John\"\n",
    "myVar <- \"John\"\n",
    "MYVAR <- \"John\"\n",
    "myvar2 <- \"John\"\n",
    ".myvar <- \"John\"\n",
    "\n",
    "# Illegal variable names:\n",
    "2myvar <- \"John\"\n",
    "my-var <- \"John\"\n",
    "my var <- \"John\"\n",
    "_my_var <- \"John\"\n",
    "my_v@ar <- \"John\"\n",
    "TRUE <- \"John\""
   ]
  },
  {
   "cell_type": "markdown",
   "id": "36b00880-edab-4535-b1c4-5850419869ed",
   "metadata": {},
   "source": [
    "### Data Types\r\n",
    "\r\n",
    "In programming, data type is an important concept.\r\n",
    "\r\n",
    "Variables can store data of different types, and different types can do different things.\r\n",
    "\r\n",
    "In R, variables do not need to be declared with any particular type, and can even change type after they have been set:\r\n",
    "\r\n",
    "#### Example\r\n",
    "```r\r\n",
    "my_var <- 30 # my_var is type of numeric\r\n",
    "my_var <- \"Sally\" # my_var is now of type character (aka string)\r\n"
   ]
  },
  {
   "cell_type": "markdown",
   "id": "395e79c2-3c3c-467c-896c-d07f774b21bf",
   "metadata": {},
   "source": [
    "R has a variety of data types and object classes. You will learn much more about these as you continue to get to know R.\r\n",
    "\r\n",
    "### Basic Data Types\r\n",
    "\r\n",
    "Basic data types in R can be divided into the following types:\r\n",
    "\r\n",
    "- **numeric**: Examples include `10.5`, `55`, `787`.\r\n",
    "- **integer**: Examples include `1L`, `55L`, `100L`, where the letter \"L\" declares this as an integer.\r\n",
    "- **complex**: Examples include `9 + 3i`, where \"i\" is the imaginary part.\r\n",
    "- **character (a.k.a. string)**: Examples include `\"k\"`, `\"R is exciting\"`, `\"FALSE\"`, `\"11.5\"`.\r\n",
    "- **logical (a.k.a. boolean)**: Examples include `TRUE` or `FALSE`.\r\n",
    "\r\n",
    "We can use the `class()` function to check the data type of a variable:\r\n",
    "```r\r\n",
    "class(my_var)\r\n"
   ]
  },
  {
   "cell_type": "code",
   "execution_count": null,
   "id": "3c8d966d-9a6e-479c-a58f-521854bd6fd2",
   "metadata": {},
   "outputs": [],
   "source": []
  },
  {
   "cell_type": "markdown",
   "id": "c43633ea-f14c-477c-8bdb-ae5caa006caa",
   "metadata": {},
   "source": [
    "\n",
    "**input function in R**  \n",
    "\n",
    "In R, there isn't a built-in function like input() as in some other programming languages (e.g., Python) for directly taking user input from the console. However, you can achieve a similar functionality using the **readline()** function."
   ]
  },
  {
   "cell_type": "code",
   "execution_count": 85,
   "id": "a5f143c7-406f-491b-acda-de8161ba104f",
   "metadata": {},
   "outputs": [
    {
     "name": "stdin",
     "output_type": "stream",
     "text": [
      "Enter your input:  5\n"
     ]
    }
   ],
   "source": [
    "# Prompt the user for input\n",
    "user_input <- readline(\"Enter your input: \")\n"
   ]
  },
  {
   "cell_type": "code",
   "execution_count": 86,
   "id": "a5df0450-bf41-40bb-91c6-20c645c35305",
   "metadata": {},
   "outputs": [
    {
     "name": "stdout",
     "output_type": "stream",
     "text": [
      "[1] \"5\"\n"
     ]
    }
   ],
   "source": [
    "# Print the user's input\n",
    "print(user_input)\n"
   ]
  },
  {
   "cell_type": "markdown",
   "id": "f386db7f-59b7-4a36-a420-6e1acf043faf",
   "metadata": {},
   "source": [
    "In R, you can use various functions to convert data types, also known as typecasting. Here's how you can perform typecasting with user input obtained using readline():"
   ]
  },
  {
   "cell_type": "code",
   "execution_count": 87,
   "id": "87362bff-01fd-4f8a-b4a5-a4bd0510003e",
   "metadata": {},
   "outputs": [
    {
     "data": {
      "text/html": [
       "'numeric'"
      ],
      "text/latex": [
       "'numeric'"
      ],
      "text/markdown": [
       "'numeric'"
      ],
      "text/plain": [
       "[1] \"numeric\""
      ]
     },
     "metadata": {},
     "output_type": "display_data"
    }
   ],
   "source": [
    "num <- 54\n",
    "class(num)"
   ]
  },
  {
   "cell_type": "code",
   "execution_count": 88,
   "id": "27196585-e736-425f-bb69-24ae4ca2620f",
   "metadata": {},
   "outputs": [
    {
     "data": {
      "text/html": [
       "'integer'"
      ],
      "text/latex": [
       "'integer'"
      ],
      "text/markdown": [
       "'integer'"
      ],
      "text/plain": [
       "[1] \"integer\""
      ]
     },
     "metadata": {},
     "output_type": "display_data"
    }
   ],
   "source": [
    "int <- 45L\n",
    "class(int)"
   ]
  },
  {
   "cell_type": "code",
   "execution_count": 89,
   "id": "65a2cdc6-fd1a-4139-bb40-a54ceb2a6432",
   "metadata": {},
   "outputs": [
    {
     "data": {
      "text/html": [
       "'complex'"
      ],
      "text/latex": [
       "'complex'"
      ],
      "text/markdown": [
       "'complex'"
      ],
      "text/plain": [
       "[1] \"complex\""
      ]
     },
     "metadata": {},
     "output_type": "display_data"
    }
   ],
   "source": [
    "z <- 3 + 4i\n",
    "class(z)"
   ]
  },
  {
   "cell_type": "code",
   "execution_count": 90,
   "id": "bc820c45-72a5-4ae1-bf11-2db2ad16187c",
   "metadata": {},
   "outputs": [
    {
     "data": {
      "text/html": [
       "'This is just dummy text'"
      ],
      "text/latex": [
       "'This is just dummy text'"
      ],
      "text/markdown": [
       "'This is just dummy text'"
      ],
      "text/plain": [
       "[1] \"This is just dummy text\""
      ]
     },
     "metadata": {},
     "output_type": "display_data"
    }
   ],
   "source": [
    "ch <- \"This is just dummy text\"\n",
    "ch"
   ]
  },
  {
   "cell_type": "code",
   "execution_count": 91,
   "id": "f9b2d67d-7df1-4c4d-8f44-1ceaa130ed31",
   "metadata": {},
   "outputs": [
    {
     "data": {
      "text/html": [
       "'character'"
      ],
      "text/latex": [
       "'character'"
      ],
      "text/markdown": [
       "'character'"
      ],
      "text/plain": [
       "[1] \"character\""
      ]
     },
     "metadata": {},
     "output_type": "display_data"
    }
   ],
   "source": [
    "class(ch)"
   ]
  },
  {
   "cell_type": "code",
   "execution_count": 92,
   "id": "f2b30835-bc31-4c68-b214-447a35334162",
   "metadata": {},
   "outputs": [
    {
     "data": {
      "text/html": [
       "TRUE"
      ],
      "text/latex": [
       "TRUE"
      ],
      "text/markdown": [
       "TRUE"
      ],
      "text/plain": [
       "[1] TRUE"
      ]
     },
     "metadata": {},
     "output_type": "display_data"
    }
   ],
   "source": [
    "l <- TRUE\n",
    "l"
   ]
  },
  {
   "cell_type": "code",
   "execution_count": 93,
   "id": "b86e529a-dda6-4f59-bb61-0fab8cf2c21f",
   "metadata": {},
   "outputs": [
    {
     "data": {
      "text/html": [
       "'logical'"
      ],
      "text/latex": [
       "'logical'"
      ],
      "text/markdown": [
       "'logical'"
      ],
      "text/plain": [
       "[1] \"logical\""
      ]
     },
     "metadata": {},
     "output_type": "display_data"
    }
   ],
   "source": [
    "class(l)"
   ]
  },
  {
   "cell_type": "markdown",
   "id": "63611c1a-e1ed-4032-b5b3-f9c6dd492ee1",
   "metadata": {},
   "source": [
    "## Type Casting\n",
    "\n",
    "- Changing data type\n",
    "\n",
    "- In R, you can use various functions to convert data types, also known as typecasting. Here's how you can perform typecasting with user input obtained using deadline\n",
    "\n",
    "**1.To Numeric (Double):**\n",
    "- Use the **`as.numeric()`** function."
   ]
  },
  {
   "cell_type": "code",
   "execution_count": 94,
   "id": "9a5724cc-f47f-40ba-8725-72caf3abfdd2",
   "metadata": {},
   "outputs": [
    {
     "name": "stdin",
     "output_type": "stream",
     "text": [
      "Enter a numeric value:  55\n"
     ]
    },
    {
     "data": {
      "text/html": [
       "'55'"
      ],
      "text/latex": [
       "'55'"
      ],
      "text/markdown": [
       "'55'"
      ],
      "text/plain": [
       "[1] \"55\""
      ]
     },
     "metadata": {},
     "output_type": "display_data"
    },
    {
     "data": {
      "text/html": [
       "'character'"
      ],
      "text/latex": [
       "'character'"
      ],
      "text/markdown": [
       "'character'"
      ],
      "text/plain": [
       "[1] \"character\""
      ]
     },
     "metadata": {},
     "output_type": "display_data"
    }
   ],
   "source": [
    "# Prompt the user for input\n",
    "user_input <- readline(\"Enter a numeric value: \")\n",
    "\n",
    "user_input\n",
    "class(user_input)\n"
   ]
  },
  {
   "cell_type": "code",
   "execution_count": 97,
   "id": "9e61e8b8-8b84-401e-9b31-5f158510ae33",
   "metadata": {},
   "outputs": [
    {
     "data": {
      "text/html": [
       "55"
      ],
      "text/latex": [
       "55"
      ],
      "text/markdown": [
       "55"
      ],
      "text/plain": [
       "[1] 55"
      ]
     },
     "metadata": {},
     "output_type": "display_data"
    }
   ],
   "source": [
    "# Convert input to numeric\n",
    "numeric_input <- as.numeric(user_input)\n",
    "\n",
    "numeric_input\n"
   ]
  },
  {
   "cell_type": "code",
   "execution_count": 98,
   "id": "a28eb62d-9261-463e-9c86-9152754758fa",
   "metadata": {},
   "outputs": [
    {
     "data": {
      "text/html": [
       "'numeric'"
      ],
      "text/latex": [
       "'numeric'"
      ],
      "text/markdown": [
       "'numeric'"
      ],
      "text/plain": [
       "[1] \"numeric\""
      ]
     },
     "metadata": {},
     "output_type": "display_data"
    }
   ],
   "source": [
    "class(numeric_input)"
   ]
  },
  {
   "cell_type": "code",
   "execution_count": null,
   "id": "751448fb-6944-47ff-925c-ff8a6cb97352",
   "metadata": {},
   "outputs": [],
   "source": []
  },
  {
   "cell_type": "markdown",
   "id": "d399f827-8e5f-4833-b708-b5263cc788eb",
   "metadata": {},
   "source": [
    "**2. To Integer:** Use the as.integer() function."
   ]
  },
  {
   "cell_type": "code",
   "execution_count": 99,
   "id": "40dc700b-6931-436e-9262-ee8ce2449a1c",
   "metadata": {},
   "outputs": [
    {
     "name": "stdin",
     "output_type": "stream",
     "text": [
      "x =  44\n"
     ]
    },
    {
     "data": {
      "text/html": [
       "'character'"
      ],
      "text/latex": [
       "'character'"
      ],
      "text/markdown": [
       "'character'"
      ],
      "text/plain": [
       "[1] \"character\""
      ]
     },
     "metadata": {},
     "output_type": "display_data"
    }
   ],
   "source": [
    "x <- readline(\"x = \" )\n",
    "\n",
    "class(x)"
   ]
  },
  {
   "cell_type": "code",
   "execution_count": 101,
   "id": "fc66c2ca-6314-4141-8e18-30ffe6809a45",
   "metadata": {},
   "outputs": [
    {
     "data": {
      "text/html": [
       "44"
      ],
      "text/latex": [
       "44"
      ],
      "text/markdown": [
       "44"
      ],
      "text/plain": [
       "[1] 44"
      ]
     },
     "metadata": {},
     "output_type": "display_data"
    }
   ],
   "source": [
    "x_int = as.integer(x)\n",
    "x_int"
   ]
  },
  {
   "cell_type": "code",
   "execution_count": null,
   "id": "415f7894-07c9-4a20-9a95-0d1f6d0fb227",
   "metadata": {},
   "outputs": [],
   "source": []
  },
  {
   "cell_type": "code",
   "execution_count": null,
   "id": "8e1a9758-452b-450b-8c44-207ccaf2fd25",
   "metadata": {},
   "outputs": [],
   "source": []
  },
  {
   "cell_type": "code",
   "execution_count": null,
   "id": "f58e1a53-cd1f-4f74-b7b1-7287987a3347",
   "metadata": {},
   "outputs": [],
   "source": []
  },
  {
   "cell_type": "code",
   "execution_count": null,
   "id": "c27a76a5-50db-4aa4-a314-9b6194dd8b7b",
   "metadata": {},
   "outputs": [],
   "source": []
  },
  {
   "cell_type": "code",
   "execution_count": null,
   "id": "08a7e15d-ca9a-4aa7-85e2-a0903864d1ab",
   "metadata": {},
   "outputs": [],
   "source": []
  },
  {
   "cell_type": "code",
   "execution_count": null,
   "id": "d5a93423-4205-4976-a86f-c8ef38996340",
   "metadata": {},
   "outputs": [],
   "source": []
  },
  {
   "cell_type": "code",
   "execution_count": null,
   "id": "762a03df-f8c6-43b3-9a81-641ecdc4f5ec",
   "metadata": {},
   "outputs": [],
   "source": []
  },
  {
   "cell_type": "code",
   "execution_count": null,
   "id": "f2c1170c-ba2a-4570-9011-70e7c91ff984",
   "metadata": {},
   "outputs": [],
   "source": []
  },
  {
   "cell_type": "code",
   "execution_count": null,
   "id": "56283f90-cd5e-4074-90fe-30287effceab",
   "metadata": {},
   "outputs": [],
   "source": []
  },
  {
   "cell_type": "code",
   "execution_count": null,
   "id": "89be0dff-c667-46d7-9382-6d677449e6cc",
   "metadata": {},
   "outputs": [],
   "source": []
  },
  {
   "cell_type": "code",
   "execution_count": null,
   "id": "d497def3-f072-48b0-9d16-1fb2cce21286",
   "metadata": {},
   "outputs": [],
   "source": []
  },
  {
   "cell_type": "code",
   "execution_count": null,
   "id": "7d301b47-aa24-4276-9edb-4c733f1c2ba0",
   "metadata": {},
   "outputs": [],
   "source": []
  },
  {
   "cell_type": "code",
   "execution_count": null,
   "id": "afa7923a-fc0f-4b43-bd1e-902fa9d7c6f4",
   "metadata": {},
   "outputs": [],
   "source": []
  },
  {
   "cell_type": "code",
   "execution_count": null,
   "id": "91744b31-7cf3-45fe-ba4c-9cba623b555e",
   "metadata": {},
   "outputs": [],
   "source": []
  },
  {
   "cell_type": "code",
   "execution_count": null,
   "id": "bb3c1911-3163-465e-aa67-ee050e92bd93",
   "metadata": {},
   "outputs": [],
   "source": []
  },
  {
   "cell_type": "code",
   "execution_count": null,
   "id": "c02f5121-d538-4e98-9c89-ab5d6b01d615",
   "metadata": {},
   "outputs": [],
   "source": []
  },
  {
   "cell_type": "code",
   "execution_count": null,
   "id": "34f9305e-716f-44e1-8758-af4c79123c9e",
   "metadata": {},
   "outputs": [],
   "source": []
  },
  {
   "cell_type": "code",
   "execution_count": null,
   "id": "100c8e73-57fa-4278-af71-5b1b5e108992",
   "metadata": {},
   "outputs": [],
   "source": []
  },
  {
   "cell_type": "code",
   "execution_count": null,
   "id": "0c8d3305-4264-44f5-b3d1-46d5b8dd86fa",
   "metadata": {},
   "outputs": [],
   "source": []
  },
  {
   "cell_type": "code",
   "execution_count": null,
   "id": "3821b58f-a7ec-4a59-af1f-d58fa2d3b84a",
   "metadata": {},
   "outputs": [],
   "source": []
  },
  {
   "cell_type": "code",
   "execution_count": null,
   "id": "842681c3-176a-4b39-bd8d-0a3fca7f7caf",
   "metadata": {},
   "outputs": [],
   "source": []
  },
  {
   "cell_type": "code",
   "execution_count": null,
   "id": "88889da1-9687-4ff7-b3b2-6b10b5031019",
   "metadata": {},
   "outputs": [],
   "source": []
  },
  {
   "cell_type": "code",
   "execution_count": null,
   "id": "a773aceb-206b-41a6-9ea2-9496be531599",
   "metadata": {},
   "outputs": [],
   "source": []
  },
  {
   "cell_type": "code",
   "execution_count": null,
   "id": "4457435f-5159-4809-bc79-9161d464603f",
   "metadata": {},
   "outputs": [],
   "source": []
  },
  {
   "cell_type": "code",
   "execution_count": null,
   "id": "be42d79b-82db-475f-be88-b3857c59a3d2",
   "metadata": {},
   "outputs": [],
   "source": []
  },
  {
   "cell_type": "code",
   "execution_count": null,
   "id": "cc044d40-7a3e-4614-a8b3-1ea97b33daf6",
   "metadata": {},
   "outputs": [],
   "source": []
  },
  {
   "cell_type": "code",
   "execution_count": null,
   "id": "bdccc2f1-210d-4602-bf4f-982763e63974",
   "metadata": {},
   "outputs": [],
   "source": []
  }
 ],
 "metadata": {
  "kernelspec": {
   "display_name": "R",
   "language": "R",
   "name": "ir"
  },
  "language_info": {
   "codemirror_mode": "r",
   "file_extension": ".r",
   "mimetype": "text/x-r-source",
   "name": "R",
   "pygments_lexer": "r",
   "version": "3.6.1"
  }
 },
 "nbformat": 4,
 "nbformat_minor": 5
}
