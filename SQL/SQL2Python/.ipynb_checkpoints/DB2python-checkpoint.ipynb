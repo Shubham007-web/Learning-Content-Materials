{
 "cells": [
  {
   "attachments": {},
   "cell_type": "markdown",
   "id": "7094dbef",
   "metadata": {},
   "source": [
    "# Connecting SQLite to Python\n",
    "\n",
    "![image.png](https://pythontic.com/sqlite_attach_db_python.png)\n",
    "\n",
    "- SQLite is a lightweight, file-based SQL database engine that is easy to set up and use. \n",
    "- Python provides a built-in module called **`sqlite3`** that allows seamless integration with SQLite databases.\n",
    "- It enables users to perform SQL operations, such as creating databases, executing queries, and manipulating data, directly from Python code.\n",
    "\n",
    "## Importance in Data Science\n",
    "\n",
    "1. **Data Storage and Retrieval**: SQLite offers an efficient way to store and retrieve structured data, making it suitable for smaller-scale applications or projects where a full-fledged database might be excessive.\n",
    "\n",
    "2. **Data Exploration and Analysis**: Integration with Python allows data scientists and analysts to easily access, manipulate, and analyze data using SQL queries and Python code. It facilitates data exploration before processing or analysis.\n",
    "\n",
    "3. **Prototyping and Development**: For prototyping and developing applications or analytical models, SQLite serves as a convenient and quick-to-set-up database "
   ]
  },
  {
   "cell_type": "markdown",
   "id": "c7d51679",
   "metadata": {},
   "source": [
    "###  Import Libraries\n",
    "- **`sqlite3`**: Library for working with SQLite databases.\n",
    "- **`pandas`**: Library for data manipulation and analysis."
   ]
  },
  {
   "cell_type": "code",
   "execution_count": 1,
   "id": "5df9826d",
   "metadata": {},
   "outputs": [],
   "source": [
    "import sqlite3\n",
    "import pandas as pd"
   ]
  },
  {
   "cell_type": "markdown",
   "id": "1da07997",
   "metadata": {},
   "source": [
    "### Connect to the Database\n",
    "Use **`sqlite3.connect()`** to establish a connection to the SQLite database by providing the database file path."
   ]
  },
  {
   "cell_type": "code",
   "execution_count": 2,
   "id": "b18a8594",
   "metadata": {},
   "outputs": [],
   "source": [
    "database = r\"C:\\Users\\Shubham Soni\\Documents\\SQL\\employees.sqlite\""
   ]
  },
  {
   "cell_type": "code",
   "execution_count": 3,
   "id": "e2b962d2",
   "metadata": {},
   "outputs": [],
   "source": [
    "# Connect to the SQLite database\n",
    "connection =  sqlite3.connect(database)\n"
   ]
  },
  {
   "cell_type": "markdown",
   "id": "d3355692",
   "metadata": {},
   "source": [
    "### Create a Cursor Object\n",
    "Create a cursor object using `connection.cursor()` to execute SQL queries."
   ]
  },
  {
   "cell_type": "code",
   "execution_count": 4,
   "id": "f5d01b09",
   "metadata": {},
   "outputs": [],
   "source": [
    "# Create a cursor object to execute SQL queries\n",
    "cursor = connection.cursor()"
   ]
  },
  {
   "cell_type": "markdown",
   "id": "3e7e0d76",
   "metadata": {},
   "source": [
    "###  Retrieve Data\n",
    "Use `cursor.execute()` to execute an **SQL query (`SELECT * FROM employees`)** to fetch data from the `'employees'` table."
   ]
  },
  {
   "cell_type": "code",
   "execution_count": 5,
   "id": "462c282c",
   "metadata": {},
   "outputs": [],
   "source": [
    "# to update data in the table\n",
    "cursor = connection.cursor()\n",
    "d = cursor.execute('''\n",
    "        SELECT * FROM employees \n",
    "    ''')\n",
    "\n",
    "# Commit the changes\n",
    "connection.commit()\n"
   ]
  },
  {
   "cell_type": "markdown",
   "id": "f9153a66",
   "metadata": {},
   "source": [
    "### Get Column Names\n",
    "Extract column names from the fetched data using `cursor.description`."
   ]
  },
  {
   "cell_type": "code",
   "execution_count": 6,
   "id": "755b7181",
   "metadata": {},
   "outputs": [
    {
     "data": {
      "text/plain": [
       "['id', 'name', 'job', 'mgr', 'hiredate', 'sal', 'comm', 'dept']"
      ]
     },
     "execution_count": 6,
     "metadata": {},
     "output_type": "execute_result"
    }
   ],
   "source": [
    "#Get column names\n",
    "col_names = [x[0] for x in cursor.description]\n",
    "col_names"
   ]
  },
  {
   "cell_type": "code",
   "execution_count": null,
   "id": "e43b5b9e",
   "metadata": {},
   "outputs": [],
   "source": []
  },
  {
   "cell_type": "markdown",
   "id": "875d31b0",
   "metadata": {},
   "source": [
    "### Fetch Data\n",
    "Use `cursor.fetchall()` to retrieve all data from the executed SQL query."
   ]
  },
  {
   "cell_type": "code",
   "execution_count": 7,
   "id": "fb5d0b55",
   "metadata": {},
   "outputs": [],
   "source": [
    "# Step 6: Fetch all the data\n",
    "tables = cursor.fetchall()"
   ]
  },
  {
   "cell_type": "markdown",
   "id": "327fd4ab",
   "metadata": {},
   "source": [
    "### Create a DataFrame\n",
    "Utilize the **fetched data** and **column names** to create a Pandas DataFrame using `pd.DataFrame()` for perform further data analysis ."
   ]
  },
  {
   "cell_type": "code",
   "execution_count": 8,
   "id": "960e5aa9",
   "metadata": {},
   "outputs": [
    {
     "data": {
      "text/html": [
       "<div>\n",
       "<style scoped>\n",
       "    .dataframe tbody tr th:only-of-type {\n",
       "        vertical-align: middle;\n",
       "    }\n",
       "\n",
       "    .dataframe tbody tr th {\n",
       "        vertical-align: top;\n",
       "    }\n",
       "\n",
       "    .dataframe thead th {\n",
       "        text-align: right;\n",
       "    }\n",
       "</style>\n",
       "<table border=\"1\" class=\"dataframe\">\n",
       "  <thead>\n",
       "    <tr style=\"text-align: right;\">\n",
       "      <th></th>\n",
       "      <th>id</th>\n",
       "      <th>name</th>\n",
       "      <th>job</th>\n",
       "      <th>mgr</th>\n",
       "      <th>hiredate</th>\n",
       "      <th>sal</th>\n",
       "      <th>comm</th>\n",
       "      <th>dept</th>\n",
       "    </tr>\n",
       "  </thead>\n",
       "  <tbody>\n",
       "    <tr>\n",
       "      <th>0</th>\n",
       "      <td>1</td>\n",
       "      <td>JOHNSON</td>\n",
       "      <td>ADMIN</td>\n",
       "      <td>6.0</td>\n",
       "      <td>12-17-1990</td>\n",
       "      <td>18000</td>\n",
       "      <td>NaN</td>\n",
       "      <td>4</td>\n",
       "    </tr>\n",
       "    <tr>\n",
       "      <th>1</th>\n",
       "      <td>2</td>\n",
       "      <td>HARDING</td>\n",
       "      <td>MANAGER</td>\n",
       "      <td>9.0</td>\n",
       "      <td>02-02-1998</td>\n",
       "      <td>52000</td>\n",
       "      <td>300.0</td>\n",
       "      <td>3</td>\n",
       "    </tr>\n",
       "    <tr>\n",
       "      <th>2</th>\n",
       "      <td>3</td>\n",
       "      <td>TAFT</td>\n",
       "      <td>SALES I</td>\n",
       "      <td>2.0</td>\n",
       "      <td>01-02-1996</td>\n",
       "      <td>25000</td>\n",
       "      <td>500.0</td>\n",
       "      <td>3</td>\n",
       "    </tr>\n",
       "    <tr>\n",
       "      <th>3</th>\n",
       "      <td>4</td>\n",
       "      <td>HOOVER</td>\n",
       "      <td>SALES I</td>\n",
       "      <td>2.0</td>\n",
       "      <td>04-02-1990</td>\n",
       "      <td>27000</td>\n",
       "      <td>NaN</td>\n",
       "      <td>3</td>\n",
       "    </tr>\n",
       "    <tr>\n",
       "      <th>4</th>\n",
       "      <td>5</td>\n",
       "      <td>LINCOLN</td>\n",
       "      <td>TECH</td>\n",
       "      <td>6.0</td>\n",
       "      <td>06-23-1994</td>\n",
       "      <td>22500</td>\n",
       "      <td>1400.0</td>\n",
       "      <td>4</td>\n",
       "    </tr>\n",
       "  </tbody>\n",
       "</table>\n",
       "</div>"
      ],
      "text/plain": [
       "   id     name      job  mgr    hiredate    sal    comm  dept\n",
       "0   1  JOHNSON    ADMIN  6.0  12-17-1990  18000     NaN     4\n",
       "1   2  HARDING  MANAGER  9.0  02-02-1998  52000   300.0     3\n",
       "2   3     TAFT  SALES I  2.0  01-02-1996  25000   500.0     3\n",
       "3   4   HOOVER  SALES I  2.0  04-02-1990  27000     NaN     3\n",
       "4   5  LINCOLN     TECH  6.0  06-23-1994  22500  1400.0     4"
      ]
     },
     "execution_count": 8,
     "metadata": {},
     "output_type": "execute_result"
    }
   ],
   "source": [
    "#Create a Pandas DataFrame\n",
    "employees_df = pd.DataFrame(tables, columns=col_names)\n",
    "employees_df.head()"
   ]
  },
  {
   "cell_type": "markdown",
   "id": "db84dee0",
   "metadata": {},
   "source": [
    "### Export Data to CSV\n",
    "Save the DataFrame to a CSV file using **to_csv()** method with **index=False** to exclude the index column."
   ]
  },
  {
   "cell_type": "code",
   "execution_count": 10,
   "id": "cebd4016",
   "metadata": {},
   "outputs": [],
   "source": [
    "# Export the data to a CSV file\n",
    "employees_df.to_csv(\"employees.csv\", index=False)"
   ]
  },
  {
   "cell_type": "code",
   "execution_count": null,
   "id": "29d83bef",
   "metadata": {},
   "outputs": [],
   "source": []
  }
 ],
 "metadata": {
  "kernelspec": {
   "display_name": "Python 3 (ipykernel)",
   "language": "python",
   "name": "python3"
  },
  "language_info": {
   "codemirror_mode": {
    "name": "ipython",
    "version": 3
   },
   "file_extension": ".py",
   "mimetype": "text/x-python",
   "name": "python",
   "nbconvert_exporter": "python",
   "pygments_lexer": "ipython3",
   "version": "3.11.3"
  }
 },
 "nbformat": 4,
 "nbformat_minor": 5
}
